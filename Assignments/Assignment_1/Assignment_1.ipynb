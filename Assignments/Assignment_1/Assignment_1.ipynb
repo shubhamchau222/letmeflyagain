{
 "cells": [
  {
   "cell_type": "markdown",
   "metadata": {},
   "source": [
    "## Section 1"
   ]
  },
  {
   "cell_type": "markdown",
   "metadata": {},
   "source": [
    "```\n",
    "1.\tWrite a Python program to print \"Hello Python\"?\n",
    "2.\tWrite a Python program to do arithmetical operations addition and division.?\n",
    "3.\tWrite a Python program to find the area of a triangle?\n",
    "4.\tWrite a Python program to swap two variables?\n",
    "5.\tWrite a Python program to generate a random number?\n",
    "6.\tWrite a Python program to convert kilometres to miles?\n",
    "7.\tWrite a Python program to convert Celsius to Fahrenheit?\n",
    "8.\tWrite a Python program to display calendar?\n",
    "9.\tWrite a Python program to solve quadratic equation?\n",
    "10.\tWrite a Python program to swap two variables without temp variable?\n",
    "\n",
    "```"
   ]
  },
  {
   "cell_type": "code",
   "execution_count": 1,
   "metadata": {},
   "outputs": [
    {
     "name": "stdout",
     "output_type": "stream",
     "text": [
      "Hello Python\n"
     ]
    }
   ],
   "source": [
    "## 1: Hello python \n",
    "print(\"Hello Python\")"
   ]
  },
  {
   "cell_type": "code",
   "execution_count": 6,
   "metadata": {},
   "outputs": [],
   "source": [
    "import random"
   ]
  },
  {
   "cell_type": "code",
   "execution_count": 11,
   "metadata": {},
   "outputs": [
    {
     "data": {
      "text/plain": [
       "0.8066046831089839"
      ]
     },
     "execution_count": 11,
     "metadata": {},
     "output_type": "execute_result"
    }
   ],
   "source": [
    "random.random()\n"
   ]
  },
  {
   "cell_type": "code",
   "execution_count": 32,
   "metadata": {},
   "outputs": [
    {
     "name": "stdout",
     "output_type": "stream",
     "text": [
      "10\n",
      "Give Intergers / floats only....\n",
      "0.25\n",
      "you can't devide by Zero....\n",
      "you can't devide by Zero....\n"
     ]
    }
   ],
   "source": [
    "## 2: Addition & division ops\n",
    "\n",
    "class math_ops:\n",
    "    def sum_ (self, a,b):\n",
    "        try:\n",
    "            print(a + b)\n",
    "            return a + b\n",
    "        except Exception as ValueError:\n",
    "            print(\"Give Intergers / floats only....\")\n",
    "    def devision(self, a,b):\n",
    "        try: \n",
    "            print(a/b)\n",
    "            return a / b\n",
    "        except Exception as ZeroDivisionError:\n",
    "            print(\"you can't devide by Zero....\")\n",
    "        except Exception as ValueError:\n",
    "            print(f\"Give Numbers only....{ValueError}\")\n",
    "    def get_Area_of_triangle(self, base, hight):\n",
    "        try:\n",
    "            print(\"Triangle area=> \", (0.5 * base * hight))\n",
    "        except Exception as ValueError:\n",
    "            print(\"pass Numbers only bhai..\")\n",
    "    def swap_variables(self, a, b):\n",
    "        print(f\"Before swap a = {a}, b = {b}\")\n",
    "        b,a = a , b\n",
    "        print(f\"After swap a = {a}, b = {b}\")\n",
    "\n",
    "    def generate_random_numbers(self):\n",
    "        import random\n",
    "        print(random.random())\n",
    "\n",
    "    def kmTOmiles(self,distance):\n",
    "        try:\n",
    "            miles =  0.621371 * distance\n",
    "            print(f\"{distance} Km = {miles} miles\")\n",
    "        except Exception as ValueError:\n",
    "            print(\"Give numbers\")\n",
    "    def celc_faran(self, tempInCelcious):\n",
    "        try:\n",
    "           print( \"celcious to faran \" , (tempInCelcious * 9/5) + 32, \"Faran\")\n",
    "\n",
    "        except Exception as ValueError:\n",
    "            print(\"Give numbers only..\")\n",
    "\n",
    "    def displayCalender(self, month, year):\n",
    "        print(\"\\n\"*2)\n",
    "        import calendar\n",
    "        cal = calendar.monthcalendar(year, month)\n",
    "        print(calendar.month_name[month], year)\n",
    "     \n",
    "        print(\"Mo Tu We Th Fr Sa Su\")\n",
    "    \n",
    "    \n",
    "        for week in cal:\n",
    "            # Formatting each day in the week. Days that are not part of the current month will be displayed as blanks.\n",
    "            week_str = ' '.join(str(day) if day != 0 else '  ' for day in week)\n",
    "            \n",
    "            print(week_str)\n",
    "\n",
    "    def solveQuadraticEq(self, a ,b ):\n",
    "        print(\"\\n\"* 2 )\n",
    "        try:\n",
    "            print(0.2 *a + 0.4*b)\n",
    "        except Exception as e:\n",
    "            print(e) \n",
    "    \n",
    "\n",
    "## \n",
    "a = math_ops()\n",
    "a.sum_(2,8)\n",
    "a.sum_(\"hey\", 8 )    \n",
    "\n",
    "a.devision(2,8)\n",
    "a.devision(2,0)\n",
    "a.devision(2,\"hey..\")"
   ]
  },
  {
   "cell_type": "code",
   "execution_count": 33,
   "metadata": {},
   "outputs": [
    {
     "name": "stdout",
     "output_type": "stream",
     "text": [
      "Triangle area=>  12.5\n",
      "Before swap a = 5, b = 1\n",
      "After swap a = 1, b = 5\n",
      "0.5426249966044375\n",
      "20 Km = 12.42742 miles\n",
      "celcious to faran  68.0 Faran\n",
      "\n",
      "\n",
      "\n",
      "May 2021\n",
      "Mo Tu We Th Fr Sa Su\n",
      "               1 2\n",
      "3 4 5 6 7 8 9\n",
      "10 11 12 13 14 15 16\n",
      "17 18 19 20 21 22 23\n",
      "24 25 26 27 28 29 30\n",
      "31                  \n",
      "\n",
      "\n",
      "\n",
      "4.800000000000001\n"
     ]
    }
   ],
   "source": [
    "## Python program to find area of triangle\n",
    "a.get_Area_of_triangle(base=5 , hight=5)\n",
    "a.swap_variables(a=5,b=1)\n",
    "a.generate_random_numbers()\n",
    "a.kmTOmiles(distance=20)\n",
    "a.celc_faran(tempInCelcious= 20)\n",
    "a.displayCalender(month=5 , year=2021)\n",
    "a.solveQuadraticEq(a= 8 , b=8 )"
   ]
  },
  {
   "cell_type": "markdown",
   "metadata": {},
   "source": [
    "## Section 2 \n",
    "\n",
    "```\n",
    "11.\tWrite a Python Program to Check if a Number is Positive, Negative or Zero?\n",
    "12.\tWrite a Python Program to Check if a Number is Odd or Even?\n",
    "13.\tWrite a Python Program to Check Leap Year?\n",
    "14.\tWrite a Python Program to Check Prime Number?\n",
    "15.\tWrite a Python Program to Print all Prime Numbers in an Interval of 1-10000?\n",
    "16.\tWrite a Python Program to Find the Factorial of a Number?\n",
    "17.\tWrite a Python Program to Display the multiplication Table?\n",
    "18.\tWrite a Python Program to Print the Fibonacci sequence?\n",
    "19.\tWrite a Python Program to Check Armstrong Number?\n",
    "20.\tWrite a Python Program to Find Armstrong Number in an Interval?\n",
    "\n",
    "\n",
    "\n",
    "```"
   ]
  },
  {
   "cell_type": "code",
   "execution_count": 47,
   "metadata": {},
   "outputs": [],
   "source": [
    "class section2:\n",
    "    def checkpositiviy(self, num):\n",
    "        try:\n",
    "            print(f\" Given number {num} is {'positive' if num > 0 else 'Negative'}\")\n",
    "        except Exception as ValueError:\n",
    "            print(\"bro Enter intergers only...\")\n",
    "\n",
    "    def oddEven(self, num):\n",
    "        try:\n",
    "            print(f\" Given number {num} is {'Even' if num%2 ==0 else 'odd'}\")\n",
    "        except Exception as ValueError:\n",
    "            print(\"bro Enter intergers only...\")\n",
    "    \n",
    "    \n",
    "    def leapYear(self, year):\n",
    "        try:\n",
    "            if (year % 4 == 0 and year % 100 != 0) or (year % 400 == 0):\n",
    "                print(f\" Given Year {year} Leap\")\n",
    "            else:\n",
    "                print(f\" Given Year {year} Not Leap\")\n",
    "                # print()\n",
    "        except Exception as ValueError:\n",
    "            print(\"bro Enter intergers only...\")\n",
    "\n",
    "    def factorial(self, num):\n",
    "        if num == 1 :\n",
    "            return 1 \n",
    "        else:\n",
    "            return num * self.factorial(num-1)\n",
    "        \n",
    "    def displayMultiplicationTable(self, num):\n",
    "        try:\n",
    "            print(f\"table of {num}\")\n",
    "            if type(num) == int:\n",
    "                for i in range(1,11):\n",
    "                    print(f\"{num} * {i} = {num* i}\")\n",
    "            else:\n",
    "                print(\"Pass integer..\")\n",
    "        except Exception as e:\n",
    "            print(e)\n",
    "        \n",
    "    def febbonaciSeq(self, num):\n",
    "        try:\n",
    "            if num <= 1:\n",
    "                return num\n",
    "            else:\n",
    "                return self.febbonaciSeq(num-1) + self.febbonaciSeq(num-2)\n",
    "            \n",
    "        except Exception as e:\n",
    "            print(e)\n",
    "\n",
    "    # def isArmstrongnum(self, number):\n",
    "    #     ## count the number of digits\n",
    "    #     num_count = 0 \n",
    "    #     temp = number\n",
    "    #     while temp > 0 : \n",
    "    #         temp //=10\n",
    "    #         num_count += 1\n",
    "        \n",
    "    #     # calulate the sum digit with n power\n",
    "    #     armStrongsum = 0 \n",
    "    #     temp = number\n",
    "    #     while temp > 0 :\n",
    "    #         digit = temp % 10 \n",
    "    #         armStrongsum = digit ** num_count\n",
    "    #         temp //= 10 \n",
    "\n",
    "    #     if number == armStrongsum : \n",
    "    #         print(\"given number is Armstrong\")\n",
    "    #     else:\n",
    "    #         print(\"Given number isnot Armstrong..\")\n",
    "\n",
    "    #     return number == armStrongsum\n",
    "    \n",
    "    # def arMstrongIninterval(self, start, end):\n",
    "    #     try:\n",
    "    #         armstrongNums = []\n",
    "    #         for num in range(start, end):\n",
    "    #             if self.isArmstrongnum(num):\n",
    "    #                 armstrongNums.append(num)\n",
    "    #             else:\n",
    "    #                 pass\n",
    "    #         print(f\"List of Armstrong nums in given range{start, end} are ==> {armstrongNums}\")\n",
    "    #         return armstrongNums\n",
    "    #     except Exception as e:\n",
    "    #         print(e)\n"
   ]
  },
  {
   "cell_type": "code",
   "execution_count": 44,
   "metadata": {},
   "outputs": [
    {
     "name": "stdout",
     "output_type": "stream",
     "text": [
      "120\n",
      " Given number 8 is positive\n",
      "\n",
      "\n",
      "table of 5\n",
      "5 * 1 = 5\n",
      "5 * 2 = 10\n",
      "5 * 3 = 15\n",
      "5 * 4 = 20\n",
      "5 * 5 = 25\n",
      "5 * 6 = 30\n",
      "5 * 7 = 35\n",
      "5 * 8 = 40\n",
      "5 * 9 = 45\n",
      "5 * 10 = 50\n",
      "\n",
      "\n",
      "\n",
      "\n"
     ]
    }
   ],
   "source": [
    "a = section2()\n",
    "print(a.factorial(5))\n",
    "a.checkpositiviy(8)\n",
    "print(\"\\n\")\n",
    "a.displayMultiplicationTable(5)\n",
    "print(\"\\n\")\n",
    "a.febbonaciSeq(5)\n",
    "print(\"\\n\")\n"
   ]
  },
  {
   "cell_type": "code",
   "execution_count": 50,
   "metadata": {},
   "outputs": [
    {
     "name": "stdout",
     "output_type": "stream",
     "text": [
      "Fibonacci sequence:\n",
      "[0, 1, 1, 2, 3, 5, 8, 13, 21, 34]\n"
     ]
    }
   ],
   "source": [
    "def fibonacci_sequence(n):\n",
    "    # Initialize the first two terms of the sequence\n",
    "    fib_sequence = [0, 1]\n",
    "    \n",
    "    for i in range(2, n):\n",
    "        next_term = fib_sequence[i-1] + fib_sequence[i-2]\n",
    "        fib_sequence.append(next_term)\n",
    "    \n",
    "    return fib_sequence\n",
    "\n",
    "# Example usage\n",
    "num_terms = 10\n",
    "fib_sequence = fibonacci_sequence(num_terms)\n",
    "print(\"Fibonacci sequence:\")\n",
    "print(fib_sequence)\n"
   ]
  },
  {
   "cell_type": "code",
   "execution_count": 48,
   "metadata": {},
   "outputs": [
    {
     "name": "stdout",
     "output_type": "stream",
     "text": [
      "Armstrong numbers between 100 and 1000:\n",
      "[153, 370, 371, 407]\n"
     ]
    }
   ],
   "source": [
    "def is_armstrong(number):\n",
    "    num_digits = len(str(number))\n",
    "    armstrong_sum = sum(int(digit) ** num_digits for digit in str(number))\n",
    "    return armstrong_sum == number\n",
    "\n",
    "def armstrong_in_interval(start, end):\n",
    "    armstrong_numbers = []\n",
    "    for num in range(start, end + 1):\n",
    "        if is_armstrong(num):\n",
    "            armstrong_numbers.append(num)\n",
    "    return armstrong_numbers\n",
    "\n",
    "# Example usage\n",
    "start = 100\n",
    "end = 1000\n",
    "armstrong_nums = armstrong_in_interval(start, end)\n",
    "print(f\"Armstrong numbers between {start} and {end}:\")\n",
    "print(armstrong_nums)\n"
   ]
  },
  {
   "cell_type": "markdown",
   "metadata": {},
   "source": [
    "## Section 3"
   ]
  },
  {
   "cell_type": "markdown",
   "metadata": {},
   "source": [
    "```\n",
    "21.\tWrite a Python Program to Find the Sum of Natural Numbers?\n",
    "22.\tWrite a Python Program to Find LCM?\n",
    "23.\tWrite a Python Program to Find HCF?\n",
    "24.\tWrite a Python Program to Convert Decimal to Binary, Octal and Hexadecimal?\n",
    "25.\tWrite a Python Program To Find ASCII value of a character?\n",
    "26.\tWrite a Python Program to Make a Simple Calculator with 4 basic mathematical operations?\n",
    "27.\tWrite a Python Program to Display Fibonacci Sequence Using Recursion?\n",
    "28.\tWrite a Python Program to Find Factorial of Number Using Recursion?\n",
    "29.\tWrite a Python Program to calculate your Body Mass Index?\n",
    "30.\tWrite a Python Program to calculate the natural logarithm of any number?\n",
    "\n",
    "```"
   ]
  },
  {
   "cell_type": "code",
   "execution_count": 52,
   "metadata": {},
   "outputs": [
    {
     "name": "stdout",
     "output_type": "stream",
     "text": [
      "The LCM of 12 and 18 is: 36\n"
     ]
    }
   ],
   "source": [
    "def get_sumNaturalNums(self, nums):\n",
    "    print(sum(nums))\n",
    "\n",
    "def gcd(a, b):\n",
    "    while b != 0:\n",
    "        a, b = b, a % b\n",
    "    return a\n",
    "\n",
    "def lcm(a, b):\n",
    "    return (a * b) // gcd(a, b)\n",
    "\n",
    "num1 = 12\n",
    "num2 = 18\n",
    "result = lcm(num1, num2)\n",
    "print(f\"The LCM of {num1} and {num2} is: {result}\")"
   ]
  },
  {
   "cell_type": "code",
   "execution_count": 53,
   "metadata": {},
   "outputs": [
    {
     "name": "stdout",
     "output_type": "stream",
     "text": [
      "The HCF/GCD of 24 and 36 is: 12\n"
     ]
    }
   ],
   "source": [
    "def gcd(a, b):\n",
    "    while b != 0:\n",
    "        a, b = b, a % b\n",
    "    return a\n",
    "\n",
    "# Example usage\n",
    "num1 = 24\n",
    "num2 = 36\n",
    "result = gcd(num1, num2)\n",
    "print(f\"The HCF/GCD of {num1} and {num2} is: {result}\")\n"
   ]
  },
  {
   "cell_type": "code",
   "execution_count": 56,
   "metadata": {},
   "outputs": [
    {
     "name": "stdout",
     "output_type": "stream",
     "text": [
      "0b1010\n"
     ]
    }
   ],
   "source": [
    "## porgram to convert decimal to binary \n",
    "# Example usage\n",
    "decimal_num = 10\n",
    "binary_num = bin(decimal_num)\n",
    "print(binary_num)"
   ]
  },
  {
   "cell_type": "code",
   "execution_count": 58,
   "metadata": {},
   "outputs": [
    {
     "data": {
      "text/plain": [
       "('0o12', '0xa')"
      ]
     },
     "execution_count": 58,
     "metadata": {},
     "output_type": "execute_result"
    }
   ],
   "source": [
    "oct(decimal_num),hex(decimal_num)"
   ]
  },
  {
   "cell_type": "code",
   "execution_count": 62,
   "metadata": {},
   "outputs": [
    {
     "data": {
      "text/plain": [
       "97"
      ]
     },
     "execution_count": 62,
     "metadata": {},
     "output_type": "execute_result"
    }
   ],
   "source": [
    "## Asci valu eof char\n",
    "\n",
    "ord(\"a\")"
   ]
  },
  {
   "cell_type": "code",
   "execution_count": 68,
   "metadata": {},
   "outputs": [
    {
     "data": {
      "text/plain": [
       "120"
      ]
     },
     "execution_count": 68,
     "metadata": {},
     "output_type": "execute_result"
    }
   ],
   "source": [
    "## Febbonnaci using recurrsion \n",
    "\n",
    "def facto(n):\n",
    "    # print(n)\n",
    "    if n == 1 :\n",
    "        return n\n",
    "    else:\n",
    "        # print(n)\n",
    "        return n * facto(n - 1)\n",
    "    \n",
    "facto(5)"
   ]
  },
  {
   "cell_type": "code",
   "execution_count": 69,
   "metadata": {},
   "outputs": [
    {
     "name": "stdout",
     "output_type": "stream",
     "text": [
      "Fibonacci sequence:\n",
      "[0, 1, 1, 2, 3, 5, 8, 13, 21, 34]\n"
     ]
    }
   ],
   "source": [
    "def fibonacci_(n):\n",
    "    if n <= 1:\n",
    "        return n\n",
    "    else:\n",
    "        return fibonacci_(n-1) + fibonacci_(n-2)\n",
    "\n",
    "#Runner code \n",
    "num_terms = 10\n",
    "fib_sequence = [fibonacci_(i) for i in range(num_terms)]\n",
    "print(\"Fibonacci sequence:\")\n",
    "print(fib_sequence)\n"
   ]
  },
  {
   "cell_type": "code",
   "execution_count": 72,
   "metadata": {},
   "outputs": [
    {
     "data": {
      "text/plain": [
       "20.0"
      ]
     },
     "execution_count": 72,
     "metadata": {},
     "output_type": "execute_result"
    }
   ],
   "source": [
    "def bodyMassIndex(w,h):\n",
    "    return w / (h**2)\n",
    "\n",
    "bodyMassIndex(80,2)"
   ]
  },
  {
   "cell_type": "code",
   "execution_count": 73,
   "metadata": {},
   "outputs": [
    {
     "data": {
      "text/plain": [
       "3.321928094887362"
      ]
     },
     "execution_count": 73,
     "metadata": {},
     "output_type": "execute_result"
    }
   ],
   "source": [
    "import numpy as np \n",
    "np.log2(10)"
   ]
  },
  {
   "cell_type": "code",
   "execution_count": 75,
   "metadata": {},
   "outputs": [
    {
     "name": "stdout",
     "output_type": "stream",
     "text": [
      "\n",
      "\n",
      "\n",
      "cal  [[0, 1, 2, 3, 4, 5, 6], [7, 8, 9, 10, 11, 12, 13], [14, 15, 16, 17, 18, 19, 20], [21, 22, 23, 24, 25, 26, 27], [28, 29, 30, 31, 0, 0, 0]]\n",
      "May 2001\n",
      "Mo Tu We Th Fr Sa Su\n",
      "   1 2 3 4 5 6\n",
      "7 8 9 10 11 12 13\n",
      "14 15 16 17 18 19 20\n",
      "21 22 23 24 25 26 27\n",
      "28 29 30 31         \n"
     ]
    }
   ],
   "source": [
    "\n",
    "def displayCalender( month, year):\n",
    "    print(\"\\n\"*2)\n",
    "    import calendar\n",
    "    cal = calendar.monthcalendar(year, month)\n",
    "    print(\"cal \", cal)\n",
    "    print(calendar.month_name[month], year)\n",
    "    \n",
    "    print(\"Mo Tu We Th Fr Sa Su\")\n",
    "\n",
    "\n",
    "    for week in cal:\n",
    "        # Formatting each day in the week. Days that are not part of the current month will be displayed as blanks.\n",
    "        week_str = ' '.join(str(day) if day != 0 else '  ' for day in week)\n",
    "        \n",
    "        print(week_str)\n",
    "\n",
    "displayCalender(5,2001)"
   ]
  },
  {
   "cell_type": "markdown",
   "metadata": {},
   "source": [
    "## Section 4"
   ]
  },
  {
   "cell_type": "markdown",
   "metadata": {},
   "source": [
    "```\n",
    "31.\tWrite a Python Program for cube sum of first n natural numbers?\n",
    "32.\tWrite a Python Program to find sum of array?\n",
    "33.\tWrite a Python Program to find largest element in an array?\n",
    "34.\tWrite a Python Program for array rotation?\n",
    "35.\tWrite a Python Program to Split the array and add the first part to the end?\n",
    "36.\tWrite a Python Program to check if given array is Monotonic?\n",
    "37.\tWrite a Python Program to Add Two Matrices?\n",
    "38.\tWrite a Python Program to Multiply Two Matrices?\n",
    "39.\tWrite a Python Program to Transpose a Matrix?\n",
    "40.\tWrite a Python Program to Sort Words in Alphabetic Order?\n",
    "41.\tWrite a Python Program to Remove Punctuation From a String?\n",
    "42.\tWrite a Python program to check if the given number is a Disarium Number?\n",
    "43.\tWrite a Python program to print all disarium numbers between 1 to 100?\n",
    "44.\tWrite a Python program to check if the given number is Happy Number?\n",
    "45.\tWrite a Python program to print all happy numbers between 1 and 100?\n",
    "46.\tWrite a Python program to determine whether the given number is a Harshad Number?\n",
    "47.\tWrite a Python program to print all pronic numbers between 1 and 100?\n",
    "48.\tWrite a Python program to find sum of elements in list?\n",
    "\n",
    "\n",
    "\n",
    "\n",
    "```"
   ]
  },
  {
   "cell_type": "code",
   "execution_count": 78,
   "metadata": {},
   "outputs": [
    {
     "data": {
      "text/plain": [
       "36"
      ]
     },
     "execution_count": 78,
     "metadata": {},
     "output_type": "execute_result"
    }
   ],
   "source": [
    "def cubsum(n):\n",
    "    cubsum = 0 \n",
    "    for i in range(1,n):\n",
    "        cubsum = cubsum + i**3\n",
    "    return cubsum\n",
    "\n",
    "cubsum(4)"
   ]
  },
  {
   "cell_type": "code",
   "execution_count": 83,
   "metadata": {},
   "outputs": [
    {
     "name": "stdout",
     "output_type": "stream",
     "text": [
      "10\n",
      "10\n",
      "10\n",
      "10\n"
     ]
    }
   ],
   "source": [
    "## program to get sum of array\n",
    "l = [1,2,3,4]\n",
    "print(np.sum(np.array([1,2,3,4])))\n",
    "\n",
    "print(sum(l))\n",
    "sum_ = lambda x , y : x + y \n",
    "from functools import reduce\n",
    "print(reduce(sum_ , l ))\n",
    "\n",
    "temp = 0 \n",
    "for i in l:\n",
    "    temp += i \n",
    "print(temp)\n",
    "\n"
   ]
  },
  {
   "cell_type": "code",
   "execution_count": 98,
   "metadata": {},
   "outputs": [
    {
     "data": {
      "text/plain": [
       "[4, 1, 2, 3]"
      ]
     },
     "execution_count": 98,
     "metadata": {},
     "output_type": "execute_result"
    }
   ],
   "source": [
    "## Python program for array rotation \n",
    "def rotate_array(arr, rotateby):\n",
    "    rotated_array = arr[rotateby:] + arr[:rotateby]\n",
    "    return rotated_array\n",
    "\n",
    "\n",
    "l = [1,2,3,4]\n",
    "rotate_array(l,3)\n"
   ]
  },
  {
   "cell_type": "code",
   "execution_count": 94,
   "metadata": {},
   "outputs": [
    {
     "data": {
      "text/plain": [
       "4"
      ]
     },
     "execution_count": 94,
     "metadata": {},
     "output_type": "execute_result"
    }
   ],
   "source": [
    "## largest element in array\n",
    "max(l)"
   ]
  },
  {
   "cell_type": "code",
   "execution_count": 97,
   "metadata": {},
   "outputs": [
    {
     "name": "stdout",
     "output_type": "stream",
     "text": [
      "True False\n",
      "Is arr1 monotonic? True\n",
      "False True\n",
      "Is arr2 monotonic? True\n",
      "False False\n",
      "Is arr3 monotonic? False\n",
      "False False\n",
      "Is arr4 monotonic? False\n"
     ]
    }
   ],
   "source": [
    "def is_monotonic(arr):\n",
    "    increasing = decreasing = True\n",
    "    \n",
    "    # Check if the array is monotonic increasing\n",
    "    for i in range(1, len(arr)):\n",
    "        if arr[i] < arr[i-1]:\n",
    "            increasing = False\n",
    "            break\n",
    "    \n",
    "    # Check if the array is monotonic decreasing\n",
    "    for i in range(1, len(arr)):\n",
    "        if arr[i] > arr[i-1]:\n",
    "            decreasing = False\n",
    "            break\n",
    "    print(increasing, decreasing)\n",
    "    return increasing or decreasing\n",
    "\n",
    "# Example usage\n",
    "arr1 = [1, 2, 3, 3, 4, 5]\n",
    "arr2 = [7, 6, 5, 4, 3, 3, 1]\n",
    "arr3 = [1, 3, 2, 5, 4]\n",
    "arr4 = [4, 4, 6, 5, 3, 3, 1]\n",
    "\n",
    "print(\"Is arr1 monotonic?\", is_monotonic(arr1))\n",
    "print(\"Is arr2 monotonic?\", is_monotonic(arr2))\n",
    "print(\"Is arr3 monotonic?\", is_monotonic(arr3))\n",
    "print(\"Is arr4 monotonic?\", is_monotonic(arr4))\n"
   ]
  },
  {
   "cell_type": "code",
   "execution_count": 101,
   "metadata": {},
   "outputs": [],
   "source": [
    "## python program to add two matrices\n",
    "\n",
    "mat1 = np.array([[1,2,3,4], [5,6,7,8]])\n",
    "mat2 = np.array([[1,2,3,4], [5,6,7,8]])"
   ]
  },
  {
   "cell_type": "code",
   "execution_count": 102,
   "metadata": {},
   "outputs": [
    {
     "data": {
      "text/plain": [
       "array([[ 2,  4,  6,  8],\n",
       "       [10, 12, 14, 16]])"
      ]
     },
     "execution_count": 102,
     "metadata": {},
     "output_type": "execute_result"
    }
   ],
   "source": [
    "mat1 + mat2"
   ]
  },
  {
   "cell_type": "code",
   "execution_count": 103,
   "metadata": {},
   "outputs": [
    {
     "data": {
      "text/plain": [
       "array([[ 2,  4,  6,  8],\n",
       "       [10, 12, 14, 16]])"
      ]
     },
     "execution_count": 103,
     "metadata": {},
     "output_type": "execute_result"
    }
   ],
   "source": [
    "np.add(mat1, mat2)"
   ]
  },
  {
   "cell_type": "code",
   "execution_count": 104,
   "metadata": {},
   "outputs": [
    {
     "data": {
      "text/plain": [
       "array([[ 1,  4,  9, 16],\n",
       "       [25, 36, 49, 64]])"
      ]
     },
     "execution_count": 104,
     "metadata": {},
     "output_type": "execute_result"
    }
   ],
   "source": [
    "mat1 * mat2"
   ]
  },
  {
   "cell_type": "code",
   "execution_count": 110,
   "metadata": {},
   "outputs": [],
   "source": [
    "mat4 = np.array([1,2,3,4])"
   ]
  },
  {
   "cell_type": "code",
   "execution_count": 111,
   "metadata": {},
   "outputs": [
    {
     "data": {
      "text/plain": [
       "array([[ 1,  4,  9, 16],\n",
       "       [ 5, 12, 21, 32]])"
      ]
     },
     "execution_count": 111,
     "metadata": {},
     "output_type": "execute_result"
    }
   ],
   "source": [
    "mat1 * mat4"
   ]
  },
  {
   "cell_type": "code",
   "execution_count": 112,
   "metadata": {},
   "outputs": [
    {
     "ename": "ValueError",
     "evalue": "operands could not be broadcast together with shapes (2,4) (2,) ",
     "output_type": "error",
     "traceback": [
      "\u001b[1;31m---------------------------------------------------------------------------\u001b[0m",
      "\u001b[1;31mValueError\u001b[0m                                Traceback (most recent call last)",
      "\u001b[1;32m~\\AppData\\Local\\Temp\\ipykernel_13956\\2800746649.py\u001b[0m in \u001b[0;36m<module>\u001b[1;34m\u001b[0m\n\u001b[0;32m      1\u001b[0m \u001b[0mmat4\u001b[0m \u001b[1;33m=\u001b[0m \u001b[0mnp\u001b[0m\u001b[1;33m.\u001b[0m\u001b[0marray\u001b[0m\u001b[1;33m(\u001b[0m\u001b[1;33m[\u001b[0m\u001b[1;36m1\u001b[0m\u001b[1;33m,\u001b[0m\u001b[1;36m2\u001b[0m\u001b[1;33m]\u001b[0m\u001b[1;33m)\u001b[0m\u001b[1;33m\u001b[0m\u001b[1;33m\u001b[0m\u001b[0m\n\u001b[1;32m----> 2\u001b[1;33m \u001b[0mmat1\u001b[0m \u001b[1;33m*\u001b[0m \u001b[0mmat4\u001b[0m\u001b[1;33m\u001b[0m\u001b[1;33m\u001b[0m\u001b[0m\n\u001b[0m",
      "\u001b[1;31mValueError\u001b[0m: operands could not be broadcast together with shapes (2,4) (2,) "
     ]
    }
   ],
   "source": [
    "mat4 = np.array([1,2])\n",
    "mat1 * mat4"
   ]
  },
  {
   "cell_type": "code",
   "execution_count": 113,
   "metadata": {},
   "outputs": [
    {
     "data": {
      "text/plain": [
       "array([[1, 2, 3, 4],\n",
       "       [5, 6, 7, 8]])"
      ]
     },
     "execution_count": 113,
     "metadata": {},
     "output_type": "execute_result"
    }
   ],
   "source": [
    "mat1"
   ]
  },
  {
   "cell_type": "code",
   "execution_count": 114,
   "metadata": {},
   "outputs": [
    {
     "data": {
      "text/plain": [
       "array([[1, 5],\n",
       "       [2, 6],\n",
       "       [3, 7],\n",
       "       [4, 8]])"
      ]
     },
     "execution_count": 114,
     "metadata": {},
     "output_type": "execute_result"
    }
   ],
   "source": [
    "np.transpose(mat1)"
   ]
  },
  {
   "cell_type": "code",
   "execution_count": 116,
   "metadata": {},
   "outputs": [
    {
     "name": "stdout",
     "output_type": "stream",
     "text": [
      "[[1, 5], [2, 6], [3, 7], [4, 8]]\n"
     ]
    }
   ],
   "source": [
    "def transpose(matx):\n",
    "    transpose_mat = [] \n",
    "    for i in range(len(matx[0])) : # num of elements in one row\n",
    "        transpose_row = [] \n",
    "        for j in range(len(matx)):  ## cols len \n",
    "            transpose_row.append(matx[j][i])\n",
    "        transpose_mat.append(transpose_row)\n",
    "    return transpose_mat\n",
    "\n",
    "print(transpose(mat1))\n"
   ]
  },
  {
   "cell_type": "code",
   "execution_count": 121,
   "metadata": {},
   "outputs": [
    {
     "data": {
      "text/plain": [
       "'Akash code? hello how is python your'"
      ]
     },
     "execution_count": 121,
     "metadata": {},
     "output_type": "execute_result"
    }
   ],
   "source": [
    "## write program to sort word in aplpha order\n",
    "\n",
    "str_ = \"hello Akash how is your python code?\"\n",
    "l = str_.split(\" \")\n",
    "l.sort()\n",
    "\" \".join(l)"
   ]
  },
  {
   "cell_type": "code",
   "execution_count": 123,
   "metadata": {},
   "outputs": [
    {
     "name": "stdout",
     "output_type": "stream",
     "text": [
      "['h', 'e', 'l', 'l', 'o', ' ', 'A', 'k', 'a', 's', 'h', ' ', 'h', 'o', 'w', ' ', 'i', 's', ' ', 'y', 'o', 'u', 'r', ' ', 'p', 'y', 't', 'h', 'o', 'n', ' ', 'c', 'o', 'd', 'e', '?']\n"
     ]
    }
   ],
   "source": [
    "print( list(str_) ) "
   ]
  },
  {
   "cell_type": "code",
   "execution_count": 126,
   "metadata": {},
   "outputs": [],
   "source": [
    "## program to remove punctuations\n",
    "import string\n",
    "\n",
    "def remove_punt(text):\n",
    "    punct_chars = string.punctuation \n",
    "    ## list comprehension \n",
    "    text_withtout_puncts = \"\".join([ x for x in text if x not in punct_chars])\n",
    "    print(text_withtout_puncts)"
   ]
  },
  {
   "cell_type": "code",
   "execution_count": 127,
   "metadata": {},
   "outputs": [
    {
     "name": "stdout",
     "output_type": "stream",
     "text": [
      "Hello Aksah  how asaa  lkj ads7 \n"
     ]
    }
   ],
   "source": [
    "remove_punt(\"Hello! Aksah? / how asaa * lkj ads7 \")"
   ]
  },
  {
   "cell_type": "code",
   "execution_count": 128,
   "metadata": {},
   "outputs": [
    {
     "data": {
      "text/plain": [
       "'Hello Aksah  how asaa  lkj ads7 '"
      ]
     },
     "execution_count": 128,
     "metadata": {},
     "output_type": "execute_result"
    }
   ],
   "source": [
    "import re \n",
    "\n",
    "def remove_punctuation(text):\n",
    "    pattern = r'[^\\w\\s]'\n",
    "    \n",
    "    # Use regex substitution to remove punctuation\n",
    "    text_without_punctuation = re.sub(pattern, '', text)\n",
    "    \n",
    "    return text_without_punctuation\n",
    "\n",
    "remove_punctuation(\"Hello! Aksah? / how asaa * lkj ads7 \")\n"
   ]
  },
  {
   "cell_type": "code",
   "execution_count": 138,
   "metadata": {},
   "outputs": [
    {
     "data": {
      "text/plain": [
       "(False, True)"
      ]
     },
     "execution_count": 138,
     "metadata": {},
     "output_type": "execute_result"
    }
   ],
   "source": [
    "## disarim 89 ==> 8 ^1 + 9 ^ 2 = 8 + 81 = 89 hence it is disarium \n",
    "\n",
    "\n",
    "def isDisarium(num):\n",
    "    str_n = str(num)\n",
    "    dig_sum = sum(int(x)**(i + 1 ) for i , x in enumerate(str_n))\n",
    "    return num == dig_sum\n",
    "\n",
    "isDisarium(50),isDisarium(89)\n"
   ]
  },
  {
   "cell_type": "code",
   "execution_count": 151,
   "metadata": {},
   "outputs": [
    {
     "name": "stdout",
     "output_type": "stream",
     "text": [
      "[1, 2, 3, 4, 5, 6, 7, 8, 9, 89, 135, 175, 518, 598]\n"
     ]
    }
   ],
   "source": [
    "## disraium betn  1 to 100 \n",
    "disrList = [] \n",
    "for i in range(1,1001):\n",
    "    if isDisarium(i):\n",
    "        disrList.append(i)\n",
    "\n",
    "print(disrList)"
   ]
  },
  {
   "cell_type": "code",
   "execution_count": 152,
   "metadata": {},
   "outputs": [
    {
     "name": "stdout",
     "output_type": "stream",
     "text": [
      "19 is a happy number.\n"
     ]
    }
   ],
   "source": [
    "def happy_number(n):\n",
    "    seen = set()\n",
    "    while n != 1 and n not in seen:\n",
    "        seen.add(n)\n",
    "        n = sum(int(digit) ** 2 for digit in str(n))\n",
    "    return n == 1\n",
    "\n",
    "# Example usage\n",
    "number = 19\n",
    "if happy_number(number):\n",
    "    print(f\"{number} is a happy number.\")\n",
    "else:\n",
    "    print(f\"{number} is not a happy number.\")\n"
   ]
  },
  {
   "cell_type": "code",
   "execution_count": 153,
   "metadata": {},
   "outputs": [
    {
     "name": "stdout",
     "output_type": "stream",
     "text": [
      "Phonic numbers up to 100 :\n",
      "[1, 2, 3, 4, 5, 6, 8, 9, 10, 12, 15, 16, 18, 20, 24, 25, 27, 30, 32, 36, 40, 45, 48, 50, 54, 60, 64, 72, 75, 80, 81, 90, 96, 100]\n"
     ]
    }
   ],
   "source": [
    "## program to print all phonic numbers\n",
    "def generate_phonic_numbers(nubmer):\n",
    "    phonic_numbers = []\n",
    "    for a in range(nubmer + 1):\n",
    "        for b in range(nubmer + 1):\n",
    "            for c in range(nubmer + 1):\n",
    "                number = 2 ** a * 3 ** b * 5 ** c\n",
    "                if number <= nubmer:\n",
    "                    phonic_numbers.append(number)\n",
    "    return sorted(phonic_numbers)\n",
    "\n",
    "\n",
    "nubmer = 100\n",
    "phonic_numbers = generate_phonic_numbers(nubmer)\n",
    "print(\"Phonic numbers up to\", nubmer, \":\")\n",
    "print(phonic_numbers)\n"
   ]
  },
  {
   "cell_type": "code",
   "execution_count": 154,
   "metadata": {},
   "outputs": [],
   "source": [
    "## get the sum of all list elemtns\n",
    "\n",
    "\n",
    "l = [1,2,3,4]\n",
    "a= 0 \n",
    "for  i in l :\n",
    "    a += i \n"
   ]
  },
  {
   "cell_type": "code",
   "execution_count": 155,
   "metadata": {},
   "outputs": [
    {
     "name": "stdout",
     "output_type": "stream",
     "text": [
      "10\n"
     ]
    }
   ],
   "source": [
    "print(a)"
   ]
  },
  {
   "cell_type": "markdown",
   "metadata": {},
   "source": [
    "```\n",
    "49.\tWrite a Python program to  Multiply all numbers in the list?\n",
    "50.\tWrite a Python program to find smallest number in a list?\n",
    "51.\tWrite a Python program to find largest number in a list?\n",
    "52.\tWrite a Python program to find second largest number in a list?\n",
    "53.\tWrite a Python program to find N largest elements from a list?\n",
    "54.\tWrite a Python program to print even numbers in a list?\n",
    "55.\tWrite a Python program to print odd numbers in a List?\n",
    "56.\tWrite a Python program to Remove empty List from List?\n",
    "57.\tWrite a Python program to Cloning or Copying a list?\n",
    "58.\tWrite a Python program to Count occurrences of an element in a list?\n",
    "59.\tWrite a Python program to find words which are greater than given length k?\n",
    "60.\tWrite a Python program for removing i-th character from a string?\n",
    "61.\tWrite a Python program to split and join a string?\n",
    "62.\tWrite a Python to check if a given string is binary string or not?\n",
    "63.\tWrite a Python program to find uncommon words from two Strings?\n",
    "64.\tWrite a Python to find all duplicate characters in string?\n",
    "65.\tWrite a Python Program to check if a string contains any special character?\n",
    "66.\tWrite a Python program to Extract Unique values dictionary values?\n",
    "67.\tWrite a Python program to find the sum of all items in a dictionary?\n",
    "68.\tWrite a Python program to Merging two Dictionaries?\n",
    "69.\tWrite a Python program to convert key-values list to flat dictionary?\n",
    "70.\tWrite a Python program to insertion at the beginning in OrderedDict?\n",
    "```"
   ]
  },
  {
   "cell_type": "code",
   "execution_count": 206,
   "metadata": {},
   "outputs": [
    {
     "data": {
      "text/plain": [
       "[('c', 30), ('b', 20), ('a', 10), ('cython', 2), ('Java', 2)]"
      ]
     },
     "execution_count": 206,
     "metadata": {},
     "output_type": "execute_result"
    }
   ],
   "source": [
    "my_dict = {'a': 10,  'c': 30,'b': 20, 'cython': 2, 'Java': 2}\n",
    "\n",
    "sorted(my_dict.items(), key = lambda x : x[1], reverse=True)"
   ]
  },
  {
   "cell_type": "code",
   "execution_count": 199,
   "metadata": {},
   "outputs": [
    {
     "name": "stdout",
     "output_type": "stream",
     "text": [
      "{'Java': 2, 'a': 10, 'b': 20, 'c': 30, 'cython': 2}\n"
     ]
    }
   ],
   "source": [
    "## sotrt dict by key values\n",
    "my_dict = {'a': 10,  'c': 30,'b': 20, 'cython': 2, 'Java': 2}\n",
    "\n",
    "sorted_dict = dict(sorted(my_dict.items()))\n",
    "\n",
    "print(sorted_dict)\n"
   ]
  },
  {
   "cell_type": "code",
   "execution_count": 196,
   "metadata": {},
   "outputs": [
    {
     "name": "stdout",
     "output_type": "stream",
     "text": [
      "OrderedDict after initial insertions: OrderedDict([('first', 1), ('second', 2), ('third', 3)])\n",
      "OrderedDict([('third', 3), ('first', 1), ('second', 2), ('new_first', 0)])\n"
     ]
    }
   ],
   "source": [
    "from collections import OrderedDict\n",
    "\n",
    "ordered_dict = OrderedDict()\n",
    "\n",
    "ordered_dict['first'] = 1\n",
    "ordered_dict['second'] = 2\n",
    "ordered_dict['third'] = 3\n",
    "\n",
    "\n",
    "print(\"OrderedDict after initial insertions:\", ordered_dict)\n",
    "\n",
    "ordered_dict.move_to_end('third', last=False)\n",
    "ordered_dict['new_first'] = 0\n",
    "\n",
    "print( ordered_dict)\n"
   ]
  },
  {
   "cell_type": "code",
   "execution_count": null,
   "metadata": {},
   "outputs": [],
   "source": [
    "## instert at the beginning of dict\n",
    "my_dict = {'a': 10, 'b': 20, 'c': 30, 'python': 2, 'Java': 2}\n",
    "my_dict.update()"
   ]
  },
  {
   "cell_type": "code",
   "execution_count": 193,
   "metadata": {},
   "outputs": [
    {
     "data": {
      "text/plain": [
       "[('a', 10), ('b', 20), ('c', 30), ('python', 2), ('Java', 2)]"
      ]
     },
     "execution_count": 193,
     "metadata": {},
     "output_type": "execute_result"
    }
   ],
   "source": [
    "## key value to flat list to flat dict\n",
    "my_dict = {'a': 10, 'b': 20, 'c': 30, 'python': 2, 'Java': 2}\n",
    "\n",
    "list(my_dict.items())\n"
   ]
  },
  {
   "cell_type": "code",
   "execution_count": 191,
   "metadata": {},
   "outputs": [
    {
     "data": {
      "text/plain": [
       "{'a': 10, 'b': 20, 'c': 30, 'python': 2, 'Java': 2}"
      ]
     },
     "execution_count": 191,
     "metadata": {},
     "output_type": "execute_result"
    }
   ],
   "source": [
    "## merge two dict \n",
    "my_dict = {'a': 10, 'b': 20, 'c': 30}\n",
    "dict2 = {\"python\": 2 , \"Java\" :2 }\n",
    "\n",
    "my_dict.update(dict2)\n",
    "my_dict"
   ]
  },
  {
   "cell_type": "code",
   "execution_count": 188,
   "metadata": {},
   "outputs": [
    {
     "name": "stdout",
     "output_type": "stream",
     "text": [
      "Sum of all values in the dictionary: 60\n"
     ]
    }
   ],
   "source": [
    "## Extract sum of all dict items\n",
    "my_dict = {'a': 10, 'b': 20, 'c': 30}\n",
    "\n",
    "total_sum = sum(value for value in my_dict.values())\n",
    "\n",
    "print(\"Sum of all values in the dictionary:\", total_sum)"
   ]
  },
  {
   "cell_type": "code",
   "execution_count": 186,
   "metadata": {},
   "outputs": [
    {
     "data": {
      "text/plain": [
       "True"
      ]
     },
     "execution_count": 186,
     "metadata": {},
     "output_type": "execute_result"
    }
   ],
   "source": [
    "## check if binary string or not \n",
    "\n",
    "text = \"1001\"\n",
    "flag = \"\"\n",
    "\n",
    "for x in text:\n",
    "    if ( x!= \"0\" ) or (x!= \"1\"):\n",
    "        flag = False\n",
    "   \n",
    "    flag = True\n",
    "\n",
    "flag"
   ]
  },
  {
   "cell_type": "code",
   "execution_count": 179,
   "metadata": {},
   "outputs": [
    {
     "name": "stdout",
     "output_type": "stream",
     "text": [
      "key g ==> Value 3\n",
      "key i ==> Value 5\n",
      "key v ==> Value 2\n",
      "key e ==> Value 10\n",
      "key n ==> Value 7\n",
      "key   ==> Value 13\n",
      "key s ==> Value 3\n",
      "key t ==> Value 4\n",
      "key d ==> Value 2\n",
      "key h ==> Value 2\n",
      "key r ==> Value 4\n",
      "key a ==> Value 3\n"
     ]
    }
   ],
   "source": [
    "## find all duplicate chars in str \n",
    "text = \"given sentence is find the word is are greater than given len k \"\n",
    "dup_char = dict()\n",
    "for i in text:\n",
    "    if i in dup_char.keys():\n",
    "        dup_char[i] += 1 \n",
    "    else:\n",
    "        dup_char[i] = 1 \n",
    "\n",
    "\n",
    "for key, val in dup_char.items():\n",
    "    if val > 1 :\n",
    "        print( f\"key {key} ==> Value {val}\")\n",
    "\n"
   ]
  },
  {
   "cell_type": "code",
   "execution_count": 177,
   "metadata": {},
   "outputs": [
    {
     "data": {
      "text/plain": [
       "'given + is + find + the + word + is + are + greater + than + given + len + k + '"
      ]
     },
     "execution_count": 177,
     "metadata": {},
     "output_type": "execute_result"
    }
   ],
   "source": [
    "## remove k'th char from string\n",
    "k = 1\n",
    "text = \"given sentence is find the word is are greater than given len k \"\n",
    "l = text.split( \" \")\n",
    "\" + \".join(l[ : k] + l [k+1 : ])\n"
   ]
  },
  {
   "cell_type": "code",
   "execution_count": 174,
   "metadata": {},
   "outputs": [
    {
     "data": {
      "text/plain": [
       "'given + sentence + is + find + the + word + is + are + greater + than + given + len + k + '"
      ]
     },
     "execution_count": 174,
     "metadata": {},
     "output_type": "execute_result"
    }
   ],
   "source": [
    "## finc word split and join string\n",
    "k = 4\n",
    "text = \"given sentence is find the word is are greater than given len k \"\n",
    "\" + \".join(text.split( \" \"))"
   ]
  },
  {
   "cell_type": "code",
   "execution_count": 173,
   "metadata": {},
   "outputs": [
    {
     "data": {
      "text/plain": [
       "['is', 'the', 'is', 'are', 'len', 'k', '']"
      ]
     },
     "execution_count": 173,
     "metadata": {},
     "output_type": "execute_result"
    }
   ],
   "source": [
    "## finc word which are greater than given len k \n",
    "k = 4\n",
    "text = \"given sentence is find the word is are greater than given len k \"\n",
    "l= text.split(\" \")\n",
    "list(filter(lambda x : True if len(x) < k else  False, l ))"
   ]
  },
  {
   "cell_type": "code",
   "execution_count": 170,
   "metadata": {},
   "outputs": [
    {
     "data": {
      "text/plain": [
       "{1: 4, 5: 4, 2: 1, 4: 1}"
      ]
     },
     "execution_count": 170,
     "metadata": {},
     "output_type": "execute_result"
    }
   ],
   "source": [
    "## count occurence of element in list\n",
    "l = [1,1,1,1,5,5,5,5,2,4]\n",
    "occ_ = dict()\n",
    "\n",
    "for i in range(0 , len(l)): \n",
    "    if l[i] not in occ_.keys():\n",
    "        occ_[l[i]] = 1 \n",
    "    else:\n",
    "        occ_[l[i]] += 1 \n",
    "\n",
    "occ_\n"
   ]
  },
  {
   "cell_type": "code",
   "execution_count": 166,
   "metadata": {},
   "outputs": [
    {
     "data": {
      "text/plain": [
       "[1, 2, 32, 5]"
      ]
     },
     "execution_count": 166,
     "metadata": {},
     "output_type": "execute_result"
    }
   ],
   "source": [
    "## copy the list \n",
    "a = [1,2,32,5]\n",
    "b = a.copy()\n",
    "b"
   ]
  },
  {
   "cell_type": "code",
   "execution_count": 164,
   "metadata": {},
   "outputs": [
    {
     "name": "stdout",
     "output_type": "stream",
     "text": [
      "[1, 2, 3, 4, [1, 4]]\n"
     ]
    }
   ],
   "source": [
    "## remove empty lisr from list\n",
    "l = [1,2,3,4,[1,4], []]\n",
    "l.remove([])\n",
    "print(l)"
   ]
  },
  {
   "cell_type": "code",
   "execution_count": 163,
   "metadata": {},
   "outputs": [
    {
     "data": {
      "text/plain": [
       "[89, 21, 7, 7]"
      ]
     },
     "execution_count": 163,
     "metadata": {},
     "output_type": "execute_result"
    }
   ],
   "source": [
    "# print odd numbers in list\n",
    "l = [4,89,21,7,6,7,46,88]\n",
    "list(filter(lambda x : True if x%2 != 0 else False , l  ))"
   ]
  },
  {
   "cell_type": "code",
   "execution_count": 162,
   "metadata": {},
   "outputs": [
    {
     "data": {
      "text/plain": [
       "[4, 6, 46, 88]"
      ]
     },
     "execution_count": 162,
     "metadata": {},
     "output_type": "execute_result"
    }
   ],
   "source": [
    "# print Even numbers in list\n",
    "l = [4,89,21,7,6,7,46,88]\n",
    "list(filter(lambda x : True if x%2 == 0 else False , l  ))"
   ]
  },
  {
   "cell_type": "code",
   "execution_count": null,
   "metadata": {},
   "outputs": [],
   "source": []
  },
  {
   "cell_type": "code",
   "execution_count": 156,
   "metadata": {},
   "outputs": [
    {
     "data": {
      "text/plain": [
       "24"
      ]
     },
     "execution_count": 156,
     "metadata": {},
     "output_type": "execute_result"
    }
   ],
   "source": [
    "## multiply all nums in list\n",
    "\n",
    "## get the sum of all list elemtns\n",
    "\n",
    "\n",
    "l = [1,2,3,4]\n",
    "a= 1 \n",
    "for  i in l :\n",
    "    a *= i \n",
    "a"
   ]
  },
  {
   "cell_type": "code",
   "execution_count": 157,
   "metadata": {},
   "outputs": [
    {
     "data": {
      "text/plain": [
       "0.2"
      ]
     },
     "execution_count": 157,
     "metadata": {},
     "output_type": "execute_result"
    }
   ],
   "source": [
    "## smallest number in list\n",
    "\n",
    "l = [1,2,3,4 , 0.2]\n",
    "\n",
    "temp = 88991519919545 \n",
    "for i in l :\n",
    "    if i < temp:\n",
    "        temp = i \n",
    "temp"
   ]
  },
  {
   "cell_type": "code",
   "execution_count": 158,
   "metadata": {},
   "outputs": [
    {
     "data": {
      "text/plain": [
       "4"
      ]
     },
     "execution_count": 158,
     "metadata": {},
     "output_type": "execute_result"
    }
   ],
   "source": [
    "## largest number in list\n",
    "\n",
    "l = [1,2,3,4 , 0.2]\n",
    "\n",
    "temp = - 88991519919545 \n",
    "for i in l :\n",
    "    if i > temp:\n",
    "        temp = i \n",
    "temp"
   ]
  },
  {
   "cell_type": "code",
   "execution_count": 160,
   "metadata": {},
   "outputs": [
    {
     "data": {
      "text/plain": [
       "3"
      ]
     },
     "execution_count": 160,
     "metadata": {},
     "output_type": "execute_result"
    }
   ],
   "source": [
    "## N Largest from list\n",
    "l.sort(reverse=True)\n",
    "n = 2 \n",
    "l[n-1]"
   ]
  },
  {
   "cell_type": "code",
   "execution_count": null,
   "metadata": {},
   "outputs": [],
   "source": []
  }
 ],
 "metadata": {
  "kernelspec": {
   "display_name": "analysis",
   "language": "python",
   "name": "python3"
  },
  "language_info": {
   "codemirror_mode": {
    "name": "ipython",
    "version": 3
   },
   "file_extension": ".py",
   "mimetype": "text/x-python",
   "name": "python",
   "nbconvert_exporter": "python",
   "pygments_lexer": "ipython3",
   "version": "3.7.13"
  }
 },
 "nbformat": 4,
 "nbformat_minor": 2
}
