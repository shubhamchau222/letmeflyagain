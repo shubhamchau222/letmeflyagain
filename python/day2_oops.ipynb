{
 "cells": [
  {
   "cell_type": "code",
   "execution_count": 2,
   "metadata": {},
   "outputs": [],
   "source": [
    "class shubham:\n",
    "    pass"
   ]
  },
  {
   "cell_type": "code",
   "execution_count": 3,
   "metadata": {},
   "outputs": [],
   "source": [
    "class shubham():\n",
    "    pass"
   ]
  },
  {
   "cell_type": "code",
   "execution_count": 7,
   "metadata": {},
   "outputs": [
    {
     "data": {
      "text/plain": [
       "'abc'"
      ]
     },
     "execution_count": 7,
     "metadata": {},
     "output_type": "execute_result"
    }
   ],
   "source": [
    "class railways:\n",
    "    form = \"abc\"\n",
    "    def get_form():\n",
    "        pass\n",
    "\n",
    "a = railways()\n",
    "a.form   "
   ]
  },
  {
   "cell_type": "code",
   "execution_count": 14,
   "metadata": {},
   "outputs": [
    {
     "data": {
      "text/plain": [
       "'abc'"
      ]
     },
     "execution_count": 14,
     "metadata": {},
     "output_type": "execute_result"
    }
   ],
   "source": [
    "class railways:\n",
    "    form = \"abc\"\n",
    "    def get_form(form):\n",
    "        # you can't use form here\n",
    "        print(form)\n",
    "        pass\n",
    "\n",
    "a = railways()\n",
    "a.form   "
   ]
  },
  {
   "cell_type": "code",
   "execution_count": 18,
   "metadata": {},
   "outputs": [
    {
     "name": "stdout",
     "output_type": "stream",
     "text": [
      "abc\n"
     ]
    }
   ],
   "source": [
    "class railways:\n",
    "    form = \"abc\"\n",
    "    def get_form(self):\n",
    "        # you can't use form here\n",
    "        print(self.form)\n",
    "        pass\n",
    "\n",
    "a = railways()\n",
    "a.get_form()\n"
   ]
  },
  {
   "cell_type": "code",
   "execution_count": 16,
   "metadata": {},
   "outputs": [
    {
     "data": {
      "text/plain": [
       "'abc'"
      ]
     },
     "execution_count": 16,
     "metadata": {},
     "output_type": "execute_result"
    }
   ],
   "source": [
    "railways.form"
   ]
  },
  {
   "cell_type": "code",
   "execution_count": 52,
   "metadata": {},
   "outputs": [
    {
     "data": {
      "text/plain": [
       "('john', 'delhi', 20)"
      ]
     },
     "execution_count": 52,
     "metadata": {},
     "output_type": "execute_result"
    }
   ],
   "source": [
    "class mainclass:\n",
    "    # class variable\n",
    "    say_hello = \"Hey!, How you doing!\"\n",
    "    def __init__(self,name,city) -> None:\n",
    "        # Instance variable \n",
    "        # It runs when you call the class \n",
    "        self.name = name \n",
    "        self.city = city \n",
    "        self.salry = 20\n",
    "    \n",
    "    def get_the_details(self):\n",
    "        print(f\"Details is {self.name : 5 } {self.city : 5 } {self.slary: 5 }\")\n",
    "\n",
    "    def get_the_details_moew(self, language):\n",
    "        print(f\"Details is {self.name : 5 } {self.city : 5 } {self.slary: 5 } {self.language: 5 } \")\n",
    "\n",
    "    def hey(y):\n",
    "        print(y)\n",
    "\n",
    "\n",
    "\n",
    "# runner\n",
    "a = mainclass(\"john\",\"delhi\")\n",
    "a.name, a.city, a.salry"
   ]
  },
  {
   "cell_type": "code",
   "execution_count": 26,
   "metadata": {},
   "outputs": [
    {
     "data": {
      "text/plain": [
       "('raju', 'pune', 50)"
      ]
     },
     "execution_count": 26,
     "metadata": {},
     "output_type": "execute_result"
    }
   ],
   "source": [
    "a.name=\"raju\"\n",
    "a.city=\"pune\"\n",
    "a.salry = 50\n",
    "a.name, a.city, a.salry"
   ]
  },
  {
   "cell_type": "code",
   "execution_count": 29,
   "metadata": {},
   "outputs": [
    {
     "data": {
      "text/plain": [
       "('Hey!, How you doing!', 'Hey!, How you doing!')"
      ]
     },
     "execution_count": 29,
     "metadata": {},
     "output_type": "execute_result"
    }
   ],
   "source": [
    "# le's call calss variable\n",
    "# you can call it by using class name or class methods also\n",
    "a.say_hello , mainclass.say_hello"
   ]
  },
  {
   "cell_type": "code",
   "execution_count": 34,
   "metadata": {},
   "outputs": [
    {
     "data": {
      "text/plain": [
       "'holla!'"
      ]
     },
     "execution_count": 34,
     "metadata": {},
     "output_type": "execute_result"
    }
   ],
   "source": [
    "a.say_hello = \"holla!\"\n",
    "a.say_hello # changed for a object only, for class it'll remain same"
   ]
  },
  {
   "cell_type": "code",
   "execution_count": 33,
   "metadata": {},
   "outputs": [
    {
     "data": {
      "text/plain": [
       "'Hey!, How you doing!'"
      ]
     },
     "execution_count": 33,
     "metadata": {},
     "output_type": "execute_result"
    }
   ],
   "source": [
    "mainclass.say_hello # but it'll remain same for entire class"
   ]
  },
  {
   "cell_type": "code",
   "execution_count": 54,
   "metadata": {},
   "outputs": [],
   "source": [
    "mainclass.say_hello = \"holla hai!\"  # can be fully assigned by using class object"
   ]
  },
  {
   "cell_type": "code",
   "execution_count": 55,
   "metadata": {},
   "outputs": [
    {
     "data": {
      "text/plain": [
       "'holla hai!'"
      ]
     },
     "execution_count": 55,
     "metadata": {},
     "output_type": "execute_result"
    }
   ],
   "source": [
    "a.say_hello"
   ]
  },
  {
   "cell_type": "code",
   "execution_count": 56,
   "metadata": {},
   "outputs": [
    {
     "data": {
      "text/plain": [
       "'holla hai!'"
      ]
     },
     "execution_count": 56,
     "metadata": {},
     "output_type": "execute_result"
    }
   ],
   "source": [
    "b = mainclass(\"john\",\"delhi\")\n",
    "b.say_hello"
   ]
  },
  {
   "cell_type": "code",
   "execution_count": 59,
   "metadata": {},
   "outputs": [
    {
     "ename": "TypeError",
     "evalue": "hey() takes 1 positional argument but 2 were given",
     "output_type": "error",
     "traceback": [
      "\u001b[1;31m---------------------------------------------------------------------------\u001b[0m",
      "\u001b[1;31mTypeError\u001b[0m                                 Traceback (most recent call last)",
      "\u001b[1;32m~\\AppData\\Local\\Temp\\ipykernel_13352\\509767798.py\u001b[0m in \u001b[0;36m<module>\u001b[1;34m\u001b[0m\n\u001b[1;32m----> 1\u001b[1;33m \u001b[0mb\u001b[0m\u001b[1;33m.\u001b[0m\u001b[0mhey\u001b[0m\u001b[1;33m(\u001b[0m\u001b[1;34m\"y\"\u001b[0m\u001b[1;33m)\u001b[0m\u001b[1;33m\u001b[0m\u001b[1;33m\u001b[0m\u001b[0m\n\u001b[0m",
      "\u001b[1;31mTypeError\u001b[0m: hey() takes 1 positional argument but 2 were given"
     ]
    }
   ],
   "source": [
    "b.hey(\"y\")"
   ]
  },
  {
   "cell_type": "code",
   "execution_count": null,
   "metadata": {},
   "outputs": [],
   "source": []
  },
  {
   "cell_type": "markdown",
   "metadata": {},
   "source": [
    "## Static methods"
   ]
  },
  {
   "cell_type": "code",
   "execution_count": 86,
   "metadata": {},
   "outputs": [
    {
     "name": "stdout",
     "output_type": "stream",
     "text": [
      "instructure run...\n",
      "hey class method run....\n"
     ]
    }
   ],
   "source": [
    "# You can call a static method using the class name, and it doesn't require creating an instance of the class:\n",
    "\n",
    "class sample:\n",
    "    class_variable = \"class variable..\"\n",
    "    def __init__(self,sal) -> None:\n",
    "        print(\"instructure run...\")\n",
    "        self.name = \"shubham\"\n",
    "        self.sal  = sal\n",
    "\n",
    "    def isinstance_method(self):\n",
    "        print(\"instance method called...\")\n",
    "\n",
    "    @classmethod\n",
    "    def main(self):  # class method\n",
    "        print(\"hey class method run....\")\n",
    "\n",
    "    def main2():\n",
    "        print(\"hey let me run....\")\n",
    "\n",
    "    @staticmethod  # static method\n",
    "    def satatic():\n",
    "        print(\"static method run....\")\n",
    "\n",
    "    @staticmethod  # static method\n",
    "    def satatic2(sc):\n",
    "        print(f\"static method {sc} run....\")\n",
    "\n",
    "    def instance_method(self,class_variable):\n",
    "        print(f\"instance method calls with {self.class_variable}\")\n",
    "        print(f\"instance method calls with {class_variable}\")\n",
    "\n",
    "\n",
    "\n",
    "\n",
    "# run \n",
    "a = sample(1)\n",
    "a.main()"
   ]
  },
  {
   "cell_type": "code",
   "execution_count": 87,
   "metadata": {},
   "outputs": [
    {
     "name": "stdout",
     "output_type": "stream",
     "text": [
      "instance method calls with class variable..\n",
      "instance method calls with a\n"
     ]
    }
   ],
   "source": [
    "a.instance_method(\"a\")"
   ]
  },
  {
   "cell_type": "code",
   "execution_count": 79,
   "metadata": {},
   "outputs": [
    {
     "ename": "TypeError",
     "evalue": "isinstance_method() missing 1 required positional argument: 'self'",
     "output_type": "error",
     "traceback": [
      "\u001b[1;31m---------------------------------------------------------------------------\u001b[0m",
      "\u001b[1;31mTypeError\u001b[0m                                 Traceback (most recent call last)",
      "\u001b[1;32m~\\AppData\\Local\\Temp\\ipykernel_13352\\3973411454.py\u001b[0m in \u001b[0;36m<module>\u001b[1;34m\u001b[0m\n\u001b[1;32m----> 1\u001b[1;33m \u001b[0msample\u001b[0m\u001b[1;33m.\u001b[0m\u001b[0misinstance_method\u001b[0m\u001b[1;33m(\u001b[0m\u001b[1;33m)\u001b[0m\u001b[1;33m\u001b[0m\u001b[1;33m\u001b[0m\u001b[0m\n\u001b[0m",
      "\u001b[1;31mTypeError\u001b[0m: isinstance_method() missing 1 required positional argument: 'self'"
     ]
    }
   ],
   "source": [
    "sample.isinstance_method()"
   ]
  },
  {
   "cell_type": "code",
   "execution_count": 80,
   "metadata": {},
   "outputs": [
    {
     "name": "stdout",
     "output_type": "stream",
     "text": [
      "static method run....\n"
     ]
    }
   ],
   "source": [
    "sample.satatic()"
   ]
  },
  {
   "cell_type": "code",
   "execution_count": 81,
   "metadata": {},
   "outputs": [
    {
     "name": "stdout",
     "output_type": "stream",
     "text": [
      "hey class method run....\n"
     ]
    }
   ],
   "source": [
    "sample.main()"
   ]
  },
  {
   "cell_type": "code",
   "execution_count": 77,
   "metadata": {},
   "outputs": [
    {
     "name": "stdout",
     "output_type": "stream",
     "text": [
      "instance method called...\n"
     ]
    }
   ],
   "source": [
    "a.isinstance_method()"
   ]
  },
  {
   "cell_type": "code",
   "execution_count": 71,
   "metadata": {},
   "outputs": [
    {
     "name": "stdout",
     "output_type": "stream",
     "text": [
      "static method run....\n"
     ]
    }
   ],
   "source": [
    "a.satatic() ## now you can run using class"
   ]
  },
  {
   "cell_type": "code",
   "execution_count": 72,
   "metadata": {},
   "outputs": [
    {
     "name": "stdout",
     "output_type": "stream",
     "text": [
      "static method 2 run....\n"
     ]
    }
   ],
   "source": [
    "a.satatic2(2) ## now you can run using class"
   ]
  },
  {
   "cell_type": "code",
   "execution_count": 69,
   "metadata": {},
   "outputs": [
    {
     "ename": "TypeError",
     "evalue": "main2() takes 0 positional arguments but 1 was given",
     "output_type": "error",
     "traceback": [
      "\u001b[1;31m---------------------------------------------------------------------------\u001b[0m",
      "\u001b[1;31mTypeError\u001b[0m                                 Traceback (most recent call last)",
      "\u001b[1;32m~\\AppData\\Local\\Temp\\ipykernel_13352\\1257308318.py\u001b[0m in \u001b[0;36m<module>\u001b[1;34m\u001b[0m\n\u001b[1;32m----> 1\u001b[1;33m \u001b[0ma\u001b[0m\u001b[1;33m.\u001b[0m\u001b[0mmain2\u001b[0m\u001b[1;33m(\u001b[0m\u001b[1;33m)\u001b[0m\u001b[1;33m\u001b[0m\u001b[1;33m\u001b[0m\u001b[0m\n\u001b[0m",
      "\u001b[1;31mTypeError\u001b[0m: main2() takes 0 positional arguments but 1 was given"
     ]
    }
   ],
   "source": [
    "a.main2()"
   ]
  },
  {
   "cell_type": "markdown",
   "metadata": {},
   "source": [
    "## Can we change the self? :YES"
   ]
  },
  {
   "cell_type": "code",
   "execution_count": 90,
   "metadata": {},
   "outputs": [
    {
     "name": "stdout",
     "output_type": "stream",
     "text": [
      "The info is joe biden , 70\n"
     ]
    }
   ],
   "source": [
    "class train:\n",
    "    def __init__(hey, name, age):\n",
    "        hey.name = name\n",
    "        hey.age = age\n",
    "\n",
    "    def getDetails(hey):\n",
    "        print(f\"The info is {hey.name} , {hey.age}\")\n",
    "\n",
    "\n",
    "a = train(\"joe biden\", 70)\n",
    "a.getDetails()"
   ]
  },
  {
   "cell_type": "code",
   "execution_count": 91,
   "metadata": {},
   "outputs": [],
   "source": [
    "# but not the good practice"
   ]
  },
  {
   "cell_type": "code",
   "execution_count": null,
   "metadata": {},
   "outputs": [],
   "source": []
  }
 ],
 "metadata": {
  "kernelspec": {
   "display_name": "analysis",
   "language": "python",
   "name": "python3"
  },
  "language_info": {
   "codemirror_mode": {
    "name": "ipython",
    "version": 3
   },
   "file_extension": ".py",
   "mimetype": "text/x-python",
   "name": "python",
   "nbconvert_exporter": "python",
   "pygments_lexer": "ipython3",
   "version": "3.7.13"
  }
 },
 "nbformat": 4,
 "nbformat_minor": 2
}
