{
 "cells": [
  {
   "cell_type": "markdown",
   "metadata": {},
   "source": [
    "# Assignment 1 "
   ]
  },
  {
   "cell_type": "code",
   "execution_count": 5,
   "metadata": {},
   "outputs": [
    {
     "name": "stdout",
     "output_type": "stream",
     "text": [
      "twinkle twinkle liitle star\n",
      "5\n",
      "10\n",
      "15\n",
      "20\n",
      "25\n",
      "30\n",
      "35\n",
      "40\n",
      "45\n",
      "50\n",
      "[1 2]\n",
      "['day1_python.ipynb', 'Day2_again_from_start.ipynb', 'day2_interitance.ipynb', 'day2_oops.ipynb', 'day2_privateandprotected_variables.ipynb', 'day2_python.ipynb', 'main.txt']\n"
     ]
    }
   ],
   "source": [
    "# 1 Write python program to return twinkle twinkle liitle star\n",
    "print(\"twinkle twinkle liitle star\")\n",
    "\n",
    "# 2 USE REPL to print 5 Table\n",
    "# open terminal , write python\n",
    "\n",
    "for i in range(1,11):\n",
    "    print(5*i)\n",
    "\n",
    "# 3: Insall Externel module and perform operation\n",
    "# !pip install numpy\n",
    "\n",
    "import numpy as np \n",
    "print(np.array([1,2]))\n",
    "\n",
    "# 4 : write python porg to return the content of dir using os module\n",
    "import os  # importing builin module os\n",
    "print(os.listdir(\"./\"))  # listing all dir elements\n",
    "\n",
    "\n",
    "# 5 : label the problem with comment in problem 4 \n"
   ]
  },
  {
   "cell_type": "markdown",
   "metadata": {},
   "source": [
    "# Assignment 2 "
   ]
  },
  {
   "cell_type": "code",
   "execution_count": 7,
   "metadata": {},
   "outputs": [
    {
     "name": "stdout",
     "output_type": "stream",
     "text": [
      "3\n",
      "0\n",
      "<class 'str'>\n",
      "False\n",
      "2.5\n",
      "4\n",
      "None\n"
     ]
    }
   ],
   "source": [
    "# write python program to add 2 numbets\n",
    "print(1+2)\n",
    "\n",
    "# write program to find reminder\n",
    "print(4%2)\n",
    "\n",
    "# check the type of input using input functioj\n",
    "a = input(\"give me value\")\n",
    "print(type(a))\n",
    "\n",
    "# check if a is greter than b\n",
    "a,b= 40,80\n",
    "print(a>b)\n",
    "\n",
    "# write program to find avg of two numebrs\n",
    "print((2+3)/2)\n",
    "\n",
    "# write program to find square\n",
    "def sqr(n):\n",
    "    print(n*n)\n",
    "print(sqr(2))"
   ]
  },
  {
   "cell_type": "markdown",
   "metadata": {},
   "source": [
    "# Assignment 3"
   ]
  },
  {
   "cell_type": "code",
   "execution_count": 10,
   "metadata": {},
   "outputs": [
    {
     "name": "stdout",
     "output_type": "stream",
     "text": [
      "shubham : Hi Holl!\n",
      "Dear shubham \n",
      " You're selected! at \n",
      "45455121\n",
      "Hey  \n",
      "Dear, \tHarry \n",
      "This python porogram is nice\n"
     ]
    }
   ],
   "source": [
    "# write program to find user input folowwing by good morning\n",
    "def inp():\n",
    "    inp_ = input(\"user name\")\n",
    "    print(f\"{inp_} : Hi Holl!\")\n",
    "\n",
    "inp()\n",
    "\n",
    "# get the tmplate shown in input \n",
    "\n",
    "def get_template():\n",
    "    name = input(\"name\")\n",
    "    data = input(\"date\")\n",
    "    print(f\"Dear {name} \\n You're selected! at \\n{data}\")\n",
    "\n",
    "get_template()\n",
    "\n",
    "# write program to delete doublt space \n",
    "def del_spaces(text):\n",
    "    text = text.replace(\"   \", \"\")\n",
    "    print(text)\n",
    "\n",
    "del_spaces(\"      Hey     \")\n",
    "\n",
    "# program using esacpe leter format\n",
    "\n",
    "print(\"Dear, \\tHarry \\nThis python porogram is nice\")\n",
    "\n"
   ]
  },
  {
   "cell_type": "markdown",
   "metadata": {},
   "source": [
    "# Assignment 4"
   ]
  },
  {
   "cell_type": "code",
   "execution_count": 14,
   "metadata": {},
   "outputs": [
    {
     "name": "stdout",
     "output_type": "stream",
     "text": [
      "['applt', 'asd', 'd', 'b', 'b', 'b', 'f']\n",
      "[1, 1, 2, 4, 5, 6, 7]\n",
      "Bhai Kya kr raha hai...\n",
      "10\n",
      "2\n"
     ]
    }
   ],
   "source": [
    "# write program to store 7 fruits in list\n",
    "\n",
    "def fruits():\n",
    "    fruits_list =[]\n",
    "    n = 1 \n",
    "    while n <=7:\n",
    "        fruit = input(\"Enter fruit name here....\")\n",
    "        fruits_list.append(fruit)\n",
    "        n+=1\n",
    "    print(fruits_list)\n",
    "\n",
    "## \n",
    "fruits()\n",
    "\n",
    "\n",
    "## write program to accept mark of 7 student & display them in sorted manner\n",
    "def student_marks():\n",
    "    mark_list =[]\n",
    "    n = 1 \n",
    "    while n <=7:\n",
    "        mark = input(\"Enter mark ....\")\n",
    "        mark_list.append(eval(mark))\n",
    "        n+=1\n",
    "    mark_list.sort()\n",
    "    print(mark_list)\n",
    "\n",
    "## \n",
    "student_marks()\n",
    "\n",
    "#  Chek that tuple can't be change in pyrhon\n",
    "try:\n",
    "    tup = (1,2,3,4)\n",
    "    tup[1] = 2 \n",
    "except Exception as e:\n",
    "    print(\"Bhai Kya kr raha hai...\")\n",
    "\n",
    "\n",
    "# write program to sum list of 4 nums\n",
    "def sum_ (l):\n",
    "    print(sum(l))\n",
    "\n",
    "sum_([1,2,3,4])\n",
    "\n",
    "# write prog to cont zero in tuple\n",
    "a = (0,0,1,2)\n",
    "print(a.count(0))\n",
    "\n"
   ]
  },
  {
   "cell_type": "markdown",
   "metadata": {},
   "source": [
    "# Assignment 5 "
   ]
  },
  {
   "cell_type": "code",
   "execution_count": 21,
   "metadata": {},
   "outputs": [
    {
     "name": "stdout",
     "output_type": "stream",
     "text": [
      "{'hi': 'namste', 'What': 'kya'}\n",
      "{8, 4, 5, 6}\n"
     ]
    }
   ],
   "source": [
    "##write prog to create hindi words \n",
    "print({\"hi\": \"namste\", \"What\":\"kya\"})\n",
    "\n",
    "\n",
    "#  write program to enter 4 nums & display unique nums\n",
    "def un():\n",
    "    b = []\n",
    "    n = 1 \n",
    "    while n <= 4 : \n",
    "        a = input(\"Write numbers\")\n",
    "        b.append(eval(a))\n",
    "        n+=1\n",
    "    print(set(b))\n",
    "\n",
    "\n",
    "un()\n",
    "\n",
    "# can we have a set of 18 int & \"18\" str in it :: YES\n",
    "print({18 , \"18\"})  # will keep both\n",
    "\n",
    "print(type({}))\n",
    "\n",
    "# # crete dict frind anem : markas\n",
    "\n",
    "# def frined():\n",
    "#     n = 1 \n",
    "#     fd = dict()\n",
    "\n",
    "#     while n <=2:\n",
    "#         key_, *value = eval(input(\"[name age]\")) # list\n",
    "#         fd['key_'] = value\n",
    "#         n+=1\n",
    "#     print(fd)\n",
    "\n",
    "## If keys are same: if you use update the will update the value \n",
    "## Values can be duplicates\n",
    "    \n"
   ]
  },
  {
   "cell_type": "code",
   "execution_count": 22,
   "metadata": {},
   "outputs": [
    {
     "name": "stdout",
     "output_type": "stream",
     "text": [
      "<class 'dict'>\n"
     ]
    }
   ],
   "source": [
    "print(type({}))"
   ]
  },
  {
   "cell_type": "code",
   "execution_count": 26,
   "metadata": {},
   "outputs": [
    {
     "name": "stdout",
     "output_type": "stream",
     "text": [
      "{'sh': [2], 'john': [25]}\n"
     ]
    }
   ],
   "source": [
    "def frined():\n",
    "    n = 1 \n",
    "    fd = dict()\n",
    "\n",
    "    while n <=2:\n",
    "        key_, *value = eval(input(\"[name age]\")) # list\n",
    "        fd[key_] = value\n",
    "        \n",
    "        n+=1\n",
    "    print(fd)\n",
    "\n",
    "frined()\n",
    "\n",
    "# If keys are same: if you use update the will update the value \n",
    "# Values can be duplicates"
   ]
  },
  {
   "cell_type": "code",
   "execution_count": 57,
   "metadata": {},
   "outputs": [
    {
     "data": {
      "text/plain": [
       "['Shuhaus', 'kkjoiud', 'sadasdd', 'dkasjd']"
      ]
     },
     "execution_count": 57,
     "metadata": {},
     "output_type": "execute_result"
    }
   ],
   "source": [
    "b\n",
    "\n"
   ]
  },
  {
   "cell_type": "markdown",
   "metadata": {},
   "source": [
    "# Assignment 6 "
   ]
  },
  {
   "cell_type": "code",
   "execution_count": 37,
   "metadata": {},
   "outputs": [
    {
     "name": "stdout",
     "output_type": "stream",
     "text": [
      "7\n",
      "pass\n",
      "Fail\n",
      "spam\n",
      "Give small number plss...\n",
      "tier1\n",
      "Tier2\n",
      "Tier3\n"
     ]
    }
   ],
   "source": [
    "# write prog to finc greatest num \n",
    "a =[4,5,7,1]\n",
    "max_ = -89999999999\n",
    "for i in a :\n",
    "    if max_ > i :\n",
    "        pass   \n",
    "    else:\n",
    "        max_ = i \n",
    "   \n",
    "print(max_)\n",
    "\n",
    "## write pass or fail \n",
    "\n",
    "marks =[40,20]\n",
    "\n",
    "def status(i):\n",
    "    if i >= 40:\n",
    "        print(\"pass\")\n",
    "    else:\n",
    "        print(\"Fail\")\n",
    "\n",
    "for i in marks:\n",
    "    status(i)\n",
    "\n",
    "# write progam to detect the spam commentss\n",
    "\n",
    "\n",
    "def spam_ham(text):\n",
    "    coms = [\"hjshajs\", \"spammmm\", \"spagjhsdghasgdh\", \"ajsjdg sahgdhbas\"]\n",
    "    for i in coms:\n",
    "        if i in text:\n",
    "            print(\"spam\")\n",
    "     \n",
    "\n",
    "spam_ham(\"spagjhsdghasgdh hello\")\n",
    "\n",
    "\n",
    "\n",
    "# usernam elen filter\n",
    "\n",
    "usernmae = \"hajhdka\"\n",
    "\n",
    "if len(usernmae) > 4 :\n",
    "    print(\"Give small number plss...\")\n",
    "\n",
    "\n",
    "## write prog to find grade\n",
    "    \n",
    "\n",
    "def grade(mark):\n",
    "    if mark >= 80 :\n",
    "        print(\"tier1\")\n",
    "    elif (mark > 50) & (mark < 80):\n",
    "        print(\"Tier2\")\n",
    "    else:\n",
    "        print(\"Tier3\")\n",
    "\n",
    "grade(85)\n",
    "grade(70)\n",
    "grade(40)"
   ]
  },
  {
   "cell_type": "code",
   "execution_count": 38,
   "metadata": {},
   "outputs": [
    {
     "name": "stdout",
     "output_type": "stream",
     "text": [
      "yes talking about sam\n"
     ]
    }
   ],
   "source": [
    "## program to fin whetere given post trakling abotut smae or not\n",
    "\n",
    "post = \"ksdh kahsdkajs d SAM\"\n",
    "\n",
    "if \"sam\" in post.lower():\n",
    "    print(\"yes talking about sam\")"
   ]
  },
  {
   "cell_type": "markdown",
   "metadata": {},
   "source": [
    "# Assignments 7 : loops"
   ]
  },
  {
   "cell_type": "code",
   "execution_count": 40,
   "metadata": {},
   "outputs": [
    {
     "name": "stdout",
     "output_type": "stream",
     "text": [
      "['Shuhaus', 'sadasdd']\n"
     ]
    }
   ],
   "source": [
    "# store name start with s \n",
    "\n",
    "a = []\n",
    "b = ['Shuhaus', \"kkjoiud\", \"sadasdd\", \"dkasjd\"]\n",
    "for i in b:\n",
    "    if i.lower().startswith(\"s\"):\n",
    "        a.append(i)\n",
    "print(a)"
   ]
  },
  {
   "cell_type": "code",
   "execution_count": 41,
   "metadata": {},
   "outputs": [
    {
     "name": "stdout",
     "output_type": "stream",
     "text": [
      "5\n",
      "10\n",
      "15\n",
      "20\n",
      "25\n",
      "30\n",
      "35\n",
      "40\n",
      "45\n",
      "50\n",
      "5\n",
      "10\n",
      "15\n",
      "20\n",
      "25\n",
      "30\n",
      "35\n",
      "40\n",
      "45\n",
      "50\n"
     ]
    }
   ],
   "source": [
    "# table using while loop\n",
    "# 5 table \n",
    "\n",
    "for i in range(1,11):\n",
    "    print( 5 * i )\n",
    "\n",
    "# using while loop\n",
    "    \n",
    "n = 1 \n",
    "while n <=10:\n",
    "    print(5 * n )\n",
    "    n+=1 \n",
    "\n"
   ]
  },
  {
   "cell_type": "code",
   "execution_count": 58,
   "metadata": {},
   "outputs": [
    {
     "name": "stdout",
     "output_type": "stream",
     "text": [
      "17 is a prime number.\n"
     ]
    }
   ],
   "source": [
    "## get prime\n",
    "\n",
    "def is_prime(number):\n",
    "    if number < 2:\n",
    "        return False\n",
    "    for i in range(2, int(number**0.5) + 1):  # squre root taken: optimized\n",
    "        if number % i == 0:\n",
    "            return False\n",
    "    return True\n",
    "\n",
    "# Example usage\n",
    "num_to_check = 17\n",
    "\n",
    "if is_prime(num_to_check):\n",
    "    print(f\"{num_to_check} is a prime number.\")\n",
    "else:\n",
    "    print(f\"{num_to_check} is not a prime number.\")"
   ]
  },
  {
   "cell_type": "code",
   "execution_count": 44,
   "metadata": {},
   "outputs": [
    {
     "name": "stdout",
     "output_type": "stream",
     "text": [
      "120\n"
     ]
    }
   ],
   "source": [
    "## factorial \n",
    "n = 5 \n",
    "fact= 1 \n",
    "for i in range(1,n+1):\n",
    "    fact =fact*i\n",
    "print(fact)"
   ]
  },
  {
   "cell_type": "code",
   "execution_count": 59,
   "metadata": {},
   "outputs": [
    {
     "name": "stdout",
     "output_type": "stream",
     "text": [
      "    *  \n",
      "\n",
      "  *  *  \n",
      "\n",
      "*  *  *  \n",
      "\n"
     ]
    }
   ],
   "source": [
    "rows= 3\n",
    "\n",
    "for i in range(0, rows):\n",
    "    for j in range(0,rows-i-1):\n",
    "        print(\" \", end=' ')\n",
    "    for j in range(0 , i  + 1 ):\n",
    "        print(\"* \", end = \" \")\n",
    "    print()\n",
    "    print()\n"
   ]
  },
  {
   "cell_type": "markdown",
   "metadata": {},
   "source": [
    "# Assignment 8"
   ]
  },
  {
   "cell_type": "code",
   "execution_count": 2,
   "metadata": {},
   "outputs": [
    {
     "name": "stdout",
     "output_type": "stream",
     "text": [
      "7\n",
      "14\n",
      "21\n",
      "28\n",
      "35\n",
      "42\n",
      "49\n",
      "56\n",
      "63\n",
      "70\n"
     ]
    }
   ],
   "source": [
    "# tbale\n",
    "\n",
    "num = 7\n",
    "for i in range(1,11):\n",
    "    print(7*i)\n"
   ]
  },
  {
   "cell_type": "code",
   "execution_count": 3,
   "metadata": {},
   "outputs": [
    {
     "name": "stdout",
     "output_type": "stream",
     "text": [
      "Hello! happt\n",
      "Hello! rocky\n"
     ]
    }
   ],
   "source": [
    "# program to gereet\n",
    "a = [\"happt\", \"rocky\"]\n",
    "for i in a :\n",
    "    print(f\"Hello! {i}\")"
   ]
  },
  {
   "cell_type": "code",
   "execution_count": 4,
   "metadata": {},
   "outputs": [
    {
     "name": "stdout",
     "output_type": "stream",
     "text": [
      "7\n",
      "14\n",
      "21\n",
      "28\n",
      "35\n",
      "42\n",
      "49\n",
      "56\n",
      "63\n",
      "70\n"
     ]
    }
   ],
   "source": [
    "# while loop\n",
    "\n",
    "num = 7\n",
    "n = 1 \n",
    "while n <=10:\n",
    "    print(num*n)\n",
    "    n+=1\n"
   ]
  },
  {
   "cell_type": "code",
   "execution_count": 8,
   "metadata": {},
   "outputs": [
    {
     "name": "stdout",
     "output_type": "stream",
     "text": [
      "8\n"
     ]
    }
   ],
   "source": [
    "def greatest(a):\n",
    "    print(max(a))\n",
    "   \n",
    "\n",
    "greatest([5,8,4])"
   ]
  },
  {
   "cell_type": "code",
   "execution_count": 10,
   "metadata": {},
   "outputs": [
    {
     "name": "stdout",
     "output_type": "stream",
     "text": [
      "1 2 3 4 5 6 7 8 9 "
     ]
    }
   ],
   "source": [
    "# prevent python fiunction to pprint new line\n",
    "for i in range(1,10):\n",
    "    print(i , end=\" \")"
   ]
  },
  {
   "cell_type": "code",
   "execution_count": 11,
   "metadata": {},
   "outputs": [
    {
     "name": "stdout",
     "output_type": "stream",
     "text": [
      "55\n"
     ]
    }
   ],
   "source": [
    "# function to sum of first namtural numbers\n",
    "n = 10 \n",
    "\n",
    "def getNaturalSum(n):\n",
    "    if n <=0 :\n",
    "        return 0 \n",
    "    else:\n",
    "        return n + getNaturalSum(n-1)\n",
    "\n",
    "print(getNaturalSum(n))"
   ]
  },
  {
   "cell_type": "code",
   "execution_count": 15,
   "metadata": {},
   "outputs": [
    {
     "name": "stdout",
     "output_type": "stream",
     "text": [
      " \n",
      "*   *    \n",
      "*   *   *    \n",
      "*   *   *   *    \n",
      "*   *   *   *   *    \n",
      "*   *   *   *   *   *    \n",
      "*   *   *   *   *   *   *    \n",
      "*   *   *   *   *   *   *   *    \n",
      "*   *   *   *   *   *   *   *   *    \n",
      "*   *   *   *   *   *   *   *   *   *    \n",
      "*   *   *   *   *   *   *   *   *   *   *   "
     ]
    }
   ],
   "source": [
    "n = 5 \n",
    "\n",
    "def getStars(n):\n",
    "    for i in range(0,n):\n",
    "        print(\" \")\n",
    "        for j in range(0 , i + 1 + 1 ):\n",
    "            print(\"* \", end=\"  \")\n",
    "\n",
    "getStars(10)"
   ]
  },
  {
   "cell_type": "code",
   "execution_count": 16,
   "metadata": {},
   "outputs": [
    {
     "name": "stdout",
     "output_type": "stream",
     "text": [
      "1.0\n"
     ]
    }
   ],
   "source": [
    "def kmConverter(meter):\n",
    "    return(meter/1000)\n",
    "\n",
    "print(kmConverter(1000))"
   ]
  },
  {
   "cell_type": "code",
   "execution_count": 17,
   "metadata": {},
   "outputs": [
    {
     "name": "stdout",
     "output_type": "stream",
     "text": [
      "25\n"
     ]
    }
   ],
   "source": [
    "def getMultipy(a,b):\n",
    "    print(a*b)\n",
    "\n",
    "getMultipy(5,5)\n"
   ]
  },
  {
   "cell_type": "markdown",
   "metadata": {},
   "source": [
    "# Assginment on File"
   ]
  },
  {
   "cell_type": "code",
   "execution_count": 18,
   "metadata": {},
   "outputs": [],
   "source": [
    "# cretae file \n",
    "\n",
    "with open(\"./new_file.txt\", mode=\"w\") as f:\n",
    "    f.write( \"\"\" Hello! \\n \n",
    "            How you doing!\"\"\")\n",
    "    f.close()"
   ]
  },
  {
   "cell_type": "code",
   "execution_count": 19,
   "metadata": {},
   "outputs": [
    {
     "name": "stdout",
     "output_type": "stream",
     "text": [
      " Hello! \n",
      " \n",
      "            How you doing!\n"
     ]
    }
   ],
   "source": [
    "# read file \n",
    "\n",
    "with open(\"./new_file.txt\", mode=\"r\") as f:\n",
    "    content = f.read()\n",
    "    f.close()\n",
    "\n",
    "# \n",
    "print(content)"
   ]
  },
  {
   "cell_type": "code",
   "execution_count": 20,
   "metadata": {},
   "outputs": [],
   "source": [
    "import random"
   ]
  },
  {
   "cell_type": "code",
   "execution_count": 22,
   "metadata": {},
   "outputs": [
    {
     "data": {
      "text/plain": [
       "2"
      ]
     },
     "execution_count": 22,
     "metadata": {},
     "output_type": "execute_result"
    }
   ],
   "source": []
  },
  {
   "cell_type": "code",
   "execution_count": 26,
   "metadata": {},
   "outputs": [],
   "source": [
    "# write program to genrate table from 1 to 20 \n",
    "\n",
    "n = 20\n",
    "\n",
    "\n",
    "def getTables(n):\n",
    "    import os\n",
    "    os.makedirs(\"./Tables\", exist_ok=True)\n",
    "    for i in range(1,n):\n",
    "        temp_list = [] \n",
    "        a = \"\"\n",
    "        for j in range(1,11):\n",
    "            temp = f\"{i} X {j} = {i*j}\"\n",
    "            a = a +  \"\\n\" + temp\n",
    "        with open(f\"./Tables/{i}_table.txt\", mode=\"w\") as f:\n",
    "            f.write(a)\n",
    "            f.close()\n",
    "\n",
    "# runner code\n",
    "\n",
    "getTables(20)"
   ]
  },
  {
   "cell_type": "code",
   "execution_count": 36,
   "metadata": {},
   "outputs": [
    {
     "name": "stdout",
     "output_type": "stream",
     "text": [
      "Content before :  Donkey\n",
      "\n",
      "\n",
      "Donkey \n"
     ]
    }
   ],
   "source": [
    "# File contains donkey replace this with \"Harry\" in same file\n",
    "\n",
    "with open(\"./key.txt\", mode=\"r\") as f :\n",
    "    content = f.read()\n",
    "    print(\"Content before : \", content)\n",
    "    content = content.replace(\"Donkey\", \"Harry\")\n",
    "    # f.write(content)\n",
    "    f.close()\n",
    "  \n",
    "\n",
    "with open(\"./key.txt\", mode=\"w\") as f :\n",
    "    f.write(content)\n",
    "    f.close()\n",
    "   "
   ]
  },
  {
   "cell_type": "code",
   "execution_count": 37,
   "metadata": {},
   "outputs": [],
   "source": [
    "def find_line_numbers(file_path, whatTOFInd):\n",
    "    line_numbers = []\n",
    "    \n",
    "    with open(file_path, 'r') as file:\n",
    "        for line_number, line in enumerate(file, start=1):\n",
    "            if whatTOFInd in line:\n",
    "                line_numbers.append(line_number)\n",
    "\n",
    "    return line_numbers\n",
    "\n",
    "# Example usage:\n",
    "file_path = 'key.txt' \n",
    "substring_to_find = 'Harry'\n",
    "\n",
    "found_line_numbers = find_line_numbers(file_path, substring_to_find)"
   ]
  },
  {
   "cell_type": "code",
   "execution_count": 38,
   "metadata": {},
   "outputs": [
    {
     "data": {
      "text/plain": [
       "[1, 4]"
      ]
     },
     "execution_count": 38,
     "metadata": {},
     "output_type": "execute_result"
    }
   ],
   "source": [
    "found_line_numbers"
   ]
  },
  {
   "cell_type": "code",
   "execution_count": 39,
   "metadata": {},
   "outputs": [
    {
     "data": {
      "text/plain": [
       "'./key_copy.txt'"
      ]
     },
     "execution_count": 39,
     "metadata": {},
     "output_type": "execute_result"
    }
   ],
   "source": [
    "# program to make copy of file \n",
    "import shutil \n",
    "\n",
    "shutil.copy(\"./key.txt\" , \"./key_copy.txt\")"
   ]
  },
  {
   "cell_type": "code",
   "execution_count": 41,
   "metadata": {},
   "outputs": [],
   "source": [
    "# program to rename file \n",
    "import os \n",
    "os.rename(\"./key_copy.txt\" , \"./renamed_file.txt\")"
   ]
  },
  {
   "cell_type": "code",
   "execution_count": 43,
   "metadata": {},
   "outputs": [
    {
     "name": "stdout",
     "output_type": "stream",
     "text": [
      "Try to  number between 1 and 4\n",
      "Congratulations! youget number in 1 attempts.\n"
     ]
    }
   ],
   "source": [
    "import random\n",
    "\n",
    "def play_guessing_game():\n",
    "    secret_number = random.randint(1, 4)\n",
    "    attempts = 0\n",
    "    \n",
    "\n",
    "    print(\"Try to  number between 1 and 4\")\n",
    "\n",
    "    while True:\n",
    "        try:\n",
    "\n",
    "            guess = int(input(\"Enter your guess: \"))\n",
    "            attempts += 1\n",
    "\n",
    "            if guess == secret_number:\n",
    "                print(f\"Congratulations! youget number in {attempts} attempts.\")\n",
    "                break\n",
    "            elif guess < secret_number:\n",
    "                print(\"tray  agin\")\n",
    "            else:\n",
    "                print(\"again traiy\")\n",
    "        except ValueError:\n",
    "            print(\"Invalid input. Please enter a valid number.\")\n",
    "\n",
    "    return attempts\n",
    "\n",
    "def save_score(score):\n",
    "    with open('guessing_game_scores.txt', 'a') as file:\n",
    "        file.write(str(score) + '\\n')\n",
    "\n",
    "score = play_guessing_game()\n",
    "save_score(score)"
   ]
  },
  {
   "cell_type": "markdown",
   "metadata": {},
   "source": [
    "# Assignment 10 OOPs\n"
   ]
  },
  {
   "cell_type": "code",
   "execution_count": 79,
   "metadata": {},
   "outputs": [
    {
     "name": "stdout",
     "output_type": "stream",
     "text": [
      "Yes, you are in amg\n"
     ]
    }
   ],
   "source": [
    "#class to create programmer is ti worked in amgen\n",
    "\n",
    "class Programmer:\n",
    "    def __init__(self):\n",
    "        self.records = {}\n",
    "\n",
    "    def store_data(self, name, org):\n",
    "        if org.lower() == \"amg\":\n",
    "            print(\"Yes, you are in amg\")\n",
    "            self.records[\"name\"] = name\n",
    "        else:\n",
    "            print(\"You're not in amg\")\n",
    "\n",
    "\n",
    "programmer_= Programmer()\n",
    "programmer_.store_data(\"John Doe\", \"amg\")"
   ]
  },
  {
   "cell_type": "code",
   "execution_count": 81,
   "metadata": {},
   "outputs": [],
   "source": [
    "class Calculator:\n",
    "    def add(self, *args):  #*args if you pass multiple values\n",
    "        return sum(args)\n",
    "\n",
    "    def subtract(self, x, *args):\n",
    "        return x - sum(args)\n",
    "\n",
    "    def multiply(self, *args):\n",
    "        result = 1\n",
    "        for value in args:\n",
    "            result *= value\n",
    "        return result\n",
    "\n",
    "    def divide(self, x, *args):\n",
    "        result = x\n",
    "        for value in args:\n",
    "            if value != 0:\n",
    "                result /= value\n",
    "            else:\n",
    "                raise ValueError(\"Cannot divide by zero.\")\n",
    "        return result\n",
    "    \n",
    "#\n",
    "a = Calculator()"
   ]
  },
  {
   "cell_type": "code",
   "execution_count": 86,
   "metadata": {},
   "outputs": [
    {
     "data": {
      "text/plain": [
       "(10, 16, 2.0)"
      ]
     },
     "execution_count": 86,
     "metadata": {},
     "output_type": "execute_result"
    }
   ],
   "source": [
    "a.add(1,2,3,4),a.multiply(2,2,2,2),a.divide(4,2)"
   ]
  },
  {
   "cell_type": "code",
   "execution_count": 88,
   "metadata": {},
   "outputs": [
    {
     "ename": "ValueError",
     "evalue": "Cannot divide by zero.",
     "output_type": "error",
     "traceback": [
      "\u001b[1;31m---------------------------------------------------------------------------\u001b[0m",
      "\u001b[1;31mValueError\u001b[0m                                Traceback (most recent call last)",
      "\u001b[1;32m~\\AppData\\Local\\Temp\\ipykernel_16336\\2900077901.py\u001b[0m in \u001b[0;36m<module>\u001b[1;34m\u001b[0m\n\u001b[1;32m----> 1\u001b[1;33m \u001b[0ma\u001b[0m\u001b[1;33m.\u001b[0m\u001b[0mdivide\u001b[0m\u001b[1;33m(\u001b[0m\u001b[1;36m4\u001b[0m\u001b[1;33m,\u001b[0m\u001b[1;36m0\u001b[0m\u001b[1;33m)\u001b[0m\u001b[1;33m\u001b[0m\u001b[1;33m\u001b[0m\u001b[0m\n\u001b[0m",
      "\u001b[1;32m~\\AppData\\Local\\Temp\\ipykernel_16336\\4173112055.py\u001b[0m in \u001b[0;36mdivide\u001b[1;34m(self, x, *args)\u001b[0m\n\u001b[0;32m     18\u001b[0m                 \u001b[0mresult\u001b[0m \u001b[1;33m/=\u001b[0m \u001b[0mvalue\u001b[0m\u001b[1;33m\u001b[0m\u001b[1;33m\u001b[0m\u001b[0m\n\u001b[0;32m     19\u001b[0m             \u001b[1;32melse\u001b[0m\u001b[1;33m:\u001b[0m\u001b[1;33m\u001b[0m\u001b[1;33m\u001b[0m\u001b[0m\n\u001b[1;32m---> 20\u001b[1;33m                 \u001b[1;32mraise\u001b[0m \u001b[0mValueError\u001b[0m\u001b[1;33m(\u001b[0m\u001b[1;34m\"Cannot divide by zero.\"\u001b[0m\u001b[1;33m)\u001b[0m\u001b[1;33m\u001b[0m\u001b[1;33m\u001b[0m\u001b[0m\n\u001b[0m\u001b[0;32m     21\u001b[0m         \u001b[1;32mreturn\u001b[0m \u001b[0mresult\u001b[0m\u001b[1;33m\u001b[0m\u001b[1;33m\u001b[0m\u001b[0m\n\u001b[0;32m     22\u001b[0m \u001b[1;33m\u001b[0m\u001b[0m\n",
      "\u001b[1;31mValueError\u001b[0m: Cannot divide by zero."
     ]
    }
   ],
   "source": [
    "a.divide(4,0)"
   ]
  },
  {
   "cell_type": "code",
   "execution_count": 89,
   "metadata": {},
   "outputs": [],
   "source": [
    "# add static method to greet user\n",
    "\n",
    "class greet:\n",
    "    @staticmethod\n",
    "    def greet_him(name):\n",
    "        print(f\"Hi ! {name}\")\n",
    "\n",
    "## \n",
    "a = greet()"
   ]
  },
  {
   "cell_type": "code",
   "execution_count": 90,
   "metadata": {},
   "outputs": [
    {
     "name": "stdout",
     "output_type": "stream",
     "text": [
      "Hi ! shubham\n"
     ]
    }
   ],
   "source": [
    "a.greet_him(\"shubham\")"
   ]
  },
  {
   "cell_type": "code",
   "execution_count": 92,
   "metadata": {},
   "outputs": [],
   "source": [
    "## class to train tikcet book\n",
    "\n",
    "class bookTrain:\n",
    "    def __init__(self,total_tickets) -> None:\n",
    "        self.total_tickets = total_tickets\n",
    "        self.available_ticket = total_tickets\n",
    "        self.bookd_seats = 0 \n",
    "\n",
    "    def check_seat(self):\n",
    "        return self.available_ticket\n",
    "    \n",
    "    def bookSeat(self, num_tickets):\n",
    "        if  num_tickets <= self.available_ticket:\n",
    "            self.bookd_seats += num_tickets\n",
    "            self.available_ticket-= num_tickets\n",
    "            print(f\"your tiket book successfully QTY  {num_tickets}\")\n",
    "        else:\n",
    "            print(\"Apply for Tatkal\")\n",
    "\n",
    "    def display_details(self):\n",
    "        print(f\"Total Tickets: {self.total_tickets}\")\n",
    "        print(f\"Booked Tickets: {self.bookd_seats}\")\n",
    "        print(f\"Available Tickets: {self.available_ticket}\")\n"
   ]
  },
  {
   "cell_type": "code",
   "execution_count": 99,
   "metadata": {},
   "outputs": [
    {
     "data": {
      "text/plain": [
       "50"
      ]
     },
     "execution_count": 99,
     "metadata": {},
     "output_type": "execute_result"
    }
   ],
   "source": [
    "a = bookTrain(total_tickets=50)\n",
    "a.check_seat()"
   ]
  },
  {
   "cell_type": "code",
   "execution_count": 100,
   "metadata": {},
   "outputs": [
    {
     "name": "stdout",
     "output_type": "stream",
     "text": [
      "Total Tickets: 50\n",
      "Booked Tickets: 0\n",
      "Available Tickets: 50\n"
     ]
    }
   ],
   "source": [
    "a.display_details()"
   ]
  },
  {
   "cell_type": "code",
   "execution_count": 101,
   "metadata": {},
   "outputs": [
    {
     "name": "stdout",
     "output_type": "stream",
     "text": [
      "your tiket book successfully QTY  2\n"
     ]
    }
   ],
   "source": [
    "a.bookSeat(2)"
   ]
  },
  {
   "cell_type": "code",
   "execution_count": 102,
   "metadata": {},
   "outputs": [
    {
     "name": "stdout",
     "output_type": "stream",
     "text": [
      "Total Tickets: 50\n",
      "Booked Tickets: 2\n",
      "Available Tickets: 48\n"
     ]
    }
   ],
   "source": [
    "a.display_details()"
   ]
  },
  {
   "cell_type": "code",
   "execution_count": 104,
   "metadata": {},
   "outputs": [
    {
     "name": "stdout",
     "output_type": "stream",
     "text": [
      "Apply for Tatkal\n"
     ]
    }
   ],
   "source": [
    "a.bookSeat(40)"
   ]
  },
  {
   "cell_type": "code",
   "execution_count": 105,
   "metadata": {},
   "outputs": [
    {
     "name": "stdout",
     "output_type": "stream",
     "text": [
      "Gauss\n"
     ]
    }
   ],
   "source": [
    "# change self param\n",
    "\n",
    "class abcd:\n",
    "    def __init__(harry, a) -> None:\n",
    "        harry.a = a\n",
    "    def display(harry):\n",
    "        print(harry.a)\n",
    "\n",
    "\n",
    "## \n",
    "\n",
    "a = abcd(\"Gauss\")\n",
    "a.display()"
   ]
  },
  {
   "cell_type": "code",
   "execution_count": 106,
   "metadata": {},
   "outputs": [
    {
     "name": "stdout",
     "output_type": "stream",
     "text": [
      "2D Vector: (3, 4)\n",
      "Magnitude: 5.0\n",
      "\n",
      "3D Vector: (1, 2, 3)\n",
      "Magnitude: 3.7416573867739413\n"
     ]
    }
   ],
   "source": [
    "import math\n",
    "\n",
    "class Vector2D:\n",
    "    def __init__(self, x, y):\n",
    "        self.x = x\n",
    "        self.y = y\n",
    "\n",
    "    def magnitude(self):\n",
    "        return math.sqrt(self.x**2 + self.y**2)\n",
    "\n",
    "    def __str__(self):\n",
    "        return f\"({self.x}, {self.y})\"\n",
    "\n",
    "class Vector3D:\n",
    "    def __init__(self, x, y, z):\n",
    "        self.x = x\n",
    "        self.y = y\n",
    "        self.z = z\n",
    "\n",
    "    def magnitude(self):\n",
    "        return math.sqrt(self.x**2 + self.y**2 + self.z**2)\n",
    "\n",
    "    def __str__(self):\n",
    "        return f\"({self.x}, {self.y}, {self.z})\"\n",
    "\n",
    "# Example usage:\n",
    "vector_2d = Vector2D(3, 4)\n",
    "print(\"2D Vector:\", vector_2d)\n",
    "print(\"Magnitude:\", vector_2d.magnitude())\n",
    "\n",
    "vector_3d = Vector3D(1, 2, 3)\n",
    "print(\"\\n3D Vector:\", vector_3d)\n",
    "print(\"Magnitude:\", vector_3d.magnitude())\n"
   ]
  },
  {
   "cell_type": "code",
   "execution_count": 112,
   "metadata": {},
   "outputs": [],
   "source": [
    "class Animal:\n",
    "    def __init__(self) -> None:\n",
    "        self.animal = \"Animal hu bhai\"\n",
    "    \n",
    "    def Display(self):\n",
    "        print(\"Animal have diff species\")\n",
    "\n",
    "class pet(Animal):\n",
    "    def __init__(self, typeOfPet) -> None:\n",
    "        super().__init__()\n",
    "        self.typeOfPet = typeOfPet\n",
    "    def display(self):\n",
    "        print(self.typeOfPet)\n",
    "\n",
    "class Dog(pet):\n",
    "    def __init__(self, typeOfPet) -> None:\n",
    "        super().__init__(typeOfPet)\n",
    "\n",
    "    def __str__(self) -> str:\n",
    "        print(\"Dog : \", self.typeOfPet)\n"
   ]
  },
  {
   "cell_type": "code",
   "execution_count": 113,
   "metadata": {},
   "outputs": [],
   "source": [
    "a = Dog(\"humble\")"
   ]
  },
  {
   "cell_type": "code",
   "execution_count": 114,
   "metadata": {},
   "outputs": [
    {
     "name": "stdout",
     "output_type": "stream",
     "text": [
      "Dog :  humble\n"
     ]
    }
   ],
   "source": [
    "a.__str__()"
   ]
  },
  {
   "cell_type": "code",
   "execution_count": 115,
   "metadata": {},
   "outputs": [
    {
     "name": "stdout",
     "output_type": "stream",
     "text": [
      "humble\n"
     ]
    }
   ],
   "source": [
    "a.display()"
   ]
  },
  {
   "cell_type": "code",
   "execution_count": 116,
   "metadata": {},
   "outputs": [
    {
     "name": "stdout",
     "output_type": "stream",
     "text": [
      "Animal have diff species\n"
     ]
    }
   ],
   "source": [
    "a.Display()"
   ]
  },
  {
   "cell_type": "code",
   "execution_count": 117,
   "metadata": {},
   "outputs": [
    {
     "name": "stdout",
     "output_type": "stream",
     "text": [
      "Complex Number 1: 2 + 3i\n",
      "Complex Number 2: 1 - 2i\n",
      "Sum of Complex Numbers: 3 + 1i\n"
     ]
    }
   ],
   "source": [
    "class ComplexNumber:\n",
    "    def __init__(self, real, imag):\n",
    "        self.real = real\n",
    "        self.imag = imag\n",
    "\n",
    "    def __add__(self, other):\n",
    "        if isinstance(other, ComplexNumber):\n",
    "            # Adding two complex numbers\n",
    "            real_sum = self.real + other.real\n",
    "            imag_sum = self.imag + other.imag\n",
    "            return ComplexNumber(real_sum, imag_sum)\n",
    "        else:\n",
    "            real_sum = self.real + other\n",
    "            return ComplexNumber(real_sum, self.imag)\n",
    "\n",
    "    def __str__(self):\n",
    "        if self.imag >= 0:\n",
    "            return f\"{self.real} + {self.imag}i\"\n",
    "        else:\n",
    "            return f\"{self.real} - {abs(self.imag)}i\"\n",
    "\n",
    "# Example usage:\n",
    "complex_num1 = ComplexNumber(2, 3)\n",
    "complex_num2 = ComplexNumber(1, -2)\n",
    "\n",
    "result_sum = complex_num1 + complex_num2\n",
    "\n",
    "print(\"Complex Number 1:\", complex_num1)\n",
    "print(\"Complex Number 2:\", complex_num2)\n",
    "print(\"Sum of Complex Numbers:\", result_sum)\n"
   ]
  },
  {
   "cell_type": "code",
   "execution_count": 118,
   "metadata": {},
   "outputs": [
    {
     "data": {
      "text/plain": [
       "__main__.ComplexNumber"
      ]
     },
     "execution_count": 118,
     "metadata": {},
     "output_type": "execute_result"
    }
   ],
   "source": [
    "type(complex_num1)"
   ]
  },
  {
   "cell_type": "code",
   "execution_count": 120,
   "metadata": {},
   "outputs": [],
   "source": [
    "# vecorr\n",
    "a,b,c = 1,2,4\n",
    "\n",
    "class vector:\n",
    "    def __init__(self,a,b,c) -> None:\n",
    "        self.a = a \n",
    "        self.b = b \n",
    "        self.c = c \n",
    "    def __str__(self) -> str:\n",
    "        return f\"{self.a}i + {self.b}j + {self.c}k\""
   ]
  },
  {
   "cell_type": "code",
   "execution_count": 122,
   "metadata": {},
   "outputs": [],
   "source": [
    "a = vector(a,b,c)"
   ]
  },
  {
   "cell_type": "code",
   "execution_count": 123,
   "metadata": {},
   "outputs": [
    {
     "name": "stdout",
     "output_type": "stream",
     "text": [
      "1i + 2j + 4k\n"
     ]
    }
   ],
   "source": [
    "print(a)"
   ]
  },
  {
   "cell_type": "code",
   "execution_count": 124,
   "metadata": {},
   "outputs": [],
   "source": [
    "import math\n",
    "\n",
    "class ComplexNumber:\n",
    "    def __init__(self, real, imag):\n",
    "        self.real = real\n",
    "        self.imag = imag\n",
    "\n",
    "    def __add__(self, other):\n",
    "        # Overloaded addition operator\n",
    "        real_sum = self.real + other.real\n",
    "        imag_sum = self.imag + other.imag\n",
    "        return ComplexNumber(real_sum, imag_sum)\n",
    "\n",
    "    def __len__(self):\n",
    "        # Custom __len__ method\n",
    "        return int(math.sqrt(self.real**2 + self.imag**2))\n",
    "\n",
    "    def __str__(self):\n",
    "        return f\"{self.real} + {self.imag}j\"\n",
    "\n",
    "# Example usage:\n",
    "complex_num1 = ComplexNumber(2, 3)"
   ]
  },
  {
   "cell_type": "code",
   "execution_count": 125,
   "metadata": {},
   "outputs": [
    {
     "name": "stdout",
     "output_type": "stream",
     "text": [
      "2 + 3j\n"
     ]
    }
   ],
   "source": [
    "print(complex_num1)"
   ]
  },
  {
   "cell_type": "code",
   "execution_count": 126,
   "metadata": {},
   "outputs": [
    {
     "data": {
      "text/plain": [
       "3"
      ]
     },
     "execution_count": 126,
     "metadata": {},
     "output_type": "execute_result"
    }
   ],
   "source": [
    "len(complex_num1)"
   ]
  },
  {
   "cell_type": "markdown",
   "metadata": {},
   "source": [
    "Assignment on try & Exceptin/"
   ]
  },
  {
   "cell_type": "code",
   "execution_count": 128,
   "metadata": {},
   "outputs": [
    {
     "name": "stdout",
     "output_type": "stream",
     "text": [
      "File not available\n"
     ]
    }
   ],
   "source": [
    "try:\n",
    "    with open(\"./dadsadsadasd.txt\", mode=\"r\") as f:\n",
    "        f.read()\n",
    "except Exception as e :\n",
    "    print(\"File not available\")\n"
   ]
  },
  {
   "cell_type": "code",
   "execution_count": 131,
   "metadata": {},
   "outputs": [
    {
     "name": "stdout",
     "output_type": "stream",
     "text": [
      "4\n",
      "6\n",
      "8\n"
     ]
    }
   ],
   "source": [
    "# third,5th & 7th element of list\n",
    "a = [1,2,3,4,5,6,7,8,10]\n",
    "# use enumerate \n",
    "\n",
    "for indx, val in enumerate(a):\n",
    "    if indx in [3,5,7]:\n",
    "        print(val)\n"
   ]
  },
  {
   "cell_type": "code",
   "execution_count": 132,
   "metadata": {},
   "outputs": [
    {
     "data": {
      "text/plain": [
       "[5, 10, 15, 20, 25, 30, 35, 40, 45, 50]"
      ]
     },
     "execution_count": 132,
     "metadata": {},
     "output_type": "execute_result"
    }
   ],
   "source": [
    "# write list coprehension to get table mu;tiplicatin \n",
    "\n",
    "n = 5 \n",
    "[n*x for x in range(1,11)]"
   ]
  },
  {
   "cell_type": "code",
   "execution_count": 140,
   "metadata": {},
   "outputs": [],
   "source": [
    "def divide(a,b):\n",
    "    try:\n",
    "        return a/b\n",
    "    except ZeroDivisionError:\n",
    "        print(\"infinite handling by ZeroDivisionError\")"
   ]
  },
  {
   "cell_type": "code",
   "execution_count": 141,
   "metadata": {},
   "outputs": [
    {
     "data": {
      "text/plain": [
       "2.0"
      ]
     },
     "execution_count": 141,
     "metadata": {},
     "output_type": "execute_result"
    }
   ],
   "source": [
    "divide(4,2)"
   ]
  },
  {
   "cell_type": "code",
   "execution_count": 143,
   "metadata": {},
   "outputs": [
    {
     "name": "stdout",
     "output_type": "stream",
     "text": [
      "infinite handling by ZeroDivisionError\n"
     ]
    }
   ],
   "source": [
    "divide(4,0)"
   ]
  },
  {
   "cell_type": "code",
   "execution_count": 145,
   "metadata": {},
   "outputs": [],
   "source": [
    "n = 5 \n",
    "with open(f\"./{n}_table.txt\", mode=\"w\")  as f :\n",
    "    f.write(f\"{[n*x for x in range(1,11)]}\")\n",
    "    f.close()"
   ]
  },
  {
   "cell_type": "markdown",
   "metadata": {},
   "source": [
    "# Final Assignmet"
   ]
  },
  {
   "cell_type": "code",
   "execution_count": 146,
   "metadata": {},
   "outputs": [],
   "source": [
    "# create venv\n",
    "\n",
    "# conda create -p venv python=3.7 -y\n",
    "# pip install pandas"
   ]
  },
  {
   "cell_type": "code",
   "execution_count": 147,
   "metadata": {},
   "outputs": [
    {
     "name": "stdout",
     "output_type": "stream",
     "text": [
      "Hi Harry your mark is 80\n"
     ]
    }
   ],
   "source": [
    "name = input(\"name\")\n",
    "mark = eval(input(\"mark\"))\n",
    "\n",
    "print(\"Hi {} your mark is {}\".format(name,mark))"
   ]
  },
  {
   "cell_type": "code",
   "execution_count": 152,
   "metadata": {},
   "outputs": [
    {
     "name": "stdout",
     "output_type": "stream",
     "text": [
      "7\n",
      "14\n",
      "21\n",
      "28\n",
      "35\n",
      "42\n",
      "49\n",
      "56\n",
      "63\n",
      "70\n"
     ]
    }
   ],
   "source": [
    "# vertical printing\n",
    "\n",
    "a = [7*x for x in range(1,11)]\n",
    "\n",
    "print(*a, sep=\"\\n\")"
   ]
  },
  {
   "cell_type": "code",
   "execution_count": 153,
   "metadata": {},
   "outputs": [
    {
     "name": "stdout",
     "output_type": "stream",
     "text": [
      "7\n",
      "14\n",
      "21\n",
      "28\n",
      "35\n",
      "42\n",
      "49\n",
      "56\n",
      "63\n",
      "70\n"
     ]
    }
   ],
   "source": [
    "for i in a :\n",
    "    print(i)"
   ]
  },
  {
   "cell_type": "code",
   "execution_count": 157,
   "metadata": {},
   "outputs": [
    {
     "data": {
      "text/plain": [
       "80"
      ]
     },
     "execution_count": 157,
     "metadata": {},
     "output_type": "execute_result"
    }
   ],
   "source": [
    "# find max\n",
    "\n",
    "from functools import reduce\n",
    "\n",
    "reduce(lambda x, y: x if x > y else y, [78,1,2,4,77,80])"
   ]
  },
  {
   "cell_type": "code",
   "execution_count": 161,
   "metadata": {},
   "outputs": [
    {
     "name": "stdout",
     "output_type": "stream",
     "text": [
      " * Serving Flask app '__main__' (lazy loading)\n",
      " * Environment: production\n",
      "\u001b[31m   WARNING: This is a development server. Do not use it in a production deployment.\u001b[0m\n",
      "\u001b[2m   Use a production WSGI server instead.\u001b[0m\n",
      " * Debug mode: off\n"
     ]
    },
    {
     "name": "stderr",
     "output_type": "stream",
     "text": [
      " * Running on http://127.0.0.1:5000 (Press CTRL+C to quit)\n",
      "127.0.0.1 - - [15/Jan/2024 18:05:48] \"GET / HTTP/1.1\" 200 -\n",
      "127.0.0.1 - - [15/Jan/2024 18:05:48] \"GET /favicon.ico HTTP/1.1\" 404 -\n",
      "127.0.0.1 - - [15/Jan/2024 18:06:01] \"GET /name HTTP/1.1\" 200 -\n"
     ]
    }
   ],
   "source": [
    "from flask import Flask\n",
    "\n",
    "app = Flask(__name__)\n",
    "\n",
    "@app.route(\"/\")\n",
    "def hello_function():\n",
    "    return \"My first Flask Application\"\n",
    "\n",
    "@app.route(\"/name\")\n",
    "def get_my_name():\n",
    "    return \"Hey Dear, Shubham Here\"\n",
    "\n",
    "\n",
    "\n",
    "if __name__ == \"__main__\":\n",
    "    app.run()"
   ]
  },
  {
   "cell_type": "code",
   "execution_count": 171,
   "metadata": {},
   "outputs": [],
   "source": [
    "# creae file library.py \n",
    "\n",
    "# put student class init\n",
    "\n",
    "class student:\n",
    "    def __init__(self):\n",
    "        # only one book can take\n",
    "        self.list_books = [\"a\",\"b\",\"c\",\"d\"]\n",
    "        self.available_books = len(self.list_books)\n",
    "    def get_book(self, bookname):\n",
    "        if bookname in self.list_books:\n",
    "            self.list_books.remove(bookname)\n",
    "            self.available_books = len(self.list_books)\n",
    "        else:\n",
    "            print(\"Book Nahi hai bhai.. Try next time..\")\n",
    "\n",
    "    def displaystatus(self):\n",
    "        print(f\"Available books {self.list_books} , {self.available_books}nos\")"
   ]
  },
  {
   "cell_type": "code",
   "execution_count": 172,
   "metadata": {},
   "outputs": [],
   "source": [
    "# from library import student\n",
    "\n",
    "a = student()"
   ]
  },
  {
   "cell_type": "code",
   "execution_count": 173,
   "metadata": {},
   "outputs": [
    {
     "name": "stdout",
     "output_type": "stream",
     "text": [
      "Available books ['a', 'b', 'c', 'd'] , 4nos\n"
     ]
    }
   ],
   "source": [
    "a.displaystatus()"
   ]
  },
  {
   "cell_type": "code",
   "execution_count": 174,
   "metadata": {},
   "outputs": [
    {
     "name": "stdout",
     "output_type": "stream",
     "text": [
      "Available books ['b', 'c', 'd'] , 3nos\n"
     ]
    }
   ],
   "source": [
    "a.get_book(\"a\")\n",
    "a.displaystatus()"
   ]
  },
  {
   "cell_type": "code",
   "execution_count": 175,
   "metadata": {},
   "outputs": [
    {
     "name": "stdout",
     "output_type": "stream",
     "text": [
      "Book Nahi hai bhai.. Try next time..\n",
      "Available books ['b', 'c', 'd'] , 3nos\n"
     ]
    }
   ],
   "source": [
    "a.get_book(\"z\")\n",
    "a.displaystatus()"
   ]
  },
  {
   "cell_type": "code",
   "execution_count": null,
   "metadata": {},
   "outputs": [],
   "source": []
  }
 ],
 "metadata": {
  "kernelspec": {
   "display_name": "analysis",
   "language": "python",
   "name": "python3"
  },
  "language_info": {
   "codemirror_mode": {
    "name": "ipython",
    "version": 3
   },
   "file_extension": ".py",
   "mimetype": "text/x-python",
   "name": "python",
   "nbconvert_exporter": "python",
   "pygments_lexer": "ipython3",
   "version": "3.7.13"
  }
 },
 "nbformat": 4,
 "nbformat_minor": 2
}
