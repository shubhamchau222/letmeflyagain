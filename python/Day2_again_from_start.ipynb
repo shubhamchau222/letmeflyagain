{
 "cells": [
  {
   "cell_type": "markdown",
   "metadata": {},
   "source": [
    "# Assignment 1 "
   ]
  },
  {
   "cell_type": "code",
   "execution_count": 5,
   "metadata": {},
   "outputs": [
    {
     "name": "stdout",
     "output_type": "stream",
     "text": [
      "twinkle twinkle liitle star\n",
      "5\n",
      "10\n",
      "15\n",
      "20\n",
      "25\n",
      "30\n",
      "35\n",
      "40\n",
      "45\n",
      "50\n",
      "[1 2]\n",
      "['day1_python.ipynb', 'Day2_again_from_start.ipynb', 'day2_interitance.ipynb', 'day2_oops.ipynb', 'day2_privateandprotected_variables.ipynb', 'day2_python.ipynb', 'main.txt']\n"
     ]
    }
   ],
   "source": [
    "# 1 Write python program to return twinkle twinkle liitle star\n",
    "print(\"twinkle twinkle liitle star\")\n",
    "\n",
    "# 2 USE REPL to print 5 Table\n",
    "# open terminal , write python\n",
    "\n",
    "for i in range(1,11):\n",
    "    print(5*i)\n",
    "\n",
    "# 3: Insall Externel module and perform operation\n",
    "# !pip install numpy\n",
    "\n",
    "import numpy as np \n",
    "print(np.array([1,2]))\n",
    "\n",
    "# 4 : write python porg to return the content of dir using os module\n",
    "import os  # importing builin module os\n",
    "print(os.listdir(\"./\"))  # listing all dir elements\n",
    "\n",
    "\n",
    "# 5 : label the problem with comment in problem 4 \n"
   ]
  },
  {
   "cell_type": "markdown",
   "metadata": {},
   "source": [
    "# Assignment 2 "
   ]
  },
  {
   "cell_type": "code",
   "execution_count": 7,
   "metadata": {},
   "outputs": [
    {
     "name": "stdout",
     "output_type": "stream",
     "text": [
      "3\n",
      "0\n",
      "<class 'str'>\n",
      "False\n",
      "2.5\n",
      "4\n",
      "None\n"
     ]
    }
   ],
   "source": [
    "# write python program to add 2 numbets\n",
    "print(1+2)\n",
    "\n",
    "# write program to find reminder\n",
    "print(4%2)\n",
    "\n",
    "# check the type of input using input functioj\n",
    "a = input(\"give me value\")\n",
    "print(type(a))\n",
    "\n",
    "# check if a is greter than b\n",
    "a,b= 40,80\n",
    "print(a>b)\n",
    "\n",
    "# write program to find avg of two numebrs\n",
    "print((2+3)/2)\n",
    "\n",
    "# write program to find square\n",
    "def sqr(n):\n",
    "    print(n*n)\n",
    "print(sqr(2))"
   ]
  },
  {
   "cell_type": "markdown",
   "metadata": {},
   "source": [
    "# Assignment 3"
   ]
  },
  {
   "cell_type": "code",
   "execution_count": 10,
   "metadata": {},
   "outputs": [
    {
     "name": "stdout",
     "output_type": "stream",
     "text": [
      "shubham : Hi Holl!\n",
      "Dear shubham \n",
      " You're selected! at \n",
      "45455121\n",
      "Hey  \n",
      "Dear, \tHarry \n",
      "This python porogram is nice\n"
     ]
    }
   ],
   "source": [
    "# write program to find user input folowwing by good morning\n",
    "def inp():\n",
    "    inp_ = input(\"user name\")\n",
    "    print(f\"{inp_} : Hi Holl!\")\n",
    "\n",
    "inp()\n",
    "\n",
    "# get the tmplate shown in input \n",
    "\n",
    "def get_template():\n",
    "    name = input(\"name\")\n",
    "    data = input(\"date\")\n",
    "    print(f\"Dear {name} \\n You're selected! at \\n{data}\")\n",
    "\n",
    "get_template()\n",
    "\n",
    "# write program to delete doublt space \n",
    "def del_spaces(text):\n",
    "    text = text.replace(\"   \", \"\")\n",
    "    print(text)\n",
    "\n",
    "del_spaces(\"      Hey     \")\n",
    "\n",
    "# program using esacpe leter format\n",
    "\n",
    "print(\"Dear, \\tHarry \\nThis python porogram is nice\")\n",
    "\n"
   ]
  },
  {
   "cell_type": "markdown",
   "metadata": {},
   "source": [
    "# Assignment 4"
   ]
  },
  {
   "cell_type": "code",
   "execution_count": 14,
   "metadata": {},
   "outputs": [
    {
     "name": "stdout",
     "output_type": "stream",
     "text": [
      "['applt', 'asd', 'd', 'b', 'b', 'b', 'f']\n",
      "[1, 1, 2, 4, 5, 6, 7]\n",
      "Bhai Kya kr raha hai...\n",
      "10\n",
      "2\n"
     ]
    }
   ],
   "source": [
    "# write program to store 7 fruits in list\n",
    "\n",
    "def fruits():\n",
    "    fruits_list =[]\n",
    "    n = 1 \n",
    "    while n <=7:\n",
    "        fruit = input(\"Enter fruit name here....\")\n",
    "        fruits_list.append(fruit)\n",
    "        n+=1\n",
    "    print(fruits_list)\n",
    "\n",
    "## \n",
    "fruits()\n",
    "\n",
    "\n",
    "## write program to accept mark of 7 student & display them in sorted manner\n",
    "def student_marks():\n",
    "    mark_list =[]\n",
    "    n = 1 \n",
    "    while n <=7:\n",
    "        mark = input(\"Enter mark ....\")\n",
    "        mark_list.append(eval(mark))\n",
    "        n+=1\n",
    "    mark_list.sort()\n",
    "    print(mark_list)\n",
    "\n",
    "## \n",
    "student_marks()\n",
    "\n",
    "#  Chek that tuple can't be change in pyrhon\n",
    "try:\n",
    "    tup = (1,2,3,4)\n",
    "    tup[1] = 2 \n",
    "except Exception as e:\n",
    "    print(\"Bhai Kya kr raha hai...\")\n",
    "\n",
    "\n",
    "# write program to sum list of 4 nums\n",
    "def sum_ (l):\n",
    "    print(sum(l))\n",
    "\n",
    "sum_([1,2,3,4])\n",
    "\n",
    "# write prog to cont zero in tuple\n",
    "a = (0,0,1,2)\n",
    "print(a.count(0))\n",
    "\n"
   ]
  },
  {
   "cell_type": "markdown",
   "metadata": {},
   "source": [
    "# Assignment 5 "
   ]
  },
  {
   "cell_type": "code",
   "execution_count": 21,
   "metadata": {},
   "outputs": [
    {
     "name": "stdout",
     "output_type": "stream",
     "text": [
      "{'hi': 'namste', 'What': 'kya'}\n",
      "{8, 4, 5, 6}\n"
     ]
    }
   ],
   "source": [
    "##write prog to create hindi words \n",
    "print({\"hi\": \"namste\", \"What\":\"kya\"})\n",
    "\n",
    "\n",
    "#  write program to enter 4 nums & display unique nums\n",
    "def un():\n",
    "    b = []\n",
    "    n = 1 \n",
    "    while n <= 4 : \n",
    "        a = input(\"Write numbers\")\n",
    "        b.append(eval(a))\n",
    "        n+=1\n",
    "    print(set(b))\n",
    "\n",
    "\n",
    "un()\n",
    "\n",
    "# can we have a set of 18 int & \"18\" str in it :: YES\n",
    "print({18 , \"18\"})  # will keep both\n",
    "\n",
    "print(type({}))\n",
    "\n",
    "# # crete dict frind anem : markas\n",
    "\n",
    "# def frined():\n",
    "#     n = 1 \n",
    "#     fd = dict()\n",
    "\n",
    "#     while n <=2:\n",
    "#         key_, *value = eval(input(\"[name age]\")) # list\n",
    "#         fd['key_'] = value\n",
    "#         n+=1\n",
    "#     print(fd)\n",
    "\n",
    "## If keys are same: if you use update the will update the value \n",
    "## Values can be duplicates\n",
    "    \n"
   ]
  },
  {
   "cell_type": "code",
   "execution_count": 22,
   "metadata": {},
   "outputs": [
    {
     "name": "stdout",
     "output_type": "stream",
     "text": [
      "<class 'dict'>\n"
     ]
    }
   ],
   "source": [
    "print(type({}))"
   ]
  },
  {
   "cell_type": "code",
   "execution_count": 26,
   "metadata": {},
   "outputs": [
    {
     "name": "stdout",
     "output_type": "stream",
     "text": [
      "{'sh': [2], 'john': [25]}\n"
     ]
    }
   ],
   "source": [
    "def frined():\n",
    "    n = 1 \n",
    "    fd = dict()\n",
    "\n",
    "    while n <=2:\n",
    "        key_, *value = eval(input(\"[name age]\")) # list\n",
    "        fd[key_] = value\n",
    "        \n",
    "        n+=1\n",
    "    print(fd)\n",
    "\n",
    "frined()\n",
    "\n",
    "# If keys are same: if you use update the will update the value \n",
    "# Values can be duplicates"
   ]
  },
  {
   "cell_type": "code",
   "execution_count": 57,
   "metadata": {},
   "outputs": [
    {
     "data": {
      "text/plain": [
       "['Shuhaus', 'kkjoiud', 'sadasdd', 'dkasjd']"
      ]
     },
     "execution_count": 57,
     "metadata": {},
     "output_type": "execute_result"
    }
   ],
   "source": [
    "b\n",
    "\n"
   ]
  },
  {
   "cell_type": "markdown",
   "metadata": {},
   "source": [
    "# Assignment 6 "
   ]
  },
  {
   "cell_type": "code",
   "execution_count": 37,
   "metadata": {},
   "outputs": [
    {
     "name": "stdout",
     "output_type": "stream",
     "text": [
      "7\n",
      "pass\n",
      "Fail\n",
      "spam\n",
      "Give small number plss...\n",
      "tier1\n",
      "Tier2\n",
      "Tier3\n"
     ]
    }
   ],
   "source": [
    "# write prog to finc greatest num \n",
    "a =[4,5,7,1]\n",
    "max_ = -89999999999\n",
    "for i in a :\n",
    "    if max_ > i :\n",
    "        pass   \n",
    "    else:\n",
    "        max_ = i \n",
    "   \n",
    "print(max_)\n",
    "\n",
    "## write pass or fail \n",
    "\n",
    "marks =[40,20]\n",
    "\n",
    "def status(i):\n",
    "    if i >= 40:\n",
    "        print(\"pass\")\n",
    "    else:\n",
    "        print(\"Fail\")\n",
    "\n",
    "for i in marks:\n",
    "    status(i)\n",
    "\n",
    "# write progam to detect the spam commentss\n",
    "\n",
    "\n",
    "def spam_ham(text):\n",
    "    coms = [\"hjshajs\", \"spammmm\", \"spagjhsdghasgdh\", \"ajsjdg sahgdhbas\"]\n",
    "    for i in coms:\n",
    "        if i in text:\n",
    "            print(\"spam\")\n",
    "     \n",
    "\n",
    "spam_ham(\"spagjhsdghasgdh hello\")\n",
    "\n",
    "\n",
    "\n",
    "# usernam elen filter\n",
    "\n",
    "usernmae = \"hajhdka\"\n",
    "\n",
    "if len(usernmae) > 4 :\n",
    "    print(\"Give small number plss...\")\n",
    "\n",
    "\n",
    "## write prog to find grade\n",
    "    \n",
    "\n",
    "def grade(mark):\n",
    "    if mark >= 80 :\n",
    "        print(\"tier1\")\n",
    "    elif (mark > 50) & (mark < 80):\n",
    "        print(\"Tier2\")\n",
    "    else:\n",
    "        print(\"Tier3\")\n",
    "\n",
    "grade(85)\n",
    "grade(70)\n",
    "grade(40)"
   ]
  },
  {
   "cell_type": "code",
   "execution_count": 38,
   "metadata": {},
   "outputs": [
    {
     "name": "stdout",
     "output_type": "stream",
     "text": [
      "yes talking about sam\n"
     ]
    }
   ],
   "source": [
    "## program to fin whetere given post trakling abotut smae or not\n",
    "\n",
    "post = \"ksdh kahsdkajs d SAM\"\n",
    "\n",
    "if \"sam\" in post.lower():\n",
    "    print(\"yes talking about sam\")"
   ]
  },
  {
   "cell_type": "markdown",
   "metadata": {},
   "source": [
    "# Assignments 7 : loops"
   ]
  },
  {
   "cell_type": "code",
   "execution_count": 40,
   "metadata": {},
   "outputs": [
    {
     "name": "stdout",
     "output_type": "stream",
     "text": [
      "['Shuhaus', 'sadasdd']\n"
     ]
    }
   ],
   "source": [
    "# store name start with s \n",
    "\n",
    "a = []\n",
    "b = ['Shuhaus', \"kkjoiud\", \"sadasdd\", \"dkasjd\"]\n",
    "for i in b:\n",
    "    if i.lower().startswith(\"s\"):\n",
    "        a.append(i)\n",
    "print(a)"
   ]
  },
  {
   "cell_type": "code",
   "execution_count": 41,
   "metadata": {},
   "outputs": [
    {
     "name": "stdout",
     "output_type": "stream",
     "text": [
      "5\n",
      "10\n",
      "15\n",
      "20\n",
      "25\n",
      "30\n",
      "35\n",
      "40\n",
      "45\n",
      "50\n",
      "5\n",
      "10\n",
      "15\n",
      "20\n",
      "25\n",
      "30\n",
      "35\n",
      "40\n",
      "45\n",
      "50\n"
     ]
    }
   ],
   "source": [
    "# table using while loop\n",
    "# 5 table \n",
    "\n",
    "for i in range(1,11):\n",
    "    print( 5 * i )\n",
    "\n",
    "# using while loop\n",
    "    \n",
    "n = 1 \n",
    "while n <=10:\n",
    "    print(5 * n )\n",
    "    n+=1 \n",
    "\n"
   ]
  },
  {
   "cell_type": "code",
   "execution_count": 58,
   "metadata": {},
   "outputs": [
    {
     "name": "stdout",
     "output_type": "stream",
     "text": [
      "17 is a prime number.\n"
     ]
    }
   ],
   "source": [
    "## get prime\n",
    "\n",
    "def is_prime(number):\n",
    "    if number < 2:\n",
    "        return False\n",
    "    for i in range(2, int(number**0.5) + 1):  # squre root taken: optimized\n",
    "        if number % i == 0:\n",
    "            return False\n",
    "    return True\n",
    "\n",
    "# Example usage\n",
    "num_to_check = 17\n",
    "\n",
    "if is_prime(num_to_check):\n",
    "    print(f\"{num_to_check} is a prime number.\")\n",
    "else:\n",
    "    print(f\"{num_to_check} is not a prime number.\")"
   ]
  },
  {
   "cell_type": "code",
   "execution_count": 44,
   "metadata": {},
   "outputs": [
    {
     "name": "stdout",
     "output_type": "stream",
     "text": [
      "120\n"
     ]
    }
   ],
   "source": [
    "## factorial \n",
    "n = 5 \n",
    "fact= 1 \n",
    "for i in range(1,n+1):\n",
    "    fact =fact*i\n",
    "print(fact)"
   ]
  },
  {
   "cell_type": "code",
   "execution_count": 59,
   "metadata": {},
   "outputs": [
    {
     "name": "stdout",
     "output_type": "stream",
     "text": [
      "    *  \n",
      "\n",
      "  *  *  \n",
      "\n",
      "*  *  *  \n",
      "\n"
     ]
    }
   ],
   "source": [
    "rows= 3\n",
    "\n",
    "for i in range(0, rows):\n",
    "    for j in range(0,rows-i-1):\n",
    "        print(\" \", end=' ')\n",
    "    for j in range(0 , i  + 1 ):\n",
    "        print(\"* \", end = \" \")\n",
    "    print()\n",
    "    print()\n"
   ]
  },
  {
   "cell_type": "code",
   "execution_count": 52,
   "metadata": {},
   "outputs": [],
   "source": [
    "\n"
   ]
  },
  {
   "cell_type": "code",
   "execution_count": null,
   "metadata": {},
   "outputs": [],
   "source": []
  }
 ],
 "metadata": {
  "kernelspec": {
   "display_name": "analysis",
   "language": "python",
   "name": "python3"
  },
  "language_info": {
   "codemirror_mode": {
    "name": "ipython",
    "version": 3
   },
   "file_extension": ".py",
   "mimetype": "text/x-python",
   "name": "python",
   "nbconvert_exporter": "python",
   "pygments_lexer": "ipython3",
   "version": "3.7.13"
  }
 },
 "nbformat": 4,
 "nbformat_minor": 2
}
