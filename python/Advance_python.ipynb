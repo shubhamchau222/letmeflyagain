{
 "cells": [
  {
   "cell_type": "markdown",
   "metadata": {},
   "source": [
    "## creating the envs & installing all deps"
   ]
  },
  {
   "cell_type": "markdown",
   "metadata": {},
   "source": [
    "## Map, reduce, lambda, filter"
   ]
  },
  {
   "cell_type": "markdown",
   "metadata": {},
   "source": [
    "## map \n"
   ]
  },
  {
   "cell_type": "code",
   "execution_count": 2,
   "metadata": {},
   "outputs": [
    {
     "data": {
      "text/plain": [
       "[1, 4, 9, 16, 25, 36, 49, 64, 81, 100]"
      ]
     },
     "execution_count": 2,
     "metadata": {},
     "output_type": "execute_result"
    }
   ],
   "source": [
    "# given is the list of ints get the square of each elements\n",
    "\n",
    "l = [1,2,3,4,5,6,7,8,9,10]\n",
    "square = lambda x : x*x\n",
    "\n",
    "list(map(square, l ))"
   ]
  },
  {
   "cell_type": "code",
   "execution_count": 3,
   "metadata": {},
   "outputs": [
    {
     "data": {
      "text/plain": [
       "['hi_python', 'hi_Tepezza', 'hi_Krystexxa', 'hi_NLP', 'hi_AI']"
      ]
     },
     "execution_count": 3,
     "metadata": {},
     "output_type": "execute_result"
    }
   ],
   "source": [
    "## given is the list of string use \"hi_\" before each element using map & lambda\n",
    "\n",
    "l = [\"python\", \"Tepezza\", \"Krystexxa\", \"NLP\", \"AI\"]\n",
    "get_format = lambda x : \"hi_\"+ str(x)\n",
    "list(map(get_format, l ))"
   ]
  },
  {
   "cell_type": "markdown",
   "metadata": {},
   "source": [
    "## filter"
   ]
  },
  {
   "cell_type": "code",
   "execution_count": 5,
   "metadata": {},
   "outputs": [
    {
     "data": {
      "text/plain": [
       "[5, 10]"
      ]
     },
     "execution_count": 5,
     "metadata": {},
     "output_type": "execute_result"
    }
   ],
   "source": [
    "# filter the elements divisible by 5 \n",
    "l = [1,2,3,4,5,6,7,8,9,10]\n",
    "square = lambda x : x%5 == 0 \n",
    "list(filter(square, l ))\n"
   ]
  },
  {
   "cell_type": "code",
   "execution_count": 7,
   "metadata": {},
   "outputs": [
    {
     "data": {
      "text/plain": [
       "['Tepezza', 'Krystexxa']"
      ]
     },
     "execution_count": 7,
     "metadata": {},
     "output_type": "execute_result"
    }
   ],
   "source": [
    "## Filter the string wich contains \"e\"\n",
    "l = [\"python\", \"Tepezza\", \"Krystexxa\", \"NLP\", \"AI\"]\n",
    "get_str = lambda x : True if \"e\" in x else False\n",
    "list(filter(get_str , l ))\n"
   ]
  },
  {
   "cell_type": "markdown",
   "metadata": {},
   "source": [
    "## Reduce"
   ]
  },
  {
   "cell_type": "code",
   "execution_count": 9,
   "metadata": {},
   "outputs": [
    {
     "data": {
      "text/plain": [
       "77"
      ]
     },
     "execution_count": 9,
     "metadata": {},
     "output_type": "execute_result"
    }
   ],
   "source": [
    "from functools import reduce\n",
    "\n",
    "## get the largest number \n",
    "l = [8,7,52,45,77,65]\n",
    "reduce(max, l)"
   ]
  },
  {
   "cell_type": "code",
   "execution_count": 13,
   "metadata": {},
   "outputs": [
    {
     "data": {
      "text/plain": [
       "7777"
      ]
     },
     "execution_count": 13,
     "metadata": {},
     "output_type": "execute_result"
    }
   ],
   "source": [
    "## get the largest number \n",
    "l = [8,7,52,45,77,7777]\n",
    "reduce(max, l)"
   ]
  },
  {
   "cell_type": "code",
   "execution_count": 14,
   "metadata": {},
   "outputs": [
    {
     "data": {
      "text/plain": [
       "[8, 7, 52, 45, 77, 7777]"
      ]
     },
     "execution_count": 14,
     "metadata": {},
     "output_type": "execute_result"
    }
   ],
   "source": [
    "l"
   ]
  },
  {
   "cell_type": "code",
   "execution_count": 20,
   "metadata": {},
   "outputs": [
    {
     "name": "stdout",
     "output_type": "stream",
     "text": [
      "10\n"
     ]
    }
   ],
   "source": [
    "## get the sum of all nums \n",
    "sum_ = reduce(lambda x , y : x + y , [1,2,3,4] )\n",
    "print(sum_)\n"
   ]
  },
  {
   "cell_type": "markdown",
   "metadata": {},
   "source": [
    "##"
   ]
  },
  {
   "cell_type": "markdown",
   "metadata": {},
   "source": [
    "## Assignment create 2  same envs & install same dependancies in it"
   ]
  },
  {
   "cell_type": "markdown",
   "metadata": {},
   "source": [
    "```\n",
    "    1. conda create -n env1 python=3.7 -y\n",
    "    2. conda create -n env2 python=3.7 -y\n",
    "    3. conda activate env1\n",
    "    4: pip install matplotlib pandas numpy seaborn\n",
    "    5: pip freeze > requirement.txt \n",
    "    or \n",
    "    6: pip list > requirement.txt\n",
    "    7: conda deactivate env1 \n",
    "    -------------------------------------------\n",
    "    2.1 : conda activate env2\n",
    "    2.2 : pip install -r requirements.txt\n",
    "\n",
    "\n",
    "## clone the envs \n",
    "$ conda create -n env2 -c env1\n",
    "$ conda create --name env2 --clone env1\n",
    "syntax:  conda create --name new_env_name --clone existing_env_name\n",
    "\n",
    "```"
   ]
  },
  {
   "cell_type": "markdown",
   "metadata": {},
   "source": [
    "## create the library & student project"
   ]
  },
  {
   "cell_type": "code",
   "execution_count": 6,
   "metadata": {},
   "outputs": [
    {
     "name": "stdout",
     "output_type": "stream",
     "text": [
      "Welcome..\n",
      "Available Books are ['python', 'Java']\n",
      "Welcome..\n",
      "We are happy to give you python, please handle it properly.....\n",
      "Welcome..\n",
      "Available Books are ['Java']\n",
      "Welcome..\n",
      "Available Books are ['Java']\n",
      "Welcome..\n",
      "Sorry we don't have this books....\n",
      "Welcome..\n",
      "The book hasbeen submitted, Thanks for choosing us.....\n",
      "Welcome..\n",
      "Available Books are ['Java', 'Python']\n",
      "Welcome..\n"
     ]
    }
   ],
   "source": [
    "class library:\n",
    "    def __init__(self, listOfBooks) -> None:\n",
    "        self.books = listOfBooks\n",
    "        \n",
    "    def display(self):\n",
    "        print(f\"Available Books are {self.books}\")\n",
    "\n",
    "    def getBook(self, bookname):\n",
    "        if bookname in self.books:\n",
    "            print(f\"We are happy to give you {bookname}, please handle it properly.....\")\n",
    "            self.books.remove(bookname)\n",
    "        else:\n",
    "            print(\"Sorry we don't have this books....\")\n",
    "\n",
    "    def returnBook(self, bookname):\n",
    "        self.books.append(bookname)\n",
    "        print(\"The book hasbeen submitted, Thanks for choosing us.....\")\n",
    "\n",
    "\n",
    "class student:\n",
    "    def request_book(self):\n",
    "        self.BookName = input(\"Enter the book name here....\")\n",
    "        return self.BookName\n",
    "    def subbmitbook(self):\n",
    "        self.BookName = input(\"Enter the booknname\")\n",
    "        return self.BookName\n",
    "\n",
    "\n",
    "## runner code \n",
    "CentralLibrary = library([\"python\",\"Java\"])\n",
    "student = student()\n",
    "while True:\n",
    "    print(\"Welcome..\")\n",
    "    a = int(input(\"Enter the number\"))\n",
    "\n",
    "    if a == 4 :\n",
    "        break\n",
    "    elif a == 1 : \n",
    "        ## show list of abook \n",
    "        CentralLibrary.display()\n",
    "    elif a == 2 :\n",
    "        CentralLibrary.getBook(student.request_book())\n",
    "\n",
    "    elif a == 3 : \n",
    "        CentralLibrary.returnBook(student.subbmitbook())\n"
   ]
  },
  {
   "cell_type": "code",
   "execution_count": null,
   "metadata": {},
   "outputs": [],
   "source": []
  }
 ],
 "metadata": {
  "kernelspec": {
   "display_name": "analysis",
   "language": "python",
   "name": "python3"
  },
  "language_info": {
   "codemirror_mode": {
    "name": "ipython",
    "version": 3
   },
   "file_extension": ".py",
   "mimetype": "text/x-python",
   "name": "python",
   "nbconvert_exporter": "python",
   "pygments_lexer": "ipython3",
   "version": "3.7.13"
  }
 },
 "nbformat": 4,
 "nbformat_minor": 2
}
