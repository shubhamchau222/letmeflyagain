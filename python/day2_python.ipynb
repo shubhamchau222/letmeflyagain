{
 "cells": [
  {
   "cell_type": "markdown",
   "metadata": {},
   "source": [
    "## Conditonal expression\n"
   ]
  },
  {
   "cell_type": "code",
   "execution_count": 5,
   "metadata": {},
   "outputs": [
    {
     "name": "stdout",
     "output_type": "stream",
     "text": [
      "yes\n"
     ]
    }
   ],
   "source": [
    "a = 1 \n",
    "if a > 0:\n",
    "    print('yes')\n",
    "else:\n",
    "    print('no')"
   ]
  },
  {
   "cell_type": "code",
   "execution_count": 9,
   "metadata": {},
   "outputs": [
    {
     "name": "stdout",
     "output_type": "stream",
     "text": [
      "yes\n"
     ]
    }
   ],
   "source": [
    "a = \"abbc\"\n",
    "if a:\n",
    "    print('yes')\n",
    "else:\n",
    "    'no'"
   ]
  },
  {
   "cell_type": "code",
   "execution_count": 14,
   "metadata": {},
   "outputs": [],
   "source": [
    "a = None\n",
    "\n",
    "if a:\n",
    "    print('yes')\n",
    "else:\n",
    "    'no'"
   ]
  },
  {
   "cell_type": "markdown",
   "metadata": {},
   "source": [
    "```assert: Typically used with a condition that should be true for the program to continue. \n",
    "If the condition is false, it raises an exception.\n",
    "\n",
    "isinstance: Used to explicitly check the type of an object.``\n",
    "\n",
    "```"
   ]
  },
  {
   "cell_type": "markdown",
   "metadata": {},
   "source": [
    "## assert"
   ]
  },
  {
   "cell_type": "code",
   "execution_count": 20,
   "metadata": {},
   "outputs": [],
   "source": [
    "# to check of given condition is true : else it'll throw assertion error"
   ]
  },
  {
   "cell_type": "code",
   "execution_count": 18,
   "metadata": {},
   "outputs": [],
   "source": [
    "assert 1 > 0  # to test "
   ]
  },
  {
   "cell_type": "code",
   "execution_count": 31,
   "metadata": {},
   "outputs": [],
   "source": [
    "a = 1 \n",
    "assert type(a) == int"
   ]
  },
  {
   "cell_type": "code",
   "execution_count": 32,
   "metadata": {},
   "outputs": [
    {
     "ename": "AssertionError",
     "evalue": "",
     "output_type": "error",
     "traceback": [
      "\u001b[1;31m---------------------------------------------------------------------------\u001b[0m",
      "\u001b[1;31mAssertionError\u001b[0m                            Traceback (most recent call last)",
      "\u001b[1;32m~\\AppData\\Local\\Temp\\ipykernel_15236\\1983058113.py\u001b[0m in \u001b[0;36m<module>\u001b[1;34m\u001b[0m\n\u001b[0;32m      1\u001b[0m \u001b[0ma\u001b[0m \u001b[1;33m=\u001b[0m \u001b[1;36m1\u001b[0m\u001b[1;33m\u001b[0m\u001b[1;33m\u001b[0m\u001b[0m\n\u001b[1;32m----> 2\u001b[1;33m \u001b[1;32massert\u001b[0m \u001b[0mtype\u001b[0m\u001b[1;33m(\u001b[0m\u001b[0ma\u001b[0m\u001b[1;33m)\u001b[0m \u001b[1;33m==\u001b[0m \u001b[0mdict\u001b[0m\u001b[1;33m\u001b[0m\u001b[1;33m\u001b[0m\u001b[0m\n\u001b[0m",
      "\u001b[1;31mAssertionError\u001b[0m: "
     ]
    }
   ],
   "source": [
    "a = 1 \n",
    "assert type(a) == dict"
   ]
  },
  {
   "cell_type": "code",
   "execution_count": 21,
   "metadata": {},
   "outputs": [
    {
     "ename": "AssertionError",
     "evalue": "",
     "output_type": "error",
     "traceback": [
      "\u001b[1;31m---------------------------------------------------------------------------\u001b[0m",
      "\u001b[1;31mAssertionError\u001b[0m                            Traceback (most recent call last)",
      "\u001b[1;32m~\\AppData\\Local\\Temp\\ipykernel_15236\\2272866883.py\u001b[0m in \u001b[0;36m<module>\u001b[1;34m\u001b[0m\n\u001b[0;32m      1\u001b[0m \u001b[0ma\u001b[0m \u001b[1;33m=\u001b[0m \u001b[1;36m0\u001b[0m\u001b[1;33m\u001b[0m\u001b[1;33m\u001b[0m\u001b[0m\n\u001b[1;32m----> 2\u001b[1;33m \u001b[1;32massert\u001b[0m \u001b[0ma\u001b[0m \u001b[1;33m>\u001b[0m \u001b[1;36m1\u001b[0m\u001b[1;33m\u001b[0m\u001b[1;33m\u001b[0m\u001b[0m\n\u001b[0m",
      "\u001b[1;31mAssertionError\u001b[0m: "
     ]
    }
   ],
   "source": [
    "a = 0 \n",
    "assert a > 1"
   ]
  },
  {
   "cell_type": "markdown",
   "metadata": {},
   "source": [
    "# Isinstance"
   ]
  },
  {
   "cell_type": "code",
   "execution_count": 34,
   "metadata": {},
   "outputs": [],
   "source": [
    "## genrally use to validate the data type"
   ]
  },
  {
   "cell_type": "code",
   "execution_count": 33,
   "metadata": {},
   "outputs": [
    {
     "data": {
      "text/plain": [
       "True"
      ]
     },
     "execution_count": 33,
     "metadata": {},
     "output_type": "execute_result"
    }
   ],
   "source": [
    "isinstance(\"abc\", str)"
   ]
  },
  {
   "cell_type": "code",
   "execution_count": 36,
   "metadata": {},
   "outputs": [
    {
     "name": "stdout",
     "output_type": "stream",
     "text": [
      "run program\n"
     ]
    }
   ],
   "source": [
    "if isinstance(1 ,int):\n",
    "    print('run program')\n",
    "else:\n",
    "    print(\"stop the program here....\")"
   ]
  },
  {
   "cell_type": "code",
   "execution_count": 37,
   "metadata": {},
   "outputs": [
    {
     "name": "stdout",
     "output_type": "stream",
     "text": [
      "stop the program here....\n"
     ]
    }
   ],
   "source": [
    "if isinstance(1 ,str):\n",
    "    print('run program')\n",
    "else:\n",
    "    print(\"stop the program here....\")"
   ]
  },
  {
   "cell_type": "code",
   "execution_count": 38,
   "metadata": {},
   "outputs": [
    {
     "data": {
      "text/plain": [
       "False"
      ]
     },
     "execution_count": 38,
     "metadata": {},
     "output_type": "execute_result"
    }
   ],
   "source": [
    "isinstance(1 ,str)"
   ]
  },
  {
   "cell_type": "code",
   "execution_count": null,
   "metadata": {},
   "outputs": [],
   "source": [
    "class MyClass:\n",
    "    pass\n",
    "\n",
    "# Creating an instance of MyClass\n",
    "obj = MyClass()\n",
    "\n",
    "# Using isinstance to check if the variable is an instance of a specific class\n",
    "if isinstance(obj, MyClass):\n",
    "    print(\"Variable is an instance of MyClass\")\n",
    "else:\n",
    "    print(\"Variable is not an instance of MyClass\")"
   ]
  },
  {
   "cell_type": "code",
   "execution_count": 51,
   "metadata": {},
   "outputs": [
    {
     "name": "stdout",
     "output_type": "stream",
     "text": [
      "shubham\n",
      "shubham\n",
      "nahi hai bbhai kya kr raha.....\n"
     ]
    }
   ],
   "source": [
    "## also use to check if variable is instance of perticular class\n",
    "\n",
    "'''obj is not an instance of myclass. The reason is that the get_name() method in your myclass class\n",
    " returns the result of the print(self.name) statement, which is None. Therefore, obj ends up being assigned the value None, \n",
    "and when you check its type using isinstance(obj, myclass), it evaluates to False.'''\n",
    "\n",
    "class myclass():\n",
    "    def __init__(self, name) -> None:\n",
    "        self.name = name\n",
    "    def get_name(self):\n",
    "        print(self.name)\n",
    "        return self.name\n",
    "\n",
    "\n",
    "## runner \n",
    "obj = myclass(name=\"shubham\").get_name()\n",
    "print(obj)\n",
    "\n",
    "#### check if obj is instance of myclass\n",
    "\n",
    "if isinstance(obj, myclass):\n",
    "    print(\"yes it is instance of myclass....\")\n",
    "else:\n",
    "    print(\"nahi hai bbhai kya kr raha.....\")"
   ]
  },
  {
   "cell_type": "code",
   "execution_count": 49,
   "metadata": {},
   "outputs": [
    {
     "name": "stdout",
     "output_type": "stream",
     "text": [
      "shubham\n",
      "yes it is instance of myclass....\n"
     ]
    }
   ],
   "source": [
    "\n",
    "## runner \n",
    "obj = myclass(name=\"shubham\")\n",
    "obj.get_name()\n",
    "\n",
    "#### check if obj is instance of myclass\n",
    "\n",
    "if isinstance(obj, myclass):\n",
    "    print(\"yes it is instance of myclass....\")\n",
    "else:\n",
    "    print(\"nahi hai bbhai kya kr raha.....\")"
   ]
  },
  {
   "cell_type": "code",
   "execution_count": null,
   "metadata": {},
   "outputs": [],
   "source": [
    "## runner \n",
    "obj = myclass(name=\"shubham\").get_name()\n",
    "print(obj)\n",
    "\n",
    "#### check if obj is instance of myclass\n",
    "\n",
    "if isinstance(obj, myclass):\n",
    "    print(\"yes it is instance of myclass.. samz gaya kya....\")\n",
    "else:\n",
    "    print(\"nahi hai bbhai kya kr raha.....\")"
   ]
  },
  {
   "cell_type": "code",
   "execution_count": 55,
   "metadata": {},
   "outputs": [
    {
     "name": "stdout",
     "output_type": "stream",
     "text": [
      "<__main__.myclass object at 0x00000198096D1788>\n",
      "yes it is instance of myclass....\n"
     ]
    }
   ],
   "source": [
    "## also use to check if variable is instance of perticular class\n",
    "\n",
    "'''obj is not an instance of myclass. The reason is that the get_name() method in your myclass class\n",
    " returns the result of the print(self.name) statement, which is None. Therefore, obj ends up being assigned the value None, \n",
    "and when you check its type using isinstance(obj, myclass), it evaluates to False.'''\n",
    "\n",
    "class myclass():\n",
    "    def __init__(self, name) -> None:\n",
    "        self.name = name\n",
    "    def get_name(self):\n",
    "        pass\n",
    "       \n",
    "\n",
    "\n",
    "## runner \n",
    "obj = myclass(name=\"shubham\")\n",
    "print(obj)\n",
    "\n",
    "#### check if obj is instance of myclass\n",
    "\n",
    "if isinstance(obj, myclass):\n",
    "    print(\"yes it is instance of myclass....\")\n",
    "else:\n",
    "    print(\"nahi hai bbhai kya kr raha.....\")"
   ]
  },
  {
   "cell_type": "code",
   "execution_count": 56,
   "metadata": {},
   "outputs": [
    {
     "name": "stdout",
     "output_type": "stream",
     "text": [
      "Variable is an instance of MyClass\n"
     ]
    }
   ],
   "source": [
    "class MyClass:\n",
    "    pass\n",
    "\n",
    "# Creating an instance of MyClass\n",
    "obj = MyClass()\n",
    "\n",
    "# Using isinstance to check if the variable is an instance of a specific class\n",
    "if isinstance(obj, MyClass):\n",
    "    print(\"Variable is an instance of MyClass\")\n",
    "else:\n",
    "    print(\"Variable is not an instance of MyClass\")"
   ]
  },
  {
   "cell_type": "markdown",
   "metadata": {},
   "source": [
    "## LOOPS"
   ]
  },
  {
   "cell_type": "code",
   "execution_count": 57,
   "metadata": {},
   "outputs": [
    {
     "name": "stdout",
     "output_type": "stream",
     "text": [
      "sh\n",
      "sh\n",
      "sh\n",
      "sh\n"
     ]
    }
   ],
   "source": [
    "# for loop\n",
    "# while loop\n",
    "\n",
    "\n",
    "## print 4 time \"sh\"\n",
    "for i in range(0,4):\n",
    "    print('sh')"
   ]
  },
  {
   "cell_type": "code",
   "execution_count": 59,
   "metadata": {},
   "outputs": [
    {
     "name": "stdout",
     "output_type": "stream",
     "text": [
      "sh\n",
      "sh\n",
      "sh\n",
      "sh\n"
     ]
    }
   ],
   "source": [
    "## print 4 time \"sh\" using while loop\n",
    "## While loop should have end statement always otherwise it'll run infinity times, & ur terminal get crashed\n",
    "\n",
    "n=0\n",
    "while n < 4:\n",
    "    print('sh')\n",
    "    n+=1"
   ]
  },
  {
   "cell_type": "code",
   "execution_count": 67,
   "metadata": {},
   "outputs": [
    {
     "name": "stdout",
     "output_type": "stream",
     "text": [
      "5 X     1 = 5\n",
      "5 X     2 = 10\n",
      "5 X     3 = 15\n",
      "5 X     4 = 20\n",
      "5 X     5 = 25\n",
      "5 X     6 = 30\n",
      "5 X     7 = 35\n",
      "5 X     8 = 40\n",
      "5 X     9 = 45\n",
      "5 X    10 = 50\n"
     ]
    }
   ],
   "source": [
    "## get the 5 table using for loop \n",
    "\n",
    "def get_table(num):\n",
    "    for i in range(1,11):\n",
    "        print(f\"{num} X {i:5} = {num * i }\")\n",
    "\n",
    "get_table(5)"
   ]
  },
  {
   "cell_type": "code",
   "execution_count": 69,
   "metadata": {},
   "outputs": [
    {
     "name": "stdout",
     "output_type": "stream",
     "text": [
      "5 X     1 = 5\n",
      "5 X     2 = 10\n",
      "5 X     3 = 15\n",
      "5 X     4 = 20\n",
      "5 X     5 = 25\n",
      "5 X     6 = 30\n",
      "5 X     7 = 35\n",
      "5 X     8 = 40\n",
      "5 X     9 = 45\n",
      "5 X    10 = 50\n"
     ]
    }
   ],
   "source": [
    "# using while loop\n",
    "def get_tab(num):\n",
    "    n = 1\n",
    "    while n <= 10:\n",
    "        print(f\"{num} X {n:5} = {num * n }\")\n",
    "        n+=1\n",
    "get_tab(5)"
   ]
  },
  {
   "cell_type": "code",
   "execution_count": 71,
   "metadata": {},
   "outputs": [
    {
     "data": {
      "text/plain": [
       "True"
      ]
     },
     "execution_count": 71,
     "metadata": {},
     "output_type": "execute_result"
    }
   ],
   "source": [
    "def is_prime(number):\n",
    "    if number < 2:\n",
    "        return False\n",
    "    for i in range(2, number):\n",
    "        if number % i == 0:\n",
    "            return False\n",
    "    return True\n",
    "\n",
    "is_prime(2)"
   ]
  },
  {
   "cell_type": "code",
   "execution_count": 72,
   "metadata": {},
   "outputs": [
    {
     "data": {
      "text/plain": [
       "False"
      ]
     },
     "execution_count": 72,
     "metadata": {},
     "output_type": "execute_result"
    }
   ],
   "source": [
    "is_prime(16)"
   ]
  },
  {
   "cell_type": "code",
   "execution_count": 73,
   "metadata": {},
   "outputs": [
    {
     "name": "stdout",
     "output_type": "stream",
     "text": [
      "17 is a prime number.\n"
     ]
    }
   ],
   "source": [
    "## get prime\n",
    "\n",
    "def is_prime(number):\n",
    "    if number < 2:\n",
    "        return False\n",
    "    for i in range(2, int(number**0.5) + 1):  # squre root taken: optimized\n",
    "        if number % i == 0:\n",
    "            return False\n",
    "    return True\n",
    "\n",
    "# Example usage\n",
    "num_to_check = 17\n",
    "\n",
    "if is_prime(num_to_check):\n",
    "    print(f\"{num_to_check} is a prime number.\")\n",
    "else:\n",
    "    print(f\"{num_to_check} is not a prime number.\")"
   ]
  },
  {
   "cell_type": "code",
   "execution_count": 85,
   "metadata": {},
   "outputs": [
    {
     "name": "stdout",
     "output_type": "stream",
     "text": [
      "120\n",
      "1\n",
      "1\n"
     ]
    }
   ],
   "source": [
    "# get fact \n",
    "\n",
    "def get_fact(num):\n",
    "    temp = 1 \n",
    "    for i in range(2,num+1):\n",
    "        temp = temp*i\n",
    "    print(temp)\n",
    "\n",
    "## get fact \n",
    "get_fact(5)\n",
    "get_fact(1)\n",
    "get_fact(0)\n"
   ]
  },
  {
   "cell_type": "code",
   "execution_count": 86,
   "metadata": {},
   "outputs": [],
   "source": [
    "for i in range(2,1):\n",
    "    print(i)"
   ]
  },
  {
   "cell_type": "code",
   "execution_count": 87,
   "metadata": {},
   "outputs": [
    {
     "ename": "TypeError",
     "evalue": "unsupported operand type(s) for *: 'int' and 'NoneType'",
     "output_type": "error",
     "traceback": [
      "\u001b[1;31m---------------------------------------------------------------------------\u001b[0m",
      "\u001b[1;31mTypeError\u001b[0m                                 Traceback (most recent call last)",
      "\u001b[1;32m~\\AppData\\Local\\Temp\\ipykernel_15236\\3608364388.py\u001b[0m in \u001b[0;36m<module>\u001b[1;34m\u001b[0m\n\u001b[1;32m----> 1\u001b[1;33m \u001b[1;36m2\u001b[0m\u001b[1;33m*\u001b[0m\u001b[1;32mNone\u001b[0m\u001b[1;33m\u001b[0m\u001b[1;33m\u001b[0m\u001b[0m\n\u001b[0m",
      "\u001b[1;31mTypeError\u001b[0m: unsupported operand type(s) for *: 'int' and 'NoneType'"
     ]
    }
   ],
   "source": [
    "2*None"
   ]
  },
  {
   "cell_type": "code",
   "execution_count": 79,
   "metadata": {},
   "outputs": [
    {
     "data": {
      "text/plain": [
       "(120, 1, 1, 2)"
      ]
     },
     "execution_count": 79,
     "metadata": {},
     "output_type": "execute_result"
    }
   ],
   "source": [
    "## using recurrsion\n",
    "\n",
    "def get_fact(n):\n",
    "    if n == 0  or n==1:\n",
    "        return 1\n",
    "    else:\n",
    "        return n * get_fact(n-1)\n",
    "\n",
    "get_fact(5),get_fact(0),get_fact(1),get_fact(2)"
   ]
  },
  {
   "cell_type": "code",
   "execution_count": null,
   "metadata": {},
   "outputs": [],
   "source": [
    "a = [1,2,3,4]\n"
   ]
  },
  {
   "cell_type": "markdown",
   "metadata": {},
   "source": [
    "# * Character"
   ]
  },
  {
   "cell_type": "code",
   "execution_count": 91,
   "metadata": {},
   "outputs": [
    {
     "data": {
      "text/plain": [
       "(1, [2, 3, 4, 5])"
      ]
     },
     "execution_count": 91,
     "metadata": {},
     "output_type": "execute_result"
    }
   ],
   "source": [
    "a = [1,2,3,4,5]\n",
    "\n",
    "start, *rest = a\n",
    "start,rest"
   ]
  },
  {
   "cell_type": "code",
   "execution_count": 94,
   "metadata": {},
   "outputs": [
    {
     "data": {
      "text/plain": [
       "(1, [2, 3, 4], 5)"
      ]
     },
     "execution_count": 94,
     "metadata": {},
     "output_type": "execute_result"
    }
   ],
   "source": [
    "values = [1, 2, 3, 4, 5]\n",
    "\n",
    "start, *med, end = values\n",
    "\n",
    "start, med , end"
   ]
  },
  {
   "cell_type": "code",
   "execution_count": 99,
   "metadata": {},
   "outputs": [
    {
     "name": "stdout",
     "output_type": "stream",
     "text": [
      "1 2 3\n"
     ]
    }
   ],
   "source": [
    "def hey(a,b,*,c):\n",
    "    print(a,b,c)\n",
    "\n",
    "## print\n",
    "\n",
    "hey(1,2,c=3)"
   ]
  },
  {
   "cell_type": "code",
   "execution_count": 101,
   "metadata": {},
   "outputs": [
    {
     "ename": "TypeError",
     "evalue": "hey() takes 2 positional arguments but 3 were given",
     "output_type": "error",
     "traceback": [
      "\u001b[1;31m---------------------------------------------------------------------------\u001b[0m",
      "\u001b[1;31mTypeError\u001b[0m                                 Traceback (most recent call last)",
      "\u001b[1;32m~\\AppData\\Local\\Temp\\ipykernel_15236\\1012045670.py\u001b[0m in \u001b[0;36m<module>\u001b[1;34m\u001b[0m\n\u001b[0;32m      1\u001b[0m \u001b[1;31m# This will raise a TypeError\u001b[0m\u001b[1;33m\u001b[0m\u001b[1;33m\u001b[0m\u001b[1;33m\u001b[0m\u001b[0m\n\u001b[1;32m----> 2\u001b[1;33m \u001b[0mhey\u001b[0m\u001b[1;33m(\u001b[0m\u001b[1;36m1\u001b[0m\u001b[1;33m,\u001b[0m \u001b[1;36m2\u001b[0m\u001b[1;33m,\u001b[0m \u001b[1;36m3\u001b[0m\u001b[1;33m)\u001b[0m\u001b[1;33m\u001b[0m\u001b[1;33m\u001b[0m\u001b[0m\n\u001b[0m",
      "\u001b[1;31mTypeError\u001b[0m: hey() takes 2 positional arguments but 3 were given"
     ]
    }
   ],
   "source": [
    "# This will raise a TypeError\n",
    "hey(1, 2, 3)"
   ]
  },
  {
   "cell_type": "code",
   "execution_count": null,
   "metadata": {},
   "outputs": [],
   "source": []
  },
  {
   "cell_type": "markdown",
   "metadata": {},
   "source": [
    "# File I/O"
   ]
  },
  {
   "cell_type": "code",
   "execution_count": 105,
   "metadata": {},
   "outputs": [
    {
     "data": {
      "text/plain": [
       "'Hey thsi is the file\\nhow you doing\\nAre you crazy\\nBe always happy'"
      ]
     },
     "execution_count": 105,
     "metadata": {},
     "output_type": "execute_result"
    }
   ],
   "source": [
    "#\n",
    "\n",
    "with open(\"./main.txt\", mode=\"r\") as f:\n",
    "    content = f.read() ## read all content i file\n",
    "    f.close()\n",
    "\n",
    "content"
   ]
  },
  {
   "cell_type": "code",
   "execution_count": 109,
   "metadata": {},
   "outputs": [
    {
     "data": {
      "text/plain": [
       "'Hey thsi is the file\\n'"
      ]
     },
     "execution_count": 109,
     "metadata": {},
     "output_type": "execute_result"
    }
   ],
   "source": [
    "with open(\"./main.txt\", mode=\"r\") as f:\n",
    "    content = f.readline() ## read singe line\n",
    "    f.close()\n",
    "\n",
    "content"
   ]
  },
  {
   "cell_type": "code",
   "execution_count": 110,
   "metadata": {},
   "outputs": [
    {
     "data": {
      "text/plain": [
       "['Hey thsi is the file\\n',\n",
       " 'how you doing\\n',\n",
       " 'Are you crazy\\n',\n",
       " 'Be always happy']"
      ]
     },
     "execution_count": 110,
     "metadata": {},
     "output_type": "execute_result"
    }
   ],
   "source": [
    "with open(\"./main.txt\", mode=\"r\") as f:\n",
    "    content = f.readlines() ## read muliple lines\n",
    "    f.close()\n",
    "\n",
    "content"
   ]
  },
  {
   "cell_type": "code",
   "execution_count": 112,
   "metadata": {},
   "outputs": [
    {
     "data": {
      "text/plain": [
       "['Hey thsi is the file\\n',\n",
       " 'how you doing\\n',\n",
       " 'Are you crazy\\n',\n",
       " 'Be always happy']"
      ]
     },
     "execution_count": 112,
     "metadata": {},
     "output_type": "execute_result"
    }
   ],
   "source": [
    "content"
   ]
  },
  {
   "cell_type": "code",
   "execution_count": 113,
   "metadata": {},
   "outputs": [
    {
     "ename": "TypeError",
     "evalue": "write() argument must be str, not list",
     "output_type": "error",
     "traceback": [
      "\u001b[1;31m---------------------------------------------------------------------------\u001b[0m",
      "\u001b[1;31mTypeError\u001b[0m                                 Traceback (most recent call last)",
      "\u001b[1;32m~\\AppData\\Local\\Temp\\ipykernel_15236\\1658353976.py\u001b[0m in \u001b[0;36m<module>\u001b[1;34m\u001b[0m\n\u001b[0;32m      2\u001b[0m \u001b[1;33m\u001b[0m\u001b[0m\n\u001b[0;32m      3\u001b[0m \u001b[1;32mwith\u001b[0m \u001b[0mopen\u001b[0m\u001b[1;33m(\u001b[0m\u001b[1;34m\"./copy.txt\"\u001b[0m\u001b[1;33m,\u001b[0m \u001b[0mmode\u001b[0m\u001b[1;33m=\u001b[0m\u001b[1;34m\"w\"\u001b[0m\u001b[1;33m)\u001b[0m \u001b[1;32mas\u001b[0m \u001b[0mf\u001b[0m \u001b[1;33m:\u001b[0m\u001b[1;33m\u001b[0m\u001b[1;33m\u001b[0m\u001b[0m\n\u001b[1;32m----> 4\u001b[1;33m     \u001b[0mf\u001b[0m\u001b[1;33m.\u001b[0m\u001b[0mwrite\u001b[0m\u001b[1;33m(\u001b[0m\u001b[0mcontent\u001b[0m\u001b[1;33m)\u001b[0m \u001b[1;31m## content of main.py file\u001b[0m\u001b[1;33m\u001b[0m\u001b[1;33m\u001b[0m\u001b[0m\n\u001b[0m\u001b[0;32m      5\u001b[0m     \u001b[0mf\u001b[0m\u001b[1;33m.\u001b[0m\u001b[0mclose\u001b[0m\u001b[1;33m(\u001b[0m\u001b[1;33m)\u001b[0m \u001b[1;31m# close the file\u001b[0m\u001b[1;33m\u001b[0m\u001b[1;33m\u001b[0m\u001b[0m\n\u001b[0;32m      6\u001b[0m \u001b[1;33m\u001b[0m\u001b[0m\n",
      "\u001b[1;31mTypeError\u001b[0m: write() argument must be str, not list"
     ]
    }
   ],
   "source": [
    "## creat the copy of main.txt with name \"copy.txt\"\n",
    "\n",
    "with open(\"./copy.txt\", mode=\"w\") as f :\n",
    "    f.write(content) ## content of main.py file\n",
    "    f.close() # close the file\n",
    "\n",
    "\n",
    "# with open(\"./copy.txt\", mode=\"r\") as f:\n",
    "#     content = f.readlines() ## read muliple lines\n",
    "#     f.close()\n",
    "\n",
    "# content"
   ]
  },
  {
   "cell_type": "code",
   "execution_count": 115,
   "metadata": {},
   "outputs": [
    {
     "name": "stdout",
     "output_type": "stream",
     "text": [
      "['Hey thsi is the file\\n', 'how you doing\\n', 'Are you crazy\\n', 'Be always happy']\n"
     ]
    }
   ],
   "source": [
    "\n",
    "with open(\"./main.txt\", mode=\"r\") as f:\n",
    "    content = f.read() ## read all content i file\n",
    "    f.close()\n",
    "## creat the copy of main.txt with name \"copy.txt\"\n",
    "\n",
    "with open(\"./copy.txt\", mode=\"w\") as f :\n",
    "    f.write(content) ## content of main.py file\n",
    "    f.close() # close the file\n",
    "\n",
    "with open(\"./copy.txt\", mode=\"r\") as f:\n",
    "    content = f.readlines() ## read muliple lines\n",
    "    f.close()\n",
    "\n",
    "print(content)"
   ]
  },
  {
   "cell_type": "code",
   "execution_count": 116,
   "metadata": {},
   "outputs": [],
   "source": [
    "import os\n",
    "# rename copy.txt to renamed.txt\n",
    "\n",
    "os.rename(\"./copy.txt\", \"./renamed.txt\")"
   ]
  },
  {
   "cell_type": "code",
   "execution_count": 118,
   "metadata": {},
   "outputs": [
    {
     "data": {
      "text/plain": [
       "['day1_python.ipynb', 'day2_python.ipynb', 'main.txt', 'renamed.txt']"
      ]
     },
     "execution_count": 118,
     "metadata": {},
     "output_type": "execute_result"
    }
   ],
   "source": [
    "os.listdir(\"./\")"
   ]
  },
  {
   "cell_type": "code",
   "execution_count": 119,
   "metadata": {},
   "outputs": [],
   "source": [
    "## delete the file\n",
    "os.remove(\"./renamed.txt\")"
   ]
  },
  {
   "cell_type": "code",
   "execution_count": 122,
   "metadata": {},
   "outputs": [
    {
     "data": {
      "text/plain": [
       "(8,\n",
       " ['c:\\\\Users\\\\Dell\\\\.conda\\\\envs\\\\analysis',\n",
       "  'C:\\\\Users\\\\Dell\\\\.conda\\\\envs\\\\analysis',\n",
       "  'C:\\\\Users\\\\Dell\\\\.conda\\\\envs\\\\analysis\\\\Library\\\\mingw-w64\\\\bin',\n",
       "  'C:\\\\Users\\\\Dell\\\\.conda\\\\envs\\\\analysis\\\\Library\\\\usr\\\\bin',\n",
       "  'C:\\\\Users\\\\Dell\\\\.conda\\\\envs\\\\analysis\\\\Library\\\\bin',\n",
       "  'C:\\\\Users\\\\Dell\\\\.conda\\\\envs\\\\analysis\\\\Scripts',\n",
       "  'C:\\\\Users\\\\Dell\\\\.conda\\\\envs\\\\analysis\\\\bin',\n",
       "  'C:\\\\ProgramData\\\\Anaconda3',\n",
       "  'C:\\\\ProgramData\\\\Anaconda3\\\\Library\\\\mingw-w64\\\\bin',\n",
       "  'C:\\\\ProgramData\\\\Anaconda3\\\\Library\\\\usr\\\\bin',\n",
       "  'C:\\\\ProgramData\\\\Anaconda3\\\\Library\\\\bin',\n",
       "  'C:\\\\ProgramData\\\\Anaconda3\\\\Scripts',\n",
       "  'C:\\\\ProgramData\\\\Anaconda3\\\\bin',\n",
       "  'C:\\\\ProgramData\\\\Anaconda3\\\\condabin',\n",
       "  'C:\\\\Users\\\\Dell\\\\bin',\n",
       "  'C:\\\\Program Files\\\\Git\\\\mingw64\\\\bin',\n",
       "  'C:\\\\Program Files\\\\Git\\\\usr\\\\local\\\\bin',\n",
       "  'C:\\\\Program Files\\\\Git\\\\usr\\\\bin',\n",
       "  'C:\\\\Program Files\\\\Git\\\\usr\\\\bin',\n",
       "  'C:\\\\Program Files\\\\Git\\\\mingw64\\\\bin',\n",
       "  'C:\\\\Program Files\\\\Git\\\\usr\\\\bin',\n",
       "  'C:\\\\Users\\\\Dell\\\\bin',\n",
       "  'C:\\\\Windows\\\\system32',\n",
       "  'C:\\\\Windows',\n",
       "  'C:\\\\Windows\\\\System32\\\\Wbem',\n",
       "  'C:\\\\Windows\\\\System32\\\\WindowsPowerShell\\\\v1.0',\n",
       "  'C:\\\\Windows\\\\System32\\\\OpenSSH',\n",
       "  'C:\\\\Program Files\\\\Git\\\\cmd',\n",
       "  'C:\\\\Program Files\\\\PuTTY',\n",
       "  'C:\\\\Users\\\\Dell\\\\AppData\\\\Local\\\\Programs\\\\Microsoft VS Code\\\\bin',\n",
       "  'C:\\\\Program Files\\\\Microsoft SQL Server\\\\Client SDK\\\\ODBC\\\\170\\\\Tools\\\\Binn',\n",
       "  'C:\\\\Program Files (x86)\\\\Microsoft SQL Server\\\\150\\\\Tools\\\\Binn',\n",
       "  'C:\\\\Program Files\\\\Microsoft SQL Server\\\\150\\\\Tools\\\\Binn',\n",
       "  'C:\\\\Program Files\\\\Microsoft SQL Server\\\\150\\\\DTS\\\\Binn',\n",
       "  'C:\\\\Program Files (x86)\\\\Microsoft SQL Server\\\\150\\\\DTS\\\\Binn',\n",
       "  'C:\\\\Program Files\\\\Azure Data Studio\\\\bin',\n",
       "  'C:\\\\Program Files\\\\Dart\\\\dart-sdk\\\\bin',\n",
       "  'C:\\\\Program Files\\\\Docker\\\\Docker\\\\resources\\\\bin',\n",
       "  'C:\\\\Users\\\\Dell\\\\AppData\\\\Local\\\\Microsoft\\\\WindowsApps',\n",
       "  'C:\\\\Windows\\\\SysWOW64',\n",
       "  'C:\\\\ProgramData\\\\Anaconda3',\n",
       "  'C:\\\\ProgramData\\\\Anaconda3',\n",
       "  'C:\\\\ProgramData\\\\Anaconda3\\\\Scripts',\n",
       "  'C:\\\\Users\\\\Dell\\\\AppData\\\\Local\\\\Programs\\\\Microsoft VS Code\\\\bin',\n",
       "  'C:\\\\Users\\\\Dell\\\\AppData\\\\Local\\\\Programs\\\\Microsoft VS Code',\n",
       "  'C:\\\\Program Files\\\\Azure Data Studio\\\\bin',\n",
       "  'C:\\\\Program Files\\\\Dart\\\\dart-sdk\\\\bin',\n",
       "  'C:\\\\Program Files\\\\Git\\\\usr\\\\bin\\\\vendor_perl',\n",
       "  'C:\\\\Program Files\\\\Git\\\\usr\\\\bin\\\\core_perl'])"
      ]
     },
     "execution_count": 122,
     "metadata": {},
     "output_type": "execute_result"
    }
   ],
   "source": [
    "os.cpu_count(), os.get_exec_path()"
   ]
  }
 ],
 "metadata": {
  "kernelspec": {
   "display_name": "analysis",
   "language": "python",
   "name": "python3"
  },
  "language_info": {
   "codemirror_mode": {
    "name": "ipython",
    "version": 3
   },
   "file_extension": ".py",
   "mimetype": "text/x-python",
   "name": "python",
   "nbconvert_exporter": "python",
   "pygments_lexer": "ipython3",
   "version": "3.7.13"
  }
 },
 "nbformat": 4,
 "nbformat_minor": 2
}
