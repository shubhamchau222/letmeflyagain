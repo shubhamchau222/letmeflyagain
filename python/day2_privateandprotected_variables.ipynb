{
 "cells": [
  {
   "cell_type": "code",
   "execution_count": 2,
   "metadata": {},
   "outputs": [],
   "source": [
    "# private public and protected\n",
    "# there is no any concept the private & protectd in python \n",
    "# one can get the variable details"
   ]
  },
  {
   "cell_type": "markdown",
   "metadata": {},
   "source": [
    "# Protected variables _Shubham\n"
   ]
  },
  {
   "cell_type": "code",
   "execution_count": 3,
   "metadata": {},
   "outputs": [],
   "source": [
    "# prtected abstraction  starts with prefix '_' like 'self._name' \n",
    "\n",
    "class person:\n",
    "    def __init__(self , name , surname , bod:int ) -> None:\n",
    "        self._name = name \n",
    "        self._surname = surname \n",
    "        self.bod = bod \n",
    "\n",
    "    def display(self):\n",
    "        print(self._name , self._surname , self._bod)"
   ]
  },
  {
   "cell_type": "code",
   "execution_count": 4,
   "metadata": {},
   "outputs": [
    {
     "name": "stdout",
     "output_type": "stream",
     "text": [
      "shubham chaudhari 4150\n"
     ]
    }
   ],
   "source": [
    "alec = person('shubham', 'chaudhari' , 4150)\n",
    "alec.display()\n"
   ]
  },
  {
   "cell_type": "code",
   "execution_count": 6,
   "metadata": {},
   "outputs": [
    {
     "name": "stdout",
     "output_type": "stream",
     "text": [
      "chaudhari\n"
     ]
    }
   ],
   "source": [
    "print(alec._surname)    # How to access protected abstraction / variable "
   ]
  },
  {
   "cell_type": "code",
   "execution_count": 8,
   "metadata": {},
   "outputs": [
    {
     "data": {
      "text/plain": [
       "4526"
      ]
     },
     "execution_count": 8,
     "metadata": {},
     "output_type": "execute_result"
    }
   ],
   "source": [
    "alec._bod =4526 \n",
    "alec._bod"
   ]
  },
  {
   "cell_type": "code",
   "execution_count": 9,
   "metadata": {},
   "outputs": [
    {
     "data": {
      "text/plain": [
       "{'_name': 'shubham', '_surname': 'chaudhari', '_bod': 4526}"
      ]
     },
     "execution_count": 9,
     "metadata": {},
     "output_type": "execute_result"
    }
   ],
   "source": [
    "alec.__dict__"
   ]
  },
  {
   "cell_type": "markdown",
   "metadata": {},
   "source": [
    "# Private Variables __variable"
   ]
  },
  {
   "cell_type": "code",
   "execution_count": 13,
   "metadata": {},
   "outputs": [],
   "source": [
    "# Private variables : starts with '__\" <double under-score> like :  \"self.__name\"\n",
    " \n",
    "class student :\n",
    "    def __init__(self , name , surname , bod:int , clg:str ) -> None:\n",
    "        self.__name = name    # private variable \n",
    "        self.__surname = surname # private variable \n",
    "        self.__bod = bod # private variable \n",
    "        self.clg = clg \n",
    "        self.__hobby = \"playing cricket\"\n",
    "\n",
    "    def display(self):\n",
    "        print(self.__name , self.__surname , self.__bod)\n",
    "\n",
    "    def __str__(self) -> str:\n",
    "        return f\"person name is {self.__name , self.__surname} \""
   ]
  },
  {
   "cell_type": "code",
   "execution_count": 14,
   "metadata": {},
   "outputs": [
    {
     "name": "stdout",
     "output_type": "stream",
     "text": [
      "shubham chaudharui 7777\n"
     ]
    }
   ],
   "source": [
    "alex = student('shubham','chaudharui',7777 , 'ineuron')\n",
    "alex.display()"
   ]
  },
  {
   "cell_type": "code",
   "execution_count": 16,
   "metadata": {},
   "outputs": [
    {
     "ename": "AttributeError",
     "evalue": "'student' object has no attribute '__name'",
     "output_type": "error",
     "traceback": [
      "\u001b[1;31m---------------------------------------------------------------------------\u001b[0m",
      "\u001b[1;31mAttributeError\u001b[0m                            Traceback (most recent call last)",
      "\u001b[1;32m~\\AppData\\Local\\Temp\\ipykernel_16324\\678473131.py\u001b[0m in \u001b[0;36m<module>\u001b[1;34m\u001b[0m\n\u001b[1;32m----> 1\u001b[1;33m \u001b[0malex\u001b[0m\u001b[1;33m.\u001b[0m\u001b[0m__name\u001b[0m\u001b[1;33m\u001b[0m\u001b[1;33m\u001b[0m\u001b[0m\n\u001b[0m",
      "\u001b[1;31mAttributeError\u001b[0m: 'student' object has no attribute '__name'"
     ]
    }
   ],
   "source": [
    "alex.__name"
   ]
  },
  {
   "cell_type": "code",
   "execution_count": 15,
   "metadata": {},
   "outputs": [
    {
     "ename": "AttributeError",
     "evalue": "'student' object has no attribute '__hobby'",
     "output_type": "error",
     "traceback": [
      "\u001b[1;31m---------------------------------------------------------------------------\u001b[0m",
      "\u001b[1;31mAttributeError\u001b[0m                            Traceback (most recent call last)",
      "\u001b[1;32m~\\AppData\\Local\\Temp\\ipykernel_16324\\1376486070.py\u001b[0m in \u001b[0;36m<module>\u001b[1;34m\u001b[0m\n\u001b[1;32m----> 1\u001b[1;33m \u001b[0malex\u001b[0m\u001b[1;33m.\u001b[0m\u001b[0m__hobby\u001b[0m\u001b[1;33m\u001b[0m\u001b[1;33m\u001b[0m\u001b[0m\n\u001b[0m",
      "\u001b[1;31mAttributeError\u001b[0m: 'student' object has no attribute '__hobby'"
     ]
    }
   ],
   "source": [
    "alex.__hobby"
   ]
  },
  {
   "cell_type": "code",
   "execution_count": 17,
   "metadata": {},
   "outputs": [
    {
     "data": {
      "text/plain": [
       "{'_student__name': 'shubham',\n",
       " '_student__surname': 'chaudharui',\n",
       " '_student__bod': 7777,\n",
       " 'clg': 'ineuron',\n",
       " '_student__hobby': 'playing cricket'}"
      ]
     },
     "execution_count": 17,
     "metadata": {},
     "output_type": "execute_result"
    }
   ],
   "source": [
    "alex.__dict__ # to get the all private variables "
   ]
  },
  {
   "cell_type": "code",
   "execution_count": null,
   "metadata": {},
   "outputs": [],
   "source": []
  }
 ],
 "metadata": {
  "kernelspec": {
   "display_name": "analysis",
   "language": "python",
   "name": "python3"
  },
  "language_info": {
   "codemirror_mode": {
    "name": "ipython",
    "version": 3
   },
   "file_extension": ".py",
   "mimetype": "text/x-python",
   "name": "python",
   "nbconvert_exporter": "python",
   "pygments_lexer": "ipython3",
   "version": "3.7.13"
  }
 },
 "nbformat": 4,
 "nbformat_minor": 2
}
