{
 "cells": [
  {
   "cell_type": "code",
   "execution_count": 1,
   "metadata": {},
   "outputs": [
    {
     "ename": "SyntaxError",
     "evalue": "non-default argument follows default argument (2876813847.py, line 1)",
     "output_type": "error",
     "traceback": [
      "\u001b[1;36m  File \u001b[1;32m\"C:\\Users\\Dell\\AppData\\Local\\Temp\\ipykernel_3216\\2876813847.py\"\u001b[1;36m, line \u001b[1;32m1\u001b[0m\n\u001b[1;33m    def fun(a,b,c=2,d):\u001b[0m\n\u001b[1;37m           ^\u001b[0m\n\u001b[1;31mSyntaxError\u001b[0m\u001b[1;31m:\u001b[0m non-default argument follows default argument\n"
     ]
    }
   ],
   "source": [
    "def fun(a,b,c=2,d):\n",
    "    print(a,b,c,d)\n",
    "\n",
    "fun(1,2,3,4)"
   ]
  },
  {
   "cell_type": "code",
   "execution_count": 2,
   "metadata": {},
   "outputs": [
    {
     "name": "stdout",
     "output_type": "stream",
     "text": [
      "1 2 4 3\n"
     ]
    }
   ],
   "source": [
    "def fun(a,b,d,c=2):\n",
    "    print(a,b,c,d)\n",
    "\n",
    "fun(1,2,3,4)"
   ]
  },
  {
   "cell_type": "markdown",
   "metadata": {},
   "source": [
    "# Inheritance"
   ]
  },
  {
   "cell_type": "code",
   "execution_count": 62,
   "metadata": {},
   "outputs": [
    {
     "name": "stdout",
     "output_type": "stream",
     "text": [
      "Father name Joe & Age is 25\n",
      "FAther jon is :  Employee\n"
     ]
    }
   ],
   "source": [
    "class father:\n",
    "    father_job = \"Employee\"\n",
    "    def __init__(self, father_age, father_name) -> None:\n",
    "        self.father_age = father_age\n",
    "        self.father_name = father_name\n",
    "\n",
    "    def getFatherDetails(self):\n",
    "        print(f\"Father name {self.father_name} & Age is {self.father_age}\")\n",
    "\n",
    "    @staticmethod\n",
    "    def getFatherjob():\n",
    "        print(\"FAther jon is : \", father.father_job)\n",
    "        # print(\"FAther jon is : \", self.father_job) # will not work\n",
    "\n",
    "a =father(\"25\" , \"Joe\")\n",
    "a.getFatherDetails(),a.getFatherjob()\n",
    "       \n",
    "\n",
    "class Child(father):\n",
    "    def __init__(self, student_name,*args) -> None:\n",
    "        super(Child,self).__init__(*args) # to connect child method with the parent class\n",
    "        self.student_name =student_name \n",
    "\n",
    "    def displayChildDetails(self):\n",
    "        print( \n",
    "            f\"\"\"The Child Name is {self.student_name} \\n \n",
    "            his Father name is {self.father_age} \\n\n",
    "            age of {self.father_name} Who work as {Child.father_job}\n",
    "            \"\"\"        \n",
    "        )\n"
   ]
  },
  {
   "cell_type": "code",
   "execution_count": 66,
   "metadata": {},
   "outputs": [
    {
     "name": "stdout",
     "output_type": "stream",
     "text": [
      " Error : Need to provide Father class details also..\n"
     ]
    }
   ],
   "source": [
    "try:\n",
    "    a = Child(\"Rajnish\") # parent class need to be intialized first\n",
    "except Exception as e :\n",
    "    print(\" Error : Need to provide Father class details also..\")\n",
    "    "
   ]
  },
  {
   "cell_type": "code",
   "execution_count": 64,
   "metadata": {},
   "outputs": [
    {
     "name": "stdout",
     "output_type": "stream",
     "text": [
      "Father name 40 & Age is Hemakant\n"
     ]
    }
   ],
   "source": [
    "a = Child(\"Raju\", \"Hemakant\", 40)\n",
    "a.getFatherDetails()  # you can call parent method using child class "
   ]
  },
  {
   "cell_type": "code",
   "execution_count": 65,
   "metadata": {},
   "outputs": [
    {
     "name": "stdout",
     "output_type": "stream",
     "text": [
      "FAther jon is :  Employee\n"
     ]
    }
   ],
   "source": [
    "a.getFatherjob() # you can call static method of parent using child methods"
   ]
  },
  {
   "cell_type": "code",
   "execution_count": 58,
   "metadata": {},
   "outputs": [
    {
     "name": "stdout",
     "output_type": "stream",
     "text": [
      "The Child Name is Raju \n",
      " \n",
      "            his Father name is Hemakant \n",
      "\n",
      "            age of 40 Who work as Employee\n"
     ]
    }
   ],
   "source": [
    "## call child method \n",
    "a.displayChildDetails()"
   ]
  },
  {
   "cell_type": "markdown",
   "metadata": {},
   "source": [
    "## get help"
   ]
  },
  {
   "cell_type": "code",
   "execution_count": 68,
   "metadata": {},
   "outputs": [
    {
     "name": "stdout",
     "output_type": "stream",
     "text": [
      "Help on class Child in module __main__:\n",
      "\n",
      "class Child(father)\n",
      " |  Child(student_name, *args) -> None\n",
      " |  \n",
      " |  Method resolution order:\n",
      " |      Child\n",
      " |      father\n",
      " |      builtins.object\n",
      " |  \n",
      " |  Methods defined here:\n",
      " |  \n",
      " |  __init__(self, student_name, *args) -> None\n",
      " |      Initialize self.  See help(type(self)) for accurate signature.\n",
      " |  \n",
      " |  displayChildDetails(self)\n",
      " |  \n",
      " |  ----------------------------------------------------------------------\n",
      " |  Methods inherited from father:\n",
      " |  \n",
      " |  getFatherDetails(self)\n",
      " |  \n",
      " |  ----------------------------------------------------------------------\n",
      " |  Static methods inherited from father:\n",
      " |  \n",
      " |  getFatherjob()\n",
      " |  \n",
      " |  ----------------------------------------------------------------------\n",
      " |  Data descriptors inherited from father:\n",
      " |  \n",
      " |  __dict__\n",
      " |      dictionary for instance variables (if defined)\n",
      " |  \n",
      " |  __weakref__\n",
      " |      list of weak references to the object (if defined)\n",
      " |  \n",
      " |  ----------------------------------------------------------------------\n",
      " |  Data and other attributes inherited from father:\n",
      " |  \n",
      " |  father_job = 'Employee'\n",
      "\n"
     ]
    }
   ],
   "source": [
    "help(Child)"
   ]
  },
  {
   "cell_type": "code",
   "execution_count": 67,
   "metadata": {},
   "outputs": [
    {
     "name": "stdout",
     "output_type": "stream",
     "text": [
      "Child name is John  having parents name  Alex \n",
      "Parents name is  Alex \n",
      "True\n",
      "True\n",
      "False\n"
     ]
    }
   ],
   "source": [
    "\n",
    "# parents class \n",
    "class parent:\n",
    "    def __init__(self , dady_name ):\n",
    "        self.dady_name = dady_name \n",
    "\n",
    "    def display_dady (self):\n",
    "        print(f'Parents name is {self.dady_name}')\n",
    "\n",
    "\n",
    "\n",
    "# child class \n",
    "\n",
    "class child(parent):\n",
    "    def __init__(self, student_name , *args):\n",
    "        super(child , self ).__init__(*args)    # to connect child method with the parent class\n",
    "       \n",
    "        self.student_name = student_name   # let's define the class varibles for the child class \n",
    "\n",
    "    def display_child(self):\n",
    "        print(f\"Child name is {self.student_name} having parents name {self.dady_name}\")\n",
    "\n",
    "\n",
    "########## Driver Code  \n",
    "\n",
    "alec = child('John ' , ' Alex ')\n",
    "alec.display_child()\n",
    "alec.display_dady()        \n",
    "\n",
    "print(isinstance(alec , child ))\n",
    "print(isinstance(alec , parent ))\n",
    "\n",
    "print(isinstance(alec.dady_name , child ))  # parent class varible can't be a instance of child class "
   ]
  },
  {
   "cell_type": "code",
   "execution_count": 69,
   "metadata": {},
   "outputs": [],
   "source": [
    "# Example : 2  Without Using Super Method \n",
    "\n",
    "\n",
    "class university:\n",
    "    def __init__(self , uni_name , uni_reg_year ):\n",
    "        self.uni_name = uni_name \n",
    "        self.uni_name = uni_reg_year \n",
    "\n",
    "\n",
    "    def display_uni(self):\n",
    "        print(f\"university  name is {self.uni_name} and Foundend in year {self.uni_name}\")\n",
    "        # print(\"Hello\")\n",
    "\n",
    "# child class\n",
    "\n",
    "class clg(university):\n",
    "    def __init__(self, uni_name) :\n",
    "        # super().__init__(uni_name, uni_reg_year)\n",
    "        university.__init__(self , uni_name)     # if we want to access only one element from parent class "
   ]
  },
  {
   "cell_type": "code",
   "execution_count": null,
   "metadata": {},
   "outputs": [],
   "source": []
  },
  {
   "cell_type": "markdown",
   "metadata": {},
   "source": [
    "## Overwriting"
   ]
  },
  {
   "cell_type": "code",
   "execution_count": 71,
   "metadata": {},
   "outputs": [],
   "source": [
    "class father:\n",
    "    father_job = \"Employee\"\n",
    "    def __init__(self, father_age, father_name) -> None:\n",
    "        self.father_age = father_age\n",
    "        self.father_name = father_name\n",
    "\n",
    "    def getFatherDetails(self):\n",
    "        print(f\"Father name {self.father_name} & Age is {self.father_age}\")\n",
    "\n",
    "    def get_hobby(self):\n",
    "        print(\"Fahter like to play cricket\")\n",
    "\n",
    "    @staticmethod\n",
    "    def getFatherjob():\n",
    "        print(\"FAther jon is : \", father.father_job)\n",
    "        # print(\"FAther jon is : \", self.father_job) # will not work\n",
    "\n",
    "# a =father(\"25\" , \"Joe\")\n",
    "# a.getFatherDetails(),a.getFatherjob()\n",
    "       \n",
    "\n",
    "class Child(father):\n",
    "    def __init__(self, student_name,*args) -> None:\n",
    "        super(Child,self).__init__(*args) # to connect child method with the parent class\n",
    "        self.student_name =student_name \n",
    "\n",
    "    def displayChildDetails(self):\n",
    "        print( \n",
    "            f\"\"\"The Child Name is {self.student_name} \\n \n",
    "            his Father name is {self.father_age} \\n\n",
    "            age of {self.father_name} Who work as {Child.father_job}\n",
    "            \"\"\"        \n",
    "        )\n",
    "\n",
    "    def get_hobby(self):\n",
    "        print(\"Child  like to play cricket\")\n"
   ]
  },
  {
   "cell_type": "code",
   "execution_count": 72,
   "metadata": {},
   "outputs": [
    {
     "name": "stdout",
     "output_type": "stream",
     "text": [
      "Fahter like to play cricket\n"
     ]
    }
   ],
   "source": [
    "aa = Child(\"Raju\", \"Hemakant\", 40)\n",
    "a.get_hobby() "
   ]
  },
  {
   "cell_type": "code",
   "execution_count": 73,
   "metadata": {},
   "outputs": [],
   "source": [
    "## type of inharitence \n",
    "\n",
    "\n",
    "# Multiple inheritence  a , b -> c \n",
    "# Multi level inheritence  a -> b -> c "
   ]
  },
  {
   "cell_type": "code",
   "execution_count": null,
   "metadata": {},
   "outputs": [],
   "source": []
  }
 ],
 "metadata": {
  "kernelspec": {
   "display_name": "analysis",
   "language": "python",
   "name": "python3"
  },
  "language_info": {
   "codemirror_mode": {
    "name": "ipython",
    "version": 3
   },
   "file_extension": ".py",
   "mimetype": "text/x-python",
   "name": "python",
   "nbconvert_exporter": "python",
   "pygments_lexer": "ipython3",
   "version": "3.7.13"
  }
 },
 "nbformat": 4,
 "nbformat_minor": 2
}
